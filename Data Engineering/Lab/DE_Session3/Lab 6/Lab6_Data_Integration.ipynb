{
 "cells": [
  {
   "cell_type": "markdown",
   "metadata": {
    "id": "bALfFrc8TWlH"
   },
   "source": [
    "# Data Integration"
   ]
  },
  {
   "cell_type": "markdown",
   "metadata": {
    "id": "1UpnIx_dTZ0n"
   },
   "source": [
    "Data integration is a set of processes used to retrieve and combine data from separated sources into meaningful and valuable information. A complete data integration solution delivers trusted data from a variety of sources. Analytics methodologies can then be applied to the integrated data, to produce meaningful insights. \n"
   ]
  },
  {
   "cell_type": "markdown",
   "metadata": {
    "id": "z-zQZjk5Tgn-"
   },
   "source": [
    "In Pandas there are different functions that can help us do that easily which are\n",
    "\n",
    "*   `pd.merge()`,for combining data on common columns or indices.\n",
    "*   `DataFrame.join()`,  for combining data on a key column or an index\n",
    "*   `pd.concat()`,for combining DataFrames across rows or columns"
   ]
  },
  {
   "cell_type": "code",
   "execution_count": 1,
   "metadata": {
    "id": "4mc2UOihTgQf"
   },
   "outputs": [],
   "source": [
    "import pandas as pd"
   ]
  },
  {
   "cell_type": "markdown",
   "metadata": {
    "id": "FTP9ab_bTm0O"
   },
   "source": [
    "In this exercise, we'll merge the details of students from two datasets, namely `student.csv` and `marks.csv`. The student dataset contains columns such as *Age*, *Gender*, *Grade*, and *Employed*. The `marks.csv` dataset contains columns such as *Mark* and *City*. **The *Student_id* column is common between the two datasets.**\n",
    "\n",
    "The `student.csv` dataset:  https://github.com/TrainingByPackt/Data-Science-with-Python/blob/master/Chapter01/Data/student.csv\n",
    "\n",
    "The `marks.csv` dataset:  https://github.com/TrainingByPackt/Data-Science-with-Python/blob/master/Chapter01/Data/mark.csv\n",
    " "
   ]
  },
  {
   "cell_type": "markdown",
   "metadata": {
    "id": "_9sE8uztvKhH"
   },
   "source": [
    "Let's first inspect our datasets."
   ]
  },
  {
   "cell_type": "code",
   "execution_count": 2,
   "metadata": {
    "colab": {
     "base_uri": "https://localhost:8080/",
     "height": 206
    },
    "id": "x8lCAz9xcNRv",
    "outputId": "33f638b6-902d-41d0-b527-2465cdf8ff16"
   },
   "outputs": [
    {
     "data": {
      "text/html": [
       "<div>\n",
       "<style scoped>\n",
       "    .dataframe tbody tr th:only-of-type {\n",
       "        vertical-align: middle;\n",
       "    }\n",
       "\n",
       "    .dataframe tbody tr th {\n",
       "        vertical-align: top;\n",
       "    }\n",
       "\n",
       "    .dataframe thead th {\n",
       "        text-align: right;\n",
       "    }\n",
       "</style>\n",
       "<table border=\"1\" class=\"dataframe\">\n",
       "  <thead>\n",
       "    <tr style=\"text-align: right;\">\n",
       "      <th></th>\n",
       "      <th>Student_id</th>\n",
       "      <th>Age</th>\n",
       "      <th>Gender</th>\n",
       "      <th>Grade</th>\n",
       "      <th>Employed</th>\n",
       "    </tr>\n",
       "  </thead>\n",
       "  <tbody>\n",
       "    <tr>\n",
       "      <th>0</th>\n",
       "      <td>1</td>\n",
       "      <td>19</td>\n",
       "      <td>Male</td>\n",
       "      <td>1st Class</td>\n",
       "      <td>yes</td>\n",
       "    </tr>\n",
       "    <tr>\n",
       "      <th>1</th>\n",
       "      <td>2</td>\n",
       "      <td>20</td>\n",
       "      <td>Female</td>\n",
       "      <td>2nd Class</td>\n",
       "      <td>no</td>\n",
       "    </tr>\n",
       "    <tr>\n",
       "      <th>2</th>\n",
       "      <td>3</td>\n",
       "      <td>18</td>\n",
       "      <td>Male</td>\n",
       "      <td>1st Class</td>\n",
       "      <td>no</td>\n",
       "    </tr>\n",
       "    <tr>\n",
       "      <th>3</th>\n",
       "      <td>4</td>\n",
       "      <td>21</td>\n",
       "      <td>Female</td>\n",
       "      <td>2nd Class</td>\n",
       "      <td>no</td>\n",
       "    </tr>\n",
       "    <tr>\n",
       "      <th>4</th>\n",
       "      <td>5</td>\n",
       "      <td>19</td>\n",
       "      <td>Male</td>\n",
       "      <td>1st Class</td>\n",
       "      <td>no</td>\n",
       "    </tr>\n",
       "  </tbody>\n",
       "</table>\n",
       "</div>"
      ],
      "text/plain": [
       "   Student_id  Age  Gender      Grade Employed\n",
       "0           1   19    Male  1st Class      yes\n",
       "1           2   20  Female  2nd Class       no\n",
       "2           3   18    Male  1st Class       no\n",
       "3           4   21  Female  2nd Class       no\n",
       "4           5   19    Male  1st Class       no"
      ]
     },
     "execution_count": 2,
     "metadata": {},
     "output_type": "execute_result"
    }
   ],
   "source": [
    "df_students = pd.read_csv('https://raw.githubusercontent.com/TrainingByPackt/Data-Science-with-Python/master/Chapter01/Data/student.csv')\n",
    "df_students.head()"
   ]
  },
  {
   "cell_type": "code",
   "execution_count": 3,
   "metadata": {
    "colab": {
     "base_uri": "https://localhost:8080/",
     "height": 206
    },
    "id": "gKkRBwX0uJkr",
    "outputId": "f1eb9514-63d6-4fa7-ef88-0b5b69a62cc9"
   },
   "outputs": [
    {
     "data": {
      "text/html": [
       "<div>\n",
       "<style scoped>\n",
       "    .dataframe tbody tr th:only-of-type {\n",
       "        vertical-align: middle;\n",
       "    }\n",
       "\n",
       "    .dataframe tbody tr th {\n",
       "        vertical-align: top;\n",
       "    }\n",
       "\n",
       "    .dataframe thead th {\n",
       "        text-align: right;\n",
       "    }\n",
       "</style>\n",
       "<table border=\"1\" class=\"dataframe\">\n",
       "  <thead>\n",
       "    <tr style=\"text-align: right;\">\n",
       "      <th></th>\n",
       "      <th>Student_id</th>\n",
       "      <th>Mark</th>\n",
       "      <th>City</th>\n",
       "    </tr>\n",
       "  </thead>\n",
       "  <tbody>\n",
       "    <tr>\n",
       "      <th>0</th>\n",
       "      <td>1</td>\n",
       "      <td>95</td>\n",
       "      <td>Chennai</td>\n",
       "    </tr>\n",
       "    <tr>\n",
       "      <th>1</th>\n",
       "      <td>2</td>\n",
       "      <td>70</td>\n",
       "      <td>Delhi</td>\n",
       "    </tr>\n",
       "    <tr>\n",
       "      <th>2</th>\n",
       "      <td>3</td>\n",
       "      <td>98</td>\n",
       "      <td>Mumbai</td>\n",
       "    </tr>\n",
       "    <tr>\n",
       "      <th>3</th>\n",
       "      <td>4</td>\n",
       "      <td>75</td>\n",
       "      <td>Pune</td>\n",
       "    </tr>\n",
       "    <tr>\n",
       "      <th>4</th>\n",
       "      <td>5</td>\n",
       "      <td>89</td>\n",
       "      <td>Kochi</td>\n",
       "    </tr>\n",
       "  </tbody>\n",
       "</table>\n",
       "</div>"
      ],
      "text/plain": [
       "   Student_id  Mark     City\n",
       "0           1    95  Chennai\n",
       "1           2    70    Delhi\n",
       "2           3    98   Mumbai\n",
       "3           4    75     Pune\n",
       "4           5    89    Kochi"
      ]
     },
     "execution_count": 3,
     "metadata": {},
     "output_type": "execute_result"
    }
   ],
   "source": [
    "df_marks = pd.read_csv('https://raw.githubusercontent.com/TrainingByPackt/Data-Science-with-Python/master/Chapter01/Data/mark.csv')\n",
    "df_marks.head()"
   ]
  },
  {
   "cell_type": "code",
   "execution_count": 4,
   "metadata": {
    "colab": {
     "base_uri": "https://localhost:8080/"
    },
    "id": "RuFR1xfHT3o9",
    "outputId": "9128b6d1-ca52-4161-9f74-f74f7c7c2314"
   },
   "outputs": [
    {
     "data": {
      "text/plain": [
       "(232, 5)"
      ]
     },
     "execution_count": 4,
     "metadata": {},
     "output_type": "execute_result"
    }
   ],
   "source": [
    "df_students.shape"
   ]
  },
  {
   "cell_type": "code",
   "execution_count": 5,
   "metadata": {
    "colab": {
     "base_uri": "https://localhost:8080/"
    },
    "id": "n0NjVZn-T76V",
    "outputId": "0bdd7b52-58c7-4803-b5cd-6a8a0721d860"
   },
   "outputs": [
    {
     "data": {
      "text/plain": [
       "(232, 3)"
      ]
     },
     "execution_count": 5,
     "metadata": {},
     "output_type": "execute_result"
    }
   ],
   "source": [
    "df_marks.shape"
   ]
  },
  {
   "cell_type": "markdown",
   "metadata": {
    "id": "Rp9WGjzjvUHJ"
   },
   "source": [
    "To integrate the above 2 datasets into 1 based on the student ID, you may use the `merge` function, and pass the dataframes you would like to integrate. The default behavior of the `merge` function is to perform an inner join using the intersection of the columns from both dataframes as the join keys."
   ]
  },
  {
   "cell_type": "code",
   "execution_count": 6,
   "metadata": {
    "colab": {
     "base_uri": "https://localhost:8080/",
     "height": 423
    },
    "id": "y4XFixtRvcEm",
    "outputId": "3e58c4dc-845f-4d77-962c-2f279751e557"
   },
   "outputs": [
    {
     "data": {
      "text/html": [
       "<div>\n",
       "<style scoped>\n",
       "    .dataframe tbody tr th:only-of-type {\n",
       "        vertical-align: middle;\n",
       "    }\n",
       "\n",
       "    .dataframe tbody tr th {\n",
       "        vertical-align: top;\n",
       "    }\n",
       "\n",
       "    .dataframe thead th {\n",
       "        text-align: right;\n",
       "    }\n",
       "</style>\n",
       "<table border=\"1\" class=\"dataframe\">\n",
       "  <thead>\n",
       "    <tr style=\"text-align: right;\">\n",
       "      <th></th>\n",
       "      <th>Student_id</th>\n",
       "      <th>Age</th>\n",
       "      <th>Gender</th>\n",
       "      <th>Grade</th>\n",
       "      <th>Employed</th>\n",
       "      <th>Mark</th>\n",
       "      <th>City</th>\n",
       "    </tr>\n",
       "  </thead>\n",
       "  <tbody>\n",
       "    <tr>\n",
       "      <th>0</th>\n",
       "      <td>1</td>\n",
       "      <td>19</td>\n",
       "      <td>Male</td>\n",
       "      <td>1st Class</td>\n",
       "      <td>yes</td>\n",
       "      <td>95</td>\n",
       "      <td>Chennai</td>\n",
       "    </tr>\n",
       "    <tr>\n",
       "      <th>1</th>\n",
       "      <td>2</td>\n",
       "      <td>20</td>\n",
       "      <td>Female</td>\n",
       "      <td>2nd Class</td>\n",
       "      <td>no</td>\n",
       "      <td>70</td>\n",
       "      <td>Delhi</td>\n",
       "    </tr>\n",
       "    <tr>\n",
       "      <th>2</th>\n",
       "      <td>3</td>\n",
       "      <td>18</td>\n",
       "      <td>Male</td>\n",
       "      <td>1st Class</td>\n",
       "      <td>no</td>\n",
       "      <td>98</td>\n",
       "      <td>Mumbai</td>\n",
       "    </tr>\n",
       "    <tr>\n",
       "      <th>3</th>\n",
       "      <td>4</td>\n",
       "      <td>21</td>\n",
       "      <td>Female</td>\n",
       "      <td>2nd Class</td>\n",
       "      <td>no</td>\n",
       "      <td>75</td>\n",
       "      <td>Pune</td>\n",
       "    </tr>\n",
       "    <tr>\n",
       "      <th>4</th>\n",
       "      <td>5</td>\n",
       "      <td>19</td>\n",
       "      <td>Male</td>\n",
       "      <td>1st Class</td>\n",
       "      <td>no</td>\n",
       "      <td>89</td>\n",
       "      <td>Kochi</td>\n",
       "    </tr>\n",
       "    <tr>\n",
       "      <th>...</th>\n",
       "      <td>...</td>\n",
       "      <td>...</td>\n",
       "      <td>...</td>\n",
       "      <td>...</td>\n",
       "      <td>...</td>\n",
       "      <td>...</td>\n",
       "      <td>...</td>\n",
       "    </tr>\n",
       "    <tr>\n",
       "      <th>227</th>\n",
       "      <td>228</td>\n",
       "      <td>21</td>\n",
       "      <td>Female</td>\n",
       "      <td>1st Class</td>\n",
       "      <td>no</td>\n",
       "      <td>99</td>\n",
       "      <td>Pune</td>\n",
       "    </tr>\n",
       "    <tr>\n",
       "      <th>228</th>\n",
       "      <td>229</td>\n",
       "      <td>20</td>\n",
       "      <td>Male</td>\n",
       "      <td>2nd Class</td>\n",
       "      <td>no</td>\n",
       "      <td>70</td>\n",
       "      <td>Chennai</td>\n",
       "    </tr>\n",
       "    <tr>\n",
       "      <th>229</th>\n",
       "      <td>230</td>\n",
       "      <td>20</td>\n",
       "      <td>Male</td>\n",
       "      <td>3rd Class</td>\n",
       "      <td>yes</td>\n",
       "      <td>55</td>\n",
       "      <td>Delhi</td>\n",
       "    </tr>\n",
       "    <tr>\n",
       "      <th>230</th>\n",
       "      <td>231</td>\n",
       "      <td>19</td>\n",
       "      <td>Female</td>\n",
       "      <td>1st Class</td>\n",
       "      <td>yes</td>\n",
       "      <td>97</td>\n",
       "      <td>Mumbai</td>\n",
       "    </tr>\n",
       "    <tr>\n",
       "      <th>231</th>\n",
       "      <td>232</td>\n",
       "      <td>20</td>\n",
       "      <td>Male</td>\n",
       "      <td>3rd Class</td>\n",
       "      <td>yes</td>\n",
       "      <td>59</td>\n",
       "      <td>Pune</td>\n",
       "    </tr>\n",
       "  </tbody>\n",
       "</table>\n",
       "<p>232 rows × 7 columns</p>\n",
       "</div>"
      ],
      "text/plain": [
       "     Student_id  Age  Gender      Grade Employed  Mark     City\n",
       "0             1   19    Male  1st Class      yes    95  Chennai\n",
       "1             2   20  Female  2nd Class       no    70    Delhi\n",
       "2             3   18    Male  1st Class       no    98   Mumbai\n",
       "3             4   21  Female  2nd Class       no    75     Pune\n",
       "4             5   19    Male  1st Class       no    89    Kochi\n",
       "..          ...  ...     ...        ...      ...   ...      ...\n",
       "227         228   21  Female  1st Class       no    99     Pune\n",
       "228         229   20    Male  2nd Class       no    70  Chennai\n",
       "229         230   20    Male  3rd Class      yes    55    Delhi\n",
       "230         231   19  Female  1st Class      yes    97   Mumbai\n",
       "231         232   20    Male  3rd Class      yes    59     Pune\n",
       "\n",
       "[232 rows x 7 columns]"
      ]
     },
     "execution_count": 6,
     "metadata": {},
     "output_type": "execute_result"
    }
   ],
   "source": [
    "df = pd.merge(df_students, df_marks)\n",
    "df"
   ]
  },
  {
   "cell_type": "markdown",
   "metadata": {
    "id": "Z03P0JkZxF7M"
   },
   "source": [
    "The `pd.merge()` function recognizes that each DataFrame has an *Student_id* column, and automatically joins using this column as a key. The result of the merge is a new DataFrame that combines the information from the two inputs.\n",
    "\n",
    "Even though, this dataset has ordered entries in both datasets, it is not necessairly that the order of entries in each column should be maintained: in this case, if the order of the *Student_id* column differs between df_students and df_marks, and the `pd.merge()` function would have correctly accounted for this.\n",
    "\n",
    "Additionally, keep in mind that the merge in general discards the index, except in the special case of merges by index (see the left_index and right_index keywords, discussed momentarily)."
   ]
  },
  {
   "cell_type": "markdown",
   "metadata": {
    "id": "oM1a-ulLf7Rq"
   },
   "source": [
    "Now that we get an essence of how `pd.merge()` works. Let's dive in into the different types of joins in `pd.merge()`."
   ]
  },
  {
   "cell_type": "markdown",
   "metadata": {
    "id": "kwn8hKKdUpF8"
   },
   "source": [
    "## pd.merge() Relationship Types\n",
    "\n",
    "The `pd.merge()` function implements a number of types of integrations: the *one-to-one*, *many-to-one*, and *many-to-many*.\n",
    "All three types are accessed via an identical call to the `pd.merge()` interface; the type of integration performed depends on the form of the input data.\n",
    "Here we will show simple examples of the three types of merges, and discuss detailed options further below."
   ]
  },
  {
   "cell_type": "markdown",
   "metadata": {
    "id": "hY-aJRS6U3J7"
   },
   "source": [
    "### One-to-one Integration\n",
    "\n",
    "Perhaps the simplest type of merge expresion is the one-to-one integration, which is in many ways very similar to the column-wise concatenation.\n",
    "\n",
    "As a concrete example, consider the following two `DataFrames` which contain information on several employees in a company:"
   ]
  },
  {
   "cell_type": "code",
   "execution_count": 7,
   "metadata": {
    "colab": {
     "base_uri": "https://localhost:8080/",
     "height": 332
    },
    "id": "j6nH7DOjTFGj",
    "outputId": "d78479b1-b2bd-4411-da92-0de7b13d83ac"
   },
   "outputs": [
    {
     "data": {
      "text/html": [
       "<div>\n",
       "<style scoped>\n",
       "    .dataframe tbody tr th:only-of-type {\n",
       "        vertical-align: middle;\n",
       "    }\n",
       "\n",
       "    .dataframe tbody tr th {\n",
       "        vertical-align: top;\n",
       "    }\n",
       "\n",
       "    .dataframe thead th {\n",
       "        text-align: right;\n",
       "    }\n",
       "</style>\n",
       "<table border=\"1\" class=\"dataframe\">\n",
       "  <thead>\n",
       "    <tr style=\"text-align: right;\">\n",
       "      <th></th>\n",
       "      <th>employee</th>\n",
       "      <th>group</th>\n",
       "    </tr>\n",
       "  </thead>\n",
       "  <tbody>\n",
       "    <tr>\n",
       "      <th>0</th>\n",
       "      <td>Bob</td>\n",
       "      <td>Accounting</td>\n",
       "    </tr>\n",
       "    <tr>\n",
       "      <th>1</th>\n",
       "      <td>Jake</td>\n",
       "      <td>Engineering</td>\n",
       "    </tr>\n",
       "    <tr>\n",
       "      <th>2</th>\n",
       "      <td>Lisa</td>\n",
       "      <td>Engineering</td>\n",
       "    </tr>\n",
       "    <tr>\n",
       "      <th>3</th>\n",
       "      <td>Sue</td>\n",
       "      <td>HR</td>\n",
       "    </tr>\n",
       "  </tbody>\n",
       "</table>\n",
       "</div>"
      ],
      "text/plain": [
       "  employee        group\n",
       "0      Bob   Accounting\n",
       "1     Jake  Engineering\n",
       "2     Lisa  Engineering\n",
       "3      Sue           HR"
      ]
     },
     "metadata": {},
     "output_type": "display_data"
    },
    {
     "data": {
      "text/html": [
       "<div>\n",
       "<style scoped>\n",
       "    .dataframe tbody tr th:only-of-type {\n",
       "        vertical-align: middle;\n",
       "    }\n",
       "\n",
       "    .dataframe tbody tr th {\n",
       "        vertical-align: top;\n",
       "    }\n",
       "\n",
       "    .dataframe thead th {\n",
       "        text-align: right;\n",
       "    }\n",
       "</style>\n",
       "<table border=\"1\" class=\"dataframe\">\n",
       "  <thead>\n",
       "    <tr style=\"text-align: right;\">\n",
       "      <th></th>\n",
       "      <th>employee</th>\n",
       "      <th>hire_date</th>\n",
       "    </tr>\n",
       "  </thead>\n",
       "  <tbody>\n",
       "    <tr>\n",
       "      <th>0</th>\n",
       "      <td>Lisa</td>\n",
       "      <td>2004</td>\n",
       "    </tr>\n",
       "    <tr>\n",
       "      <th>1</th>\n",
       "      <td>Bob</td>\n",
       "      <td>2008</td>\n",
       "    </tr>\n",
       "    <tr>\n",
       "      <th>2</th>\n",
       "      <td>Jake</td>\n",
       "      <td>2012</td>\n",
       "    </tr>\n",
       "    <tr>\n",
       "      <th>3</th>\n",
       "      <td>Sue</td>\n",
       "      <td>2014</td>\n",
       "    </tr>\n",
       "  </tbody>\n",
       "</table>\n",
       "</div>"
      ],
      "text/plain": [
       "  employee  hire_date\n",
       "0     Lisa       2004\n",
       "1      Bob       2008\n",
       "2     Jake       2012\n",
       "3      Sue       2014"
      ]
     },
     "metadata": {},
     "output_type": "display_data"
    }
   ],
   "source": [
    "df_employees = pd.DataFrame({'employee': ['Bob', 'Jake', 'Lisa', 'Sue'],\n",
    "                    'group': ['Accounting', 'Engineering', 'Engineering', 'HR']})\n",
    "df_employees_hire_date = pd.DataFrame({'employee': ['Lisa', 'Bob', 'Jake', 'Sue'],\n",
    "                    'hire_date': [2004, 2008, 2012, 2014]})\n",
    "display(df_employees, df_employees_hire_date)"
   ]
  },
  {
   "cell_type": "markdown",
   "metadata": {
    "id": "Bt7JYCm4U9na"
   },
   "source": [
    "Remeber `pd.concat` is so similar to pd.merge one-to-one integrations. However, the order should be be maintained in both dataframes that are to be merged. Therefore, you will find that the below concat doesn't really do what we intended to do."
   ]
  },
  {
   "cell_type": "code",
   "execution_count": 8,
   "metadata": {
    "colab": {
     "base_uri": "https://localhost:8080/",
     "height": 174
    },
    "id": "1mshFEQ0U4Yy",
    "outputId": "b835d7d9-2857-4ebb-fd2f-79fafc9671a0"
   },
   "outputs": [
    {
     "data": {
      "text/html": [
       "<div>\n",
       "<style scoped>\n",
       "    .dataframe tbody tr th:only-of-type {\n",
       "        vertical-align: middle;\n",
       "    }\n",
       "\n",
       "    .dataframe tbody tr th {\n",
       "        vertical-align: top;\n",
       "    }\n",
       "\n",
       "    .dataframe thead th {\n",
       "        text-align: right;\n",
       "    }\n",
       "</style>\n",
       "<table border=\"1\" class=\"dataframe\">\n",
       "  <thead>\n",
       "    <tr style=\"text-align: right;\">\n",
       "      <th></th>\n",
       "      <th>employee</th>\n",
       "      <th>group</th>\n",
       "      <th>employee</th>\n",
       "      <th>hire_date</th>\n",
       "    </tr>\n",
       "  </thead>\n",
       "  <tbody>\n",
       "    <tr>\n",
       "      <th>0</th>\n",
       "      <td>Bob</td>\n",
       "      <td>Accounting</td>\n",
       "      <td>Lisa</td>\n",
       "      <td>2004</td>\n",
       "    </tr>\n",
       "    <tr>\n",
       "      <th>1</th>\n",
       "      <td>Jake</td>\n",
       "      <td>Engineering</td>\n",
       "      <td>Bob</td>\n",
       "      <td>2008</td>\n",
       "    </tr>\n",
       "    <tr>\n",
       "      <th>2</th>\n",
       "      <td>Lisa</td>\n",
       "      <td>Engineering</td>\n",
       "      <td>Jake</td>\n",
       "      <td>2012</td>\n",
       "    </tr>\n",
       "    <tr>\n",
       "      <th>3</th>\n",
       "      <td>Sue</td>\n",
       "      <td>HR</td>\n",
       "      <td>Sue</td>\n",
       "      <td>2014</td>\n",
       "    </tr>\n",
       "  </tbody>\n",
       "</table>\n",
       "</div>"
      ],
      "text/plain": [
       "  employee        group employee  hire_date\n",
       "0      Bob   Accounting     Lisa       2004\n",
       "1     Jake  Engineering      Bob       2008\n",
       "2     Lisa  Engineering     Jake       2012\n",
       "3      Sue           HR      Sue       2014"
      ]
     },
     "execution_count": 8,
     "metadata": {},
     "output_type": "execute_result"
    }
   ],
   "source": [
    "pd.concat([df_employees, df_employees_hire_date],axis=1)"
   ]
  },
  {
   "cell_type": "markdown",
   "metadata": {
    "id": "YJ6ZtF-MVEnZ"
   },
   "source": [
    "Hence, we will go with `pd.merge()` to merge the above datasets."
   ]
  },
  {
   "cell_type": "code",
   "execution_count": 9,
   "metadata": {
    "colab": {
     "base_uri": "https://localhost:8080/",
     "height": 174
    },
    "id": "Zotygd8wVC3x",
    "outputId": "5f8d65f9-3dd1-463c-c24f-3f7dde0cd70b"
   },
   "outputs": [
    {
     "data": {
      "text/html": [
       "<div>\n",
       "<style scoped>\n",
       "    .dataframe tbody tr th:only-of-type {\n",
       "        vertical-align: middle;\n",
       "    }\n",
       "\n",
       "    .dataframe tbody tr th {\n",
       "        vertical-align: top;\n",
       "    }\n",
       "\n",
       "    .dataframe thead th {\n",
       "        text-align: right;\n",
       "    }\n",
       "</style>\n",
       "<table border=\"1\" class=\"dataframe\">\n",
       "  <thead>\n",
       "    <tr style=\"text-align: right;\">\n",
       "      <th></th>\n",
       "      <th>employee</th>\n",
       "      <th>group</th>\n",
       "      <th>hire_date</th>\n",
       "    </tr>\n",
       "  </thead>\n",
       "  <tbody>\n",
       "    <tr>\n",
       "      <th>0</th>\n",
       "      <td>Bob</td>\n",
       "      <td>Accounting</td>\n",
       "      <td>2008</td>\n",
       "    </tr>\n",
       "    <tr>\n",
       "      <th>1</th>\n",
       "      <td>Jake</td>\n",
       "      <td>Engineering</td>\n",
       "      <td>2012</td>\n",
       "    </tr>\n",
       "    <tr>\n",
       "      <th>2</th>\n",
       "      <td>Lisa</td>\n",
       "      <td>Engineering</td>\n",
       "      <td>2004</td>\n",
       "    </tr>\n",
       "    <tr>\n",
       "      <th>3</th>\n",
       "      <td>Sue</td>\n",
       "      <td>HR</td>\n",
       "      <td>2014</td>\n",
       "    </tr>\n",
       "  </tbody>\n",
       "</table>\n",
       "</div>"
      ],
      "text/plain": [
       "  employee        group  hire_date\n",
       "0      Bob   Accounting       2008\n",
       "1     Jake  Engineering       2012\n",
       "2     Lisa  Engineering       2004\n",
       "3      Sue           HR       2014"
      ]
     },
     "execution_count": 9,
     "metadata": {},
     "output_type": "execute_result"
    }
   ],
   "source": [
    "employees_one_to_one_df = pd.merge(df_employees, df_employees_hire_date)\n",
    "employees_one_to_one_df"
   ]
  },
  {
   "cell_type": "markdown",
   "metadata": {
    "id": "v4yedRr9-1Zs"
   },
   "source": [
    "### Many-to-one Integration\n",
    "Many-to-one integrations are integrations in which one of the two key columns contains duplicate entries. For the many-to-one case, the resulting DataFrame will preserve those duplicate entries as appropriate. Consider the following example of a many-to-one integration where we assign a supervisor to each employee based on *group*:"
   ]
  },
  {
   "cell_type": "code",
   "execution_count": 10,
   "metadata": {
    "colab": {
     "base_uri": "https://localhost:8080/",
     "height": 458
    },
    "id": "gVcwgO9dVHOb",
    "outputId": "16ef50c6-3d37-4961-e122-21b8b7cdbac7"
   },
   "outputs": [
    {
     "data": {
      "text/html": [
       "<div>\n",
       "<style scoped>\n",
       "    .dataframe tbody tr th:only-of-type {\n",
       "        vertical-align: middle;\n",
       "    }\n",
       "\n",
       "    .dataframe tbody tr th {\n",
       "        vertical-align: top;\n",
       "    }\n",
       "\n",
       "    .dataframe thead th {\n",
       "        text-align: right;\n",
       "    }\n",
       "</style>\n",
       "<table border=\"1\" class=\"dataframe\">\n",
       "  <thead>\n",
       "    <tr style=\"text-align: right;\">\n",
       "      <th></th>\n",
       "      <th>employee</th>\n",
       "      <th>group</th>\n",
       "      <th>hire_date</th>\n",
       "    </tr>\n",
       "  </thead>\n",
       "  <tbody>\n",
       "    <tr>\n",
       "      <th>0</th>\n",
       "      <td>Bob</td>\n",
       "      <td>Accounting</td>\n",
       "      <td>2008</td>\n",
       "    </tr>\n",
       "    <tr>\n",
       "      <th>1</th>\n",
       "      <td>Jake</td>\n",
       "      <td>Engineering</td>\n",
       "      <td>2012</td>\n",
       "    </tr>\n",
       "    <tr>\n",
       "      <th>2</th>\n",
       "      <td>Lisa</td>\n",
       "      <td>Engineering</td>\n",
       "      <td>2004</td>\n",
       "    </tr>\n",
       "    <tr>\n",
       "      <th>3</th>\n",
       "      <td>Sue</td>\n",
       "      <td>HR</td>\n",
       "      <td>2014</td>\n",
       "    </tr>\n",
       "  </tbody>\n",
       "</table>\n",
       "</div>"
      ],
      "text/plain": [
       "  employee        group  hire_date\n",
       "0      Bob   Accounting       2008\n",
       "1     Jake  Engineering       2012\n",
       "2     Lisa  Engineering       2004\n",
       "3      Sue           HR       2014"
      ]
     },
     "metadata": {},
     "output_type": "display_data"
    },
    {
     "data": {
      "text/html": [
       "<div>\n",
       "<style scoped>\n",
       "    .dataframe tbody tr th:only-of-type {\n",
       "        vertical-align: middle;\n",
       "    }\n",
       "\n",
       "    .dataframe tbody tr th {\n",
       "        vertical-align: top;\n",
       "    }\n",
       "\n",
       "    .dataframe thead th {\n",
       "        text-align: right;\n",
       "    }\n",
       "</style>\n",
       "<table border=\"1\" class=\"dataframe\">\n",
       "  <thead>\n",
       "    <tr style=\"text-align: right;\">\n",
       "      <th></th>\n",
       "      <th>group</th>\n",
       "      <th>supervisor</th>\n",
       "    </tr>\n",
       "  </thead>\n",
       "  <tbody>\n",
       "    <tr>\n",
       "      <th>0</th>\n",
       "      <td>Accounting</td>\n",
       "      <td>Carly</td>\n",
       "    </tr>\n",
       "    <tr>\n",
       "      <th>1</th>\n",
       "      <td>Engineering</td>\n",
       "      <td>Guido</td>\n",
       "    </tr>\n",
       "    <tr>\n",
       "      <th>2</th>\n",
       "      <td>HR</td>\n",
       "      <td>Steve</td>\n",
       "    </tr>\n",
       "  </tbody>\n",
       "</table>\n",
       "</div>"
      ],
      "text/plain": [
       "         group supervisor\n",
       "0   Accounting      Carly\n",
       "1  Engineering      Guido\n",
       "2           HR      Steve"
      ]
     },
     "metadata": {},
     "output_type": "display_data"
    },
    {
     "data": {
      "text/html": [
       "<div>\n",
       "<style scoped>\n",
       "    .dataframe tbody tr th:only-of-type {\n",
       "        vertical-align: middle;\n",
       "    }\n",
       "\n",
       "    .dataframe tbody tr th {\n",
       "        vertical-align: top;\n",
       "    }\n",
       "\n",
       "    .dataframe thead th {\n",
       "        text-align: right;\n",
       "    }\n",
       "</style>\n",
       "<table border=\"1\" class=\"dataframe\">\n",
       "  <thead>\n",
       "    <tr style=\"text-align: right;\">\n",
       "      <th></th>\n",
       "      <th>employee</th>\n",
       "      <th>group</th>\n",
       "      <th>hire_date</th>\n",
       "      <th>supervisor</th>\n",
       "    </tr>\n",
       "  </thead>\n",
       "  <tbody>\n",
       "    <tr>\n",
       "      <th>0</th>\n",
       "      <td>Bob</td>\n",
       "      <td>Accounting</td>\n",
       "      <td>2008</td>\n",
       "      <td>Carly</td>\n",
       "    </tr>\n",
       "    <tr>\n",
       "      <th>1</th>\n",
       "      <td>Jake</td>\n",
       "      <td>Engineering</td>\n",
       "      <td>2012</td>\n",
       "      <td>Guido</td>\n",
       "    </tr>\n",
       "    <tr>\n",
       "      <th>2</th>\n",
       "      <td>Lisa</td>\n",
       "      <td>Engineering</td>\n",
       "      <td>2004</td>\n",
       "      <td>Guido</td>\n",
       "    </tr>\n",
       "    <tr>\n",
       "      <th>3</th>\n",
       "      <td>Sue</td>\n",
       "      <td>HR</td>\n",
       "      <td>2014</td>\n",
       "      <td>Steve</td>\n",
       "    </tr>\n",
       "  </tbody>\n",
       "</table>\n",
       "</div>"
      ],
      "text/plain": [
       "  employee        group  hire_date supervisor\n",
       "0      Bob   Accounting       2008      Carly\n",
       "1     Jake  Engineering       2012      Guido\n",
       "2     Lisa  Engineering       2004      Guido\n",
       "3      Sue           HR       2014      Steve"
      ]
     },
     "metadata": {},
     "output_type": "display_data"
    }
   ],
   "source": [
    "group_supervisors_df = pd.DataFrame({'group': ['Accounting', 'Engineering', 'HR'],\n",
    "                    'supervisor': ['Carly', 'Guido', 'Steve']})\n",
    "display(employees_one_to_one_df, group_supervisors_df, pd.merge(employees_one_to_one_df, group_supervisors_df))"
   ]
  },
  {
   "cell_type": "markdown",
   "metadata": {
    "id": "daqQWAOVVhux"
   },
   "source": [
    "Note that the resulting dataset added a supervisor to each employee based on group. Therefore, we can find replicas of the same supervisor within the rows."
   ]
  },
  {
   "cell_type": "markdown",
   "metadata": {
    "id": "6rmjmReRVsUd"
   },
   "source": [
    "### Many-to-many Integration\n",
    "Many-to-many integrations are a bit confusing conceptually, but are nevertheless well defined. If the key column in both the left and right array contains duplicates, then the result is a many-to-many merge. This will be perhaps most clear with a concrete example. Consider the following, where we have a DataFrame showing one or more skills associated with a particular group. By performing a many-to-many integration, we can recover the skills associated with any individual person:"
   ]
  },
  {
   "cell_type": "code",
   "execution_count": 11,
   "metadata": {
    "colab": {
     "base_uri": "https://localhost:8080/",
     "height": 678
    },
    "id": "hbKLLGgNVj3R",
    "outputId": "b8781870-f4b9-4f8e-8b5f-4cdc2be9e3cc"
   },
   "outputs": [
    {
     "data": {
      "text/html": [
       "<div>\n",
       "<style scoped>\n",
       "    .dataframe tbody tr th:only-of-type {\n",
       "        vertical-align: middle;\n",
       "    }\n",
       "\n",
       "    .dataframe tbody tr th {\n",
       "        vertical-align: top;\n",
       "    }\n",
       "\n",
       "    .dataframe thead th {\n",
       "        text-align: right;\n",
       "    }\n",
       "</style>\n",
       "<table border=\"1\" class=\"dataframe\">\n",
       "  <thead>\n",
       "    <tr style=\"text-align: right;\">\n",
       "      <th></th>\n",
       "      <th>employee</th>\n",
       "      <th>group</th>\n",
       "    </tr>\n",
       "  </thead>\n",
       "  <tbody>\n",
       "    <tr>\n",
       "      <th>0</th>\n",
       "      <td>Bob</td>\n",
       "      <td>Accounting</td>\n",
       "    </tr>\n",
       "    <tr>\n",
       "      <th>1</th>\n",
       "      <td>Jake</td>\n",
       "      <td>Engineering</td>\n",
       "    </tr>\n",
       "    <tr>\n",
       "      <th>2</th>\n",
       "      <td>Lisa</td>\n",
       "      <td>Engineering</td>\n",
       "    </tr>\n",
       "    <tr>\n",
       "      <th>3</th>\n",
       "      <td>Sue</td>\n",
       "      <td>HR</td>\n",
       "    </tr>\n",
       "  </tbody>\n",
       "</table>\n",
       "</div>"
      ],
      "text/plain": [
       "  employee        group\n",
       "0      Bob   Accounting\n",
       "1     Jake  Engineering\n",
       "2     Lisa  Engineering\n",
       "3      Sue           HR"
      ]
     },
     "metadata": {},
     "output_type": "display_data"
    },
    {
     "data": {
      "text/html": [
       "<div>\n",
       "<style scoped>\n",
       "    .dataframe tbody tr th:only-of-type {\n",
       "        vertical-align: middle;\n",
       "    }\n",
       "\n",
       "    .dataframe tbody tr th {\n",
       "        vertical-align: top;\n",
       "    }\n",
       "\n",
       "    .dataframe thead th {\n",
       "        text-align: right;\n",
       "    }\n",
       "</style>\n",
       "<table border=\"1\" class=\"dataframe\">\n",
       "  <thead>\n",
       "    <tr style=\"text-align: right;\">\n",
       "      <th></th>\n",
       "      <th>group</th>\n",
       "      <th>skills</th>\n",
       "    </tr>\n",
       "  </thead>\n",
       "  <tbody>\n",
       "    <tr>\n",
       "      <th>0</th>\n",
       "      <td>Accounting</td>\n",
       "      <td>math</td>\n",
       "    </tr>\n",
       "    <tr>\n",
       "      <th>1</th>\n",
       "      <td>Accounting</td>\n",
       "      <td>spreadsheets</td>\n",
       "    </tr>\n",
       "    <tr>\n",
       "      <th>2</th>\n",
       "      <td>Engineering</td>\n",
       "      <td>coding</td>\n",
       "    </tr>\n",
       "    <tr>\n",
       "      <th>3</th>\n",
       "      <td>Engineering</td>\n",
       "      <td>linux</td>\n",
       "    </tr>\n",
       "    <tr>\n",
       "      <th>4</th>\n",
       "      <td>HR</td>\n",
       "      <td>spreadsheets</td>\n",
       "    </tr>\n",
       "    <tr>\n",
       "      <th>5</th>\n",
       "      <td>HR</td>\n",
       "      <td>organization</td>\n",
       "    </tr>\n",
       "  </tbody>\n",
       "</table>\n",
       "</div>"
      ],
      "text/plain": [
       "         group        skills\n",
       "0   Accounting          math\n",
       "1   Accounting  spreadsheets\n",
       "2  Engineering        coding\n",
       "3  Engineering         linux\n",
       "4           HR  spreadsheets\n",
       "5           HR  organization"
      ]
     },
     "metadata": {},
     "output_type": "display_data"
    },
    {
     "data": {
      "text/html": [
       "<div>\n",
       "<style scoped>\n",
       "    .dataframe tbody tr th:only-of-type {\n",
       "        vertical-align: middle;\n",
       "    }\n",
       "\n",
       "    .dataframe tbody tr th {\n",
       "        vertical-align: top;\n",
       "    }\n",
       "\n",
       "    .dataframe thead th {\n",
       "        text-align: right;\n",
       "    }\n",
       "</style>\n",
       "<table border=\"1\" class=\"dataframe\">\n",
       "  <thead>\n",
       "    <tr style=\"text-align: right;\">\n",
       "      <th></th>\n",
       "      <th>employee</th>\n",
       "      <th>group</th>\n",
       "      <th>skills</th>\n",
       "    </tr>\n",
       "  </thead>\n",
       "  <tbody>\n",
       "    <tr>\n",
       "      <th>0</th>\n",
       "      <td>Bob</td>\n",
       "      <td>Accounting</td>\n",
       "      <td>math</td>\n",
       "    </tr>\n",
       "    <tr>\n",
       "      <th>1</th>\n",
       "      <td>Bob</td>\n",
       "      <td>Accounting</td>\n",
       "      <td>spreadsheets</td>\n",
       "    </tr>\n",
       "    <tr>\n",
       "      <th>2</th>\n",
       "      <td>Jake</td>\n",
       "      <td>Engineering</td>\n",
       "      <td>coding</td>\n",
       "    </tr>\n",
       "    <tr>\n",
       "      <th>3</th>\n",
       "      <td>Jake</td>\n",
       "      <td>Engineering</td>\n",
       "      <td>linux</td>\n",
       "    </tr>\n",
       "    <tr>\n",
       "      <th>4</th>\n",
       "      <td>Lisa</td>\n",
       "      <td>Engineering</td>\n",
       "      <td>coding</td>\n",
       "    </tr>\n",
       "    <tr>\n",
       "      <th>5</th>\n",
       "      <td>Lisa</td>\n",
       "      <td>Engineering</td>\n",
       "      <td>linux</td>\n",
       "    </tr>\n",
       "    <tr>\n",
       "      <th>6</th>\n",
       "      <td>Sue</td>\n",
       "      <td>HR</td>\n",
       "      <td>spreadsheets</td>\n",
       "    </tr>\n",
       "    <tr>\n",
       "      <th>7</th>\n",
       "      <td>Sue</td>\n",
       "      <td>HR</td>\n",
       "      <td>organization</td>\n",
       "    </tr>\n",
       "  </tbody>\n",
       "</table>\n",
       "</div>"
      ],
      "text/plain": [
       "  employee        group        skills\n",
       "0      Bob   Accounting          math\n",
       "1      Bob   Accounting  spreadsheets\n",
       "2     Jake  Engineering        coding\n",
       "3     Jake  Engineering         linux\n",
       "4     Lisa  Engineering        coding\n",
       "5     Lisa  Engineering         linux\n",
       "6      Sue           HR  spreadsheets\n",
       "7      Sue           HR  organization"
      ]
     },
     "metadata": {},
     "output_type": "display_data"
    }
   ],
   "source": [
    "group_skills_df = pd.DataFrame({'group': ['Accounting', 'Accounting',\n",
    "                              'Engineering', 'Engineering', 'HR', 'HR'],\n",
    "                    'skills': ['math', 'spreadsheets', 'coding', 'linux',\n",
    "                               'spreadsheets', 'organization']})\n",
    "display(df_employees, group_skills_df, pd.merge(df_employees, group_skills_df))"
   ]
  },
  {
   "cell_type": "markdown",
   "metadata": {
    "id": "Ji_1FPRhV3-K"
   },
   "source": [
    "As you might have noticed, for each employee of a certain group, the skills of that group is added."
   ]
  },
  {
   "cell_type": "markdown",
   "metadata": {
    "id": "pzV0z-CTKZH-"
   },
   "source": [
    "## pd.merge() arguments\n",
    "The are several arguments in the merge function that are of a good use. Let's start by looking at the easiest of them."
   ]
  },
  {
   "cell_type": "markdown",
   "metadata": {
    "id": "ZBDCCIUiM9f0"
   },
   "source": [
    "### The `on` argument"
   ]
  },
  {
   "cell_type": "markdown",
   "metadata": {
    "id": "hBc4FzoPNCRz"
   },
   "source": [
    "The `on` argument allows us to explicitly type the name(s) of the column we would like to integrate on."
   ]
  },
  {
   "cell_type": "code",
   "execution_count": 12,
   "metadata": {
    "colab": {
     "base_uri": "https://localhost:8080/",
     "height": 773
    },
    "id": "MmQWU229LlR0",
    "outputId": "44dd8ce9-bf14-4338-c4f8-bcc109d365a7"
   },
   "outputs": [
    {
     "data": {
      "text/html": [
       "<div>\n",
       "<style scoped>\n",
       "    .dataframe tbody tr th:only-of-type {\n",
       "        vertical-align: middle;\n",
       "    }\n",
       "\n",
       "    .dataframe tbody tr th {\n",
       "        vertical-align: top;\n",
       "    }\n",
       "\n",
       "    .dataframe thead th {\n",
       "        text-align: right;\n",
       "    }\n",
       "</style>\n",
       "<table border=\"1\" class=\"dataframe\">\n",
       "  <thead>\n",
       "    <tr style=\"text-align: right;\">\n",
       "      <th></th>\n",
       "      <th>first_name</th>\n",
       "      <th>group</th>\n",
       "      <th>last_name</th>\n",
       "    </tr>\n",
       "  </thead>\n",
       "  <tbody>\n",
       "    <tr>\n",
       "      <th>0</th>\n",
       "      <td>Bob</td>\n",
       "      <td>Accounting</td>\n",
       "      <td>Mark</td>\n",
       "    </tr>\n",
       "    <tr>\n",
       "      <th>1</th>\n",
       "      <td>Bob</td>\n",
       "      <td>HR</td>\n",
       "      <td>Hall</td>\n",
       "    </tr>\n",
       "    <tr>\n",
       "      <th>2</th>\n",
       "      <td>Jake</td>\n",
       "      <td>Engineering</td>\n",
       "      <td>Wilson</td>\n",
       "    </tr>\n",
       "    <tr>\n",
       "      <th>3</th>\n",
       "      <td>Lisa</td>\n",
       "      <td>Engineering</td>\n",
       "      <td>George</td>\n",
       "    </tr>\n",
       "    <tr>\n",
       "      <th>4</th>\n",
       "      <td>Sue</td>\n",
       "      <td>HR</td>\n",
       "      <td>Adam</td>\n",
       "    </tr>\n",
       "  </tbody>\n",
       "</table>\n",
       "</div>"
      ],
      "text/plain": [
       "  first_name        group last_name\n",
       "0        Bob   Accounting      Mark\n",
       "1        Bob           HR      Hall\n",
       "2       Jake  Engineering    Wilson\n",
       "3       Lisa  Engineering    George\n",
       "4        Sue           HR      Adam"
      ]
     },
     "metadata": {},
     "output_type": "display_data"
    },
    {
     "data": {
      "text/html": [
       "<div>\n",
       "<style scoped>\n",
       "    .dataframe tbody tr th:only-of-type {\n",
       "        vertical-align: middle;\n",
       "    }\n",
       "\n",
       "    .dataframe tbody tr th {\n",
       "        vertical-align: top;\n",
       "    }\n",
       "\n",
       "    .dataframe thead th {\n",
       "        text-align: right;\n",
       "    }\n",
       "</style>\n",
       "<table border=\"1\" class=\"dataframe\">\n",
       "  <thead>\n",
       "    <tr style=\"text-align: right;\">\n",
       "      <th></th>\n",
       "      <th>first_name</th>\n",
       "      <th>last_name</th>\n",
       "      <th>dates</th>\n",
       "    </tr>\n",
       "  </thead>\n",
       "  <tbody>\n",
       "    <tr>\n",
       "      <th>0</th>\n",
       "      <td>Lisa</td>\n",
       "      <td>George</td>\n",
       "      <td>2004</td>\n",
       "    </tr>\n",
       "    <tr>\n",
       "      <th>1</th>\n",
       "      <td>Bob</td>\n",
       "      <td>Mark</td>\n",
       "      <td>2008</td>\n",
       "    </tr>\n",
       "    <tr>\n",
       "      <th>2</th>\n",
       "      <td>Jake</td>\n",
       "      <td>Wilson</td>\n",
       "      <td>2012</td>\n",
       "    </tr>\n",
       "    <tr>\n",
       "      <th>3</th>\n",
       "      <td>Bob</td>\n",
       "      <td>Hall</td>\n",
       "      <td>2014</td>\n",
       "    </tr>\n",
       "    <tr>\n",
       "      <th>4</th>\n",
       "      <td>Sue</td>\n",
       "      <td>Adam</td>\n",
       "      <td>2016</td>\n",
       "    </tr>\n",
       "  </tbody>\n",
       "</table>\n",
       "</div>"
      ],
      "text/plain": [
       "  first_name last_name  dates\n",
       "0       Lisa    George   2004\n",
       "1        Bob      Mark   2008\n",
       "2       Jake    Wilson   2012\n",
       "3        Bob      Hall   2014\n",
       "4        Sue      Adam   2016"
      ]
     },
     "metadata": {},
     "output_type": "display_data"
    },
    {
     "data": {
      "text/html": [
       "<div>\n",
       "<style scoped>\n",
       "    .dataframe tbody tr th:only-of-type {\n",
       "        vertical-align: middle;\n",
       "    }\n",
       "\n",
       "    .dataframe tbody tr th {\n",
       "        vertical-align: top;\n",
       "    }\n",
       "\n",
       "    .dataframe thead th {\n",
       "        text-align: right;\n",
       "    }\n",
       "</style>\n",
       "<table border=\"1\" class=\"dataframe\">\n",
       "  <thead>\n",
       "    <tr style=\"text-align: right;\">\n",
       "      <th></th>\n",
       "      <th>first_name</th>\n",
       "      <th>group</th>\n",
       "      <th>last_name</th>\n",
       "      <th>dates</th>\n",
       "    </tr>\n",
       "  </thead>\n",
       "  <tbody>\n",
       "    <tr>\n",
       "      <th>0</th>\n",
       "      <td>Bob</td>\n",
       "      <td>Accounting</td>\n",
       "      <td>Mark</td>\n",
       "      <td>2008</td>\n",
       "    </tr>\n",
       "    <tr>\n",
       "      <th>1</th>\n",
       "      <td>Bob</td>\n",
       "      <td>HR</td>\n",
       "      <td>Hall</td>\n",
       "      <td>2014</td>\n",
       "    </tr>\n",
       "    <tr>\n",
       "      <th>2</th>\n",
       "      <td>Jake</td>\n",
       "      <td>Engineering</td>\n",
       "      <td>Wilson</td>\n",
       "      <td>2012</td>\n",
       "    </tr>\n",
       "    <tr>\n",
       "      <th>3</th>\n",
       "      <td>Lisa</td>\n",
       "      <td>Engineering</td>\n",
       "      <td>George</td>\n",
       "      <td>2004</td>\n",
       "    </tr>\n",
       "    <tr>\n",
       "      <th>4</th>\n",
       "      <td>Sue</td>\n",
       "      <td>HR</td>\n",
       "      <td>Adam</td>\n",
       "      <td>2016</td>\n",
       "    </tr>\n",
       "  </tbody>\n",
       "</table>\n",
       "</div>"
      ],
      "text/plain": [
       "  first_name        group last_name  dates\n",
       "0        Bob   Accounting      Mark   2008\n",
       "1        Bob           HR      Hall   2014\n",
       "2       Jake  Engineering    Wilson   2012\n",
       "3       Lisa  Engineering    George   2004\n",
       "4        Sue           HR      Adam   2016"
      ]
     },
     "metadata": {},
     "output_type": "display_data"
    },
    {
     "data": {
      "text/html": [
       "<div>\n",
       "<style scoped>\n",
       "    .dataframe tbody tr th:only-of-type {\n",
       "        vertical-align: middle;\n",
       "    }\n",
       "\n",
       "    .dataframe tbody tr th {\n",
       "        vertical-align: top;\n",
       "    }\n",
       "\n",
       "    .dataframe thead th {\n",
       "        text-align: right;\n",
       "    }\n",
       "</style>\n",
       "<table border=\"1\" class=\"dataframe\">\n",
       "  <thead>\n",
       "    <tr style=\"text-align: right;\">\n",
       "      <th></th>\n",
       "      <th>first_name</th>\n",
       "      <th>group</th>\n",
       "      <th>last_name</th>\n",
       "      <th>dates</th>\n",
       "    </tr>\n",
       "  </thead>\n",
       "  <tbody>\n",
       "    <tr>\n",
       "      <th>0</th>\n",
       "      <td>Bob</td>\n",
       "      <td>Accounting</td>\n",
       "      <td>Mark</td>\n",
       "      <td>2008</td>\n",
       "    </tr>\n",
       "    <tr>\n",
       "      <th>1</th>\n",
       "      <td>Bob</td>\n",
       "      <td>HR</td>\n",
       "      <td>Hall</td>\n",
       "      <td>2014</td>\n",
       "    </tr>\n",
       "    <tr>\n",
       "      <th>2</th>\n",
       "      <td>Jake</td>\n",
       "      <td>Engineering</td>\n",
       "      <td>Wilson</td>\n",
       "      <td>2012</td>\n",
       "    </tr>\n",
       "    <tr>\n",
       "      <th>3</th>\n",
       "      <td>Lisa</td>\n",
       "      <td>Engineering</td>\n",
       "      <td>George</td>\n",
       "      <td>2004</td>\n",
       "    </tr>\n",
       "    <tr>\n",
       "      <th>4</th>\n",
       "      <td>Sue</td>\n",
       "      <td>HR</td>\n",
       "      <td>Adam</td>\n",
       "      <td>2016</td>\n",
       "    </tr>\n",
       "  </tbody>\n",
       "</table>\n",
       "</div>"
      ],
      "text/plain": [
       "  first_name        group last_name  dates\n",
       "0        Bob   Accounting      Mark   2008\n",
       "1        Bob           HR      Hall   2014\n",
       "2       Jake  Engineering    Wilson   2012\n",
       "3       Lisa  Engineering    George   2004\n",
       "4        Sue           HR      Adam   2016"
      ]
     },
     "metadata": {},
     "output_type": "display_data"
    }
   ],
   "source": [
    "df_employees1 = pd.DataFrame({'first_name': ['Bob','Bob', 'Jake', 'Lisa', 'Sue'],\n",
    "                    'group': ['Accounting','HR', 'Engineering', 'Engineering', 'HR'],'last_name': ['Mark','Hall', 'Wilson', 'George', 'Adam']})\n",
    "df_employees_hire_date1 = pd.DataFrame({'first_name': ['Lisa', 'Bob', 'Jake','Bob','Sue'],'last_name': ['George', 'Mark', 'Wilson', 'Hall', 'Adam'],\n",
    "                    'dates': [2004, 2008, 2012, 2014, 2016]})\n",
    "df_merged = pd.merge(df_employees1,df_employees_hire_date1,on=['first_name', 'last_name'])\n",
    "df_merged_default = pd.merge(df_employees1,df_employees_hire_date1)\n",
    "display(df_employees1, df_employees_hire_date1, df_merged_default, df_merged)"
   ]
  },
  {
   "cell_type": "markdown",
   "metadata": {
    "id": "b5m5k1kbSA0m"
   },
   "source": [
    "### The `left_on` and `right_on` arguments"
   ]
  },
  {
   "cell_type": "markdown",
   "metadata": {
    "id": "V2Tu2LSKSIW3"
   },
   "source": [
    "At times you may wish to merge two datasets with different column names; for example, we may have a dataset in which the employee name is labeled as *name* rather than *employee*. In this case, we can use the left_on and right_on keywords to specify the two column names:"
   ]
  },
  {
   "cell_type": "code",
   "execution_count": 13,
   "metadata": {
    "colab": {
     "base_uri": "https://localhost:8080/",
     "height": 490
    },
    "id": "PpvodfmISUp4",
    "outputId": "bf6d7f54-8d96-4bdd-8e8b-47c7b5375cfc"
   },
   "outputs": [
    {
     "data": {
      "text/html": [
       "<div>\n",
       "<style scoped>\n",
       "    .dataframe tbody tr th:only-of-type {\n",
       "        vertical-align: middle;\n",
       "    }\n",
       "\n",
       "    .dataframe tbody tr th {\n",
       "        vertical-align: top;\n",
       "    }\n",
       "\n",
       "    .dataframe thead th {\n",
       "        text-align: right;\n",
       "    }\n",
       "</style>\n",
       "<table border=\"1\" class=\"dataframe\">\n",
       "  <thead>\n",
       "    <tr style=\"text-align: right;\">\n",
       "      <th></th>\n",
       "      <th>employee</th>\n",
       "      <th>group</th>\n",
       "    </tr>\n",
       "  </thead>\n",
       "  <tbody>\n",
       "    <tr>\n",
       "      <th>0</th>\n",
       "      <td>Bob</td>\n",
       "      <td>Accounting</td>\n",
       "    </tr>\n",
       "    <tr>\n",
       "      <th>1</th>\n",
       "      <td>Jake</td>\n",
       "      <td>Engineering</td>\n",
       "    </tr>\n",
       "    <tr>\n",
       "      <th>2</th>\n",
       "      <td>Lisa</td>\n",
       "      <td>Engineering</td>\n",
       "    </tr>\n",
       "    <tr>\n",
       "      <th>3</th>\n",
       "      <td>Sue</td>\n",
       "      <td>HR</td>\n",
       "    </tr>\n",
       "  </tbody>\n",
       "</table>\n",
       "</div>"
      ],
      "text/plain": [
       "  employee        group\n",
       "0      Bob   Accounting\n",
       "1     Jake  Engineering\n",
       "2     Lisa  Engineering\n",
       "3      Sue           HR"
      ]
     },
     "metadata": {},
     "output_type": "display_data"
    },
    {
     "data": {
      "text/html": [
       "<div>\n",
       "<style scoped>\n",
       "    .dataframe tbody tr th:only-of-type {\n",
       "        vertical-align: middle;\n",
       "    }\n",
       "\n",
       "    .dataframe tbody tr th {\n",
       "        vertical-align: top;\n",
       "    }\n",
       "\n",
       "    .dataframe thead th {\n",
       "        text-align: right;\n",
       "    }\n",
       "</style>\n",
       "<table border=\"1\" class=\"dataframe\">\n",
       "  <thead>\n",
       "    <tr style=\"text-align: right;\">\n",
       "      <th></th>\n",
       "      <th>name</th>\n",
       "      <th>salary</th>\n",
       "    </tr>\n",
       "  </thead>\n",
       "  <tbody>\n",
       "    <tr>\n",
       "      <th>0</th>\n",
       "      <td>Bob</td>\n",
       "      <td>70000</td>\n",
       "    </tr>\n",
       "    <tr>\n",
       "      <th>1</th>\n",
       "      <td>Jake</td>\n",
       "      <td>80000</td>\n",
       "    </tr>\n",
       "    <tr>\n",
       "      <th>2</th>\n",
       "      <td>Lisa</td>\n",
       "      <td>120000</td>\n",
       "    </tr>\n",
       "    <tr>\n",
       "      <th>3</th>\n",
       "      <td>Sue</td>\n",
       "      <td>90000</td>\n",
       "    </tr>\n",
       "  </tbody>\n",
       "</table>\n",
       "</div>"
      ],
      "text/plain": [
       "   name  salary\n",
       "0   Bob   70000\n",
       "1  Jake   80000\n",
       "2  Lisa  120000\n",
       "3   Sue   90000"
      ]
     },
     "metadata": {},
     "output_type": "display_data"
    },
    {
     "data": {
      "text/html": [
       "<div>\n",
       "<style scoped>\n",
       "    .dataframe tbody tr th:only-of-type {\n",
       "        vertical-align: middle;\n",
       "    }\n",
       "\n",
       "    .dataframe tbody tr th {\n",
       "        vertical-align: top;\n",
       "    }\n",
       "\n",
       "    .dataframe thead th {\n",
       "        text-align: right;\n",
       "    }\n",
       "</style>\n",
       "<table border=\"1\" class=\"dataframe\">\n",
       "  <thead>\n",
       "    <tr style=\"text-align: right;\">\n",
       "      <th></th>\n",
       "      <th>employee</th>\n",
       "      <th>group</th>\n",
       "      <th>name</th>\n",
       "      <th>salary</th>\n",
       "    </tr>\n",
       "  </thead>\n",
       "  <tbody>\n",
       "    <tr>\n",
       "      <th>0</th>\n",
       "      <td>Bob</td>\n",
       "      <td>Accounting</td>\n",
       "      <td>Bob</td>\n",
       "      <td>70000</td>\n",
       "    </tr>\n",
       "    <tr>\n",
       "      <th>1</th>\n",
       "      <td>Jake</td>\n",
       "      <td>Engineering</td>\n",
       "      <td>Jake</td>\n",
       "      <td>80000</td>\n",
       "    </tr>\n",
       "    <tr>\n",
       "      <th>2</th>\n",
       "      <td>Lisa</td>\n",
       "      <td>Engineering</td>\n",
       "      <td>Lisa</td>\n",
       "      <td>120000</td>\n",
       "    </tr>\n",
       "    <tr>\n",
       "      <th>3</th>\n",
       "      <td>Sue</td>\n",
       "      <td>HR</td>\n",
       "      <td>Sue</td>\n",
       "      <td>90000</td>\n",
       "    </tr>\n",
       "  </tbody>\n",
       "</table>\n",
       "</div>"
      ],
      "text/plain": [
       "  employee        group  name  salary\n",
       "0      Bob   Accounting   Bob   70000\n",
       "1     Jake  Engineering  Jake   80000\n",
       "2     Lisa  Engineering  Lisa  120000\n",
       "3      Sue           HR   Sue   90000"
      ]
     },
     "metadata": {},
     "output_type": "display_data"
    }
   ],
   "source": [
    "df_names_and_salaries = pd.DataFrame({'name': ['Bob', 'Jake', 'Lisa', 'Sue'],\n",
    "                    'salary': [70000, 80000, 120000, 90000]})\n",
    "df_merged = pd.merge(df_employees,df_names_and_salaries, left_on=\"employee\", right_on=\"name\")\n",
    "display(df_employees, df_names_and_salaries, df_merged)"
   ]
  },
  {
   "cell_type": "markdown",
   "metadata": {
    "id": "UX71TGKOS1oJ"
   },
   "source": [
    "Notice that the employee and name columns are both existent in the new dataframe. Therefore, as part of cleaning we have to drop one and keep the other."
   ]
  },
  {
   "cell_type": "code",
   "execution_count": 14,
   "metadata": {
    "colab": {
     "base_uri": "https://localhost:8080/",
     "height": 174
    },
    "id": "v0Mc5TjBV7xr",
    "outputId": "cb80d660-5519-47e6-bcc0-9632ff5c7c78"
   },
   "outputs": [
    {
     "data": {
      "text/html": [
       "<div>\n",
       "<style scoped>\n",
       "    .dataframe tbody tr th:only-of-type {\n",
       "        vertical-align: middle;\n",
       "    }\n",
       "\n",
       "    .dataframe tbody tr th {\n",
       "        vertical-align: top;\n",
       "    }\n",
       "\n",
       "    .dataframe thead th {\n",
       "        text-align: right;\n",
       "    }\n",
       "</style>\n",
       "<table border=\"1\" class=\"dataframe\">\n",
       "  <thead>\n",
       "    <tr style=\"text-align: right;\">\n",
       "      <th></th>\n",
       "      <th>employee</th>\n",
       "      <th>group</th>\n",
       "      <th>salary</th>\n",
       "    </tr>\n",
       "  </thead>\n",
       "  <tbody>\n",
       "    <tr>\n",
       "      <th>0</th>\n",
       "      <td>Bob</td>\n",
       "      <td>Accounting</td>\n",
       "      <td>70000</td>\n",
       "    </tr>\n",
       "    <tr>\n",
       "      <th>1</th>\n",
       "      <td>Jake</td>\n",
       "      <td>Engineering</td>\n",
       "      <td>80000</td>\n",
       "    </tr>\n",
       "    <tr>\n",
       "      <th>2</th>\n",
       "      <td>Lisa</td>\n",
       "      <td>Engineering</td>\n",
       "      <td>120000</td>\n",
       "    </tr>\n",
       "    <tr>\n",
       "      <th>3</th>\n",
       "      <td>Sue</td>\n",
       "      <td>HR</td>\n",
       "      <td>90000</td>\n",
       "    </tr>\n",
       "  </tbody>\n",
       "</table>\n",
       "</div>"
      ],
      "text/plain": [
       "  employee        group  salary\n",
       "0      Bob   Accounting   70000\n",
       "1     Jake  Engineering   80000\n",
       "2     Lisa  Engineering  120000\n",
       "3      Sue           HR   90000"
      ]
     },
     "execution_count": 14,
     "metadata": {},
     "output_type": "execute_result"
    }
   ],
   "source": [
    "df_merged_clean = df_merged.drop(['name'], axis=1)\n",
    "df_merged_clean.head()"
   ]
  },
  {
   "cell_type": "markdown",
   "metadata": {
    "id": "soSYiqj4ZN8p"
   },
   "source": [
    "### Indicies Merge\n",
    "What if we want to merge based on indicies rather than column names? We first need to make sure that there are relevant indicies to integrate on. Let's start by creating an indicies for the `df_employees` and `df_names_and_salaries` dataframes. Next we'll merging them together using the `left_index` and `right_index` arguments."
   ]
  },
  {
   "cell_type": "code",
   "execution_count": 15,
   "metadata": {
    "colab": {
     "base_uri": "https://localhost:8080/",
     "height": 572
    },
    "id": "N4F4srUfVu-t",
    "outputId": "ede9489a-3f5a-4dec-9c68-75301abcbce7"
   },
   "outputs": [
    {
     "data": {
      "text/html": [
       "<div>\n",
       "<style scoped>\n",
       "    .dataframe tbody tr th:only-of-type {\n",
       "        vertical-align: middle;\n",
       "    }\n",
       "\n",
       "    .dataframe tbody tr th {\n",
       "        vertical-align: top;\n",
       "    }\n",
       "\n",
       "    .dataframe thead th {\n",
       "        text-align: right;\n",
       "    }\n",
       "</style>\n",
       "<table border=\"1\" class=\"dataframe\">\n",
       "  <thead>\n",
       "    <tr style=\"text-align: right;\">\n",
       "      <th></th>\n",
       "      <th>group</th>\n",
       "    </tr>\n",
       "    <tr>\n",
       "      <th>employee</th>\n",
       "      <th></th>\n",
       "    </tr>\n",
       "  </thead>\n",
       "  <tbody>\n",
       "    <tr>\n",
       "      <th>Bob</th>\n",
       "      <td>Accounting</td>\n",
       "    </tr>\n",
       "    <tr>\n",
       "      <th>Jake</th>\n",
       "      <td>Engineering</td>\n",
       "    </tr>\n",
       "    <tr>\n",
       "      <th>Lisa</th>\n",
       "      <td>Engineering</td>\n",
       "    </tr>\n",
       "    <tr>\n",
       "      <th>Sue</th>\n",
       "      <td>HR</td>\n",
       "    </tr>\n",
       "  </tbody>\n",
       "</table>\n",
       "</div>"
      ],
      "text/plain": [
       "                group\n",
       "employee             \n",
       "Bob        Accounting\n",
       "Jake      Engineering\n",
       "Lisa      Engineering\n",
       "Sue                HR"
      ]
     },
     "metadata": {},
     "output_type": "display_data"
    },
    {
     "data": {
      "text/html": [
       "<div>\n",
       "<style scoped>\n",
       "    .dataframe tbody tr th:only-of-type {\n",
       "        vertical-align: middle;\n",
       "    }\n",
       "\n",
       "    .dataframe tbody tr th {\n",
       "        vertical-align: top;\n",
       "    }\n",
       "\n",
       "    .dataframe thead th {\n",
       "        text-align: right;\n",
       "    }\n",
       "</style>\n",
       "<table border=\"1\" class=\"dataframe\">\n",
       "  <thead>\n",
       "    <tr style=\"text-align: right;\">\n",
       "      <th></th>\n",
       "      <th>salary</th>\n",
       "    </tr>\n",
       "    <tr>\n",
       "      <th>name</th>\n",
       "      <th></th>\n",
       "    </tr>\n",
       "  </thead>\n",
       "  <tbody>\n",
       "    <tr>\n",
       "      <th>Bob</th>\n",
       "      <td>70000</td>\n",
       "    </tr>\n",
       "    <tr>\n",
       "      <th>Jake</th>\n",
       "      <td>80000</td>\n",
       "    </tr>\n",
       "    <tr>\n",
       "      <th>Lisa</th>\n",
       "      <td>120000</td>\n",
       "    </tr>\n",
       "    <tr>\n",
       "      <th>Sue</th>\n",
       "      <td>90000</td>\n",
       "    </tr>\n",
       "  </tbody>\n",
       "</table>\n",
       "</div>"
      ],
      "text/plain": [
       "      salary\n",
       "name        \n",
       "Bob    70000\n",
       "Jake   80000\n",
       "Lisa  120000\n",
       "Sue    90000"
      ]
     },
     "metadata": {},
     "output_type": "display_data"
    },
    {
     "data": {
      "text/html": [
       "<div>\n",
       "<style scoped>\n",
       "    .dataframe tbody tr th:only-of-type {\n",
       "        vertical-align: middle;\n",
       "    }\n",
       "\n",
       "    .dataframe tbody tr th {\n",
       "        vertical-align: top;\n",
       "    }\n",
       "\n",
       "    .dataframe thead th {\n",
       "        text-align: right;\n",
       "    }\n",
       "</style>\n",
       "<table border=\"1\" class=\"dataframe\">\n",
       "  <thead>\n",
       "    <tr style=\"text-align: right;\">\n",
       "      <th></th>\n",
       "      <th>group</th>\n",
       "      <th>salary</th>\n",
       "    </tr>\n",
       "    <tr>\n",
       "      <th>employee</th>\n",
       "      <th></th>\n",
       "      <th></th>\n",
       "    </tr>\n",
       "  </thead>\n",
       "  <tbody>\n",
       "    <tr>\n",
       "      <th>Bob</th>\n",
       "      <td>Accounting</td>\n",
       "      <td>70000</td>\n",
       "    </tr>\n",
       "    <tr>\n",
       "      <th>Jake</th>\n",
       "      <td>Engineering</td>\n",
       "      <td>80000</td>\n",
       "    </tr>\n",
       "    <tr>\n",
       "      <th>Lisa</th>\n",
       "      <td>Engineering</td>\n",
       "      <td>120000</td>\n",
       "    </tr>\n",
       "    <tr>\n",
       "      <th>Sue</th>\n",
       "      <td>HR</td>\n",
       "      <td>90000</td>\n",
       "    </tr>\n",
       "  </tbody>\n",
       "</table>\n",
       "</div>"
      ],
      "text/plain": [
       "                group  salary\n",
       "employee                     \n",
       "Bob        Accounting   70000\n",
       "Jake      Engineering   80000\n",
       "Lisa      Engineering  120000\n",
       "Sue                HR   90000"
      ]
     },
     "metadata": {},
     "output_type": "display_data"
    }
   ],
   "source": [
    "df_employees_indexed = df_employees.set_index('employee')\n",
    "df_names_and_salaries_indexed = df_names_and_salaries.set_index('name')\n",
    "\n",
    "display(df_employees_indexed,df_names_and_salaries_indexed,pd.merge(df_employees_indexed,df_names_and_salaries_indexed,left_index=True, right_index=True))"
   ]
  },
  {
   "cell_type": "markdown",
   "metadata": {
    "id": "_xC8oYXeZthv"
   },
   "source": [
    "## pd.merge() Join Types"
   ]
  },
  {
   "cell_type": "markdown",
   "metadata": {
    "id": "wFnuVTSxeOpL"
   },
   "source": [
    "As you might have studied, there are different types of joins between tables. Those are: inner, outer, left, and right.\n",
    "\n",
    "By default, the `pd.merge` does an inner join. Therefore, in the column we are joining based on, only the values that are common in both dataframes we are merging based on are kept, and the rest are not merged."
   ]
  },
  {
   "cell_type": "markdown",
   "metadata": {
    "id": "_1YSCV82b-ZL"
   },
   "source": [
    "\n",
    "\n",
    "![Types-of-Hive-joins.jpg](data:image/jpeg;base64,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)"
   ]
  },
  {
   "cell_type": "markdown",
   "metadata": {
    "id": "VZ0wutPpeoLq"
   },
   "source": [
    "To specify the type of join we use the `how` argument inside the pd.merge. This argument can be set to 4 values: \n",
    "\n",
    "\n",
    "\n",
    "1.  *left*: use only keys from left frame, similar to a SQL left outer join; preserve key order.\n",
    "2.  *right*: use only keys from right frame, similar to a SQL right outer join; preserve key order.\n",
    "3. *outer*: use union of keys from both frames, similar to a SQL full outer join; sort keys lexicographically.\n",
    "4. *inner*: use intersection of keys from both frames, similar to a SQL inner join; preserve the order of the left keys.\n"
   ]
  },
  {
   "cell_type": "markdown",
   "metadata": {
    "id": "VRDy3jqzfpZs"
   },
   "source": [
    "Let's take a look at an example for each.:"
   ]
  },
  {
   "cell_type": "markdown",
   "metadata": {
    "id": "xTqEh7mxg1r5"
   },
   "source": [
    "### Inner Join"
   ]
  },
  {
   "cell_type": "code",
   "execution_count": 16,
   "metadata": {
    "colab": {
     "base_uri": "https://localhost:8080/",
     "height": 302
    },
    "id": "m4AA9raGfv-N",
    "outputId": "7a074c84-a251-4ae9-baba-1cc221950388"
   },
   "outputs": [
    {
     "data": {
      "text/html": [
       "<div>\n",
       "<style scoped>\n",
       "    .dataframe tbody tr th:only-of-type {\n",
       "        vertical-align: middle;\n",
       "    }\n",
       "\n",
       "    .dataframe tbody tr th {\n",
       "        vertical-align: top;\n",
       "    }\n",
       "\n",
       "    .dataframe thead th {\n",
       "        text-align: right;\n",
       "    }\n",
       "</style>\n",
       "<table border=\"1\" class=\"dataframe\">\n",
       "  <thead>\n",
       "    <tr style=\"text-align: right;\">\n",
       "      <th></th>\n",
       "      <th>name</th>\n",
       "      <th>food</th>\n",
       "    </tr>\n",
       "  </thead>\n",
       "  <tbody>\n",
       "    <tr>\n",
       "      <th>0</th>\n",
       "      <td>Peter</td>\n",
       "      <td>fish</td>\n",
       "    </tr>\n",
       "    <tr>\n",
       "      <th>1</th>\n",
       "      <td>Paul</td>\n",
       "      <td>beans</td>\n",
       "    </tr>\n",
       "    <tr>\n",
       "      <th>2</th>\n",
       "      <td>Mary</td>\n",
       "      <td>bread</td>\n",
       "    </tr>\n",
       "  </tbody>\n",
       "</table>\n",
       "</div>"
      ],
      "text/plain": [
       "    name   food\n",
       "0  Peter   fish\n",
       "1   Paul  beans\n",
       "2   Mary  bread"
      ]
     },
     "metadata": {},
     "output_type": "display_data"
    },
    {
     "data": {
      "text/html": [
       "<div>\n",
       "<style scoped>\n",
       "    .dataframe tbody tr th:only-of-type {\n",
       "        vertical-align: middle;\n",
       "    }\n",
       "\n",
       "    .dataframe tbody tr th {\n",
       "        vertical-align: top;\n",
       "    }\n",
       "\n",
       "    .dataframe thead th {\n",
       "        text-align: right;\n",
       "    }\n",
       "</style>\n",
       "<table border=\"1\" class=\"dataframe\">\n",
       "  <thead>\n",
       "    <tr style=\"text-align: right;\">\n",
       "      <th></th>\n",
       "      <th>name</th>\n",
       "      <th>drink</th>\n",
       "    </tr>\n",
       "  </thead>\n",
       "  <tbody>\n",
       "    <tr>\n",
       "      <th>0</th>\n",
       "      <td>Mary</td>\n",
       "      <td>wine</td>\n",
       "    </tr>\n",
       "    <tr>\n",
       "      <th>1</th>\n",
       "      <td>Joseph</td>\n",
       "      <td>beer</td>\n",
       "    </tr>\n",
       "  </tbody>\n",
       "</table>\n",
       "</div>"
      ],
      "text/plain": [
       "     name drink\n",
       "0    Mary  wine\n",
       "1  Joseph  beer"
      ]
     },
     "metadata": {},
     "output_type": "display_data"
    },
    {
     "data": {
      "text/html": [
       "<div>\n",
       "<style scoped>\n",
       "    .dataframe tbody tr th:only-of-type {\n",
       "        vertical-align: middle;\n",
       "    }\n",
       "\n",
       "    .dataframe tbody tr th {\n",
       "        vertical-align: top;\n",
       "    }\n",
       "\n",
       "    .dataframe thead th {\n",
       "        text-align: right;\n",
       "    }\n",
       "</style>\n",
       "<table border=\"1\" class=\"dataframe\">\n",
       "  <thead>\n",
       "    <tr style=\"text-align: right;\">\n",
       "      <th></th>\n",
       "      <th>name</th>\n",
       "      <th>food</th>\n",
       "      <th>drink</th>\n",
       "    </tr>\n",
       "  </thead>\n",
       "  <tbody>\n",
       "    <tr>\n",
       "      <th>0</th>\n",
       "      <td>Mary</td>\n",
       "      <td>bread</td>\n",
       "      <td>wine</td>\n",
       "    </tr>\n",
       "  </tbody>\n",
       "</table>\n",
       "</div>"
      ],
      "text/plain": [
       "   name   food drink\n",
       "0  Mary  bread  wine"
      ]
     },
     "metadata": {},
     "output_type": "display_data"
    }
   ],
   "source": [
    "df6 = pd.DataFrame({'name': ['Peter', 'Paul', 'Mary'],\n",
    "                    'food': ['fish', 'beans', 'bread']},\n",
    "                   columns=['name', 'food'])\n",
    "df7 = pd.DataFrame({'name': ['Mary', 'Joseph'],\n",
    "                    'drink': ['wine', 'beer']},\n",
    "                   columns=['name', 'drink'])\n",
    "display(df6, df7, pd.merge(df6, df7))"
   ]
  },
  {
   "cell_type": "markdown",
   "metadata": {
    "id": "9UrczwtIhQAY"
   },
   "source": [
    "Here we have merged two datasets that have only a single *name* entry in common: Mary. By default, the result contains the intersection of the two sets of inputs; this is what is known as an inner join. We can specify this explicitly using the how keyword, which defaults to *inner*:"
   ]
  },
  {
   "cell_type": "code",
   "execution_count": 17,
   "metadata": {
    "colab": {
     "base_uri": "https://localhost:8080/",
     "height": 81
    },
    "id": "S2cRWT7OhZK7",
    "outputId": "6fa47b29-ab1b-474a-de62-034c813b5666"
   },
   "outputs": [
    {
     "data": {
      "text/html": [
       "<div>\n",
       "<style scoped>\n",
       "    .dataframe tbody tr th:only-of-type {\n",
       "        vertical-align: middle;\n",
       "    }\n",
       "\n",
       "    .dataframe tbody tr th {\n",
       "        vertical-align: top;\n",
       "    }\n",
       "\n",
       "    .dataframe thead th {\n",
       "        text-align: right;\n",
       "    }\n",
       "</style>\n",
       "<table border=\"1\" class=\"dataframe\">\n",
       "  <thead>\n",
       "    <tr style=\"text-align: right;\">\n",
       "      <th></th>\n",
       "      <th>name</th>\n",
       "      <th>food</th>\n",
       "      <th>drink</th>\n",
       "    </tr>\n",
       "  </thead>\n",
       "  <tbody>\n",
       "    <tr>\n",
       "      <th>0</th>\n",
       "      <td>Mary</td>\n",
       "      <td>bread</td>\n",
       "      <td>wine</td>\n",
       "    </tr>\n",
       "  </tbody>\n",
       "</table>\n",
       "</div>"
      ],
      "text/plain": [
       "   name   food drink\n",
       "0  Mary  bread  wine"
      ]
     },
     "execution_count": 17,
     "metadata": {},
     "output_type": "execute_result"
    }
   ],
   "source": [
    "pd.merge(df6, df7, how='inner')"
   ]
  },
  {
   "cell_type": "markdown",
   "metadata": {
    "id": "Zsu9A-HPhhlG"
   },
   "source": [
    "### Outer Join"
   ]
  },
  {
   "cell_type": "code",
   "execution_count": 18,
   "metadata": {
    "colab": {
     "base_uri": "https://localhost:8080/",
     "height": 174
    },
    "id": "WE64-RBCh9dy",
    "outputId": "de11f6e2-8db5-46c4-fc2f-1ed6c42132dc"
   },
   "outputs": [
    {
     "data": {
      "text/html": [
       "<div>\n",
       "<style scoped>\n",
       "    .dataframe tbody tr th:only-of-type {\n",
       "        vertical-align: middle;\n",
       "    }\n",
       "\n",
       "    .dataframe tbody tr th {\n",
       "        vertical-align: top;\n",
       "    }\n",
       "\n",
       "    .dataframe thead th {\n",
       "        text-align: right;\n",
       "    }\n",
       "</style>\n",
       "<table border=\"1\" class=\"dataframe\">\n",
       "  <thead>\n",
       "    <tr style=\"text-align: right;\">\n",
       "      <th></th>\n",
       "      <th>name</th>\n",
       "      <th>food</th>\n",
       "      <th>drink</th>\n",
       "    </tr>\n",
       "  </thead>\n",
       "  <tbody>\n",
       "    <tr>\n",
       "      <th>0</th>\n",
       "      <td>Peter</td>\n",
       "      <td>fish</td>\n",
       "      <td>NaN</td>\n",
       "    </tr>\n",
       "    <tr>\n",
       "      <th>1</th>\n",
       "      <td>Paul</td>\n",
       "      <td>beans</td>\n",
       "      <td>NaN</td>\n",
       "    </tr>\n",
       "    <tr>\n",
       "      <th>2</th>\n",
       "      <td>Mary</td>\n",
       "      <td>bread</td>\n",
       "      <td>wine</td>\n",
       "    </tr>\n",
       "    <tr>\n",
       "      <th>3</th>\n",
       "      <td>Joseph</td>\n",
       "      <td>NaN</td>\n",
       "      <td>beer</td>\n",
       "    </tr>\n",
       "  </tbody>\n",
       "</table>\n",
       "</div>"
      ],
      "text/plain": [
       "     name   food drink\n",
       "0   Peter   fish   NaN\n",
       "1    Paul  beans   NaN\n",
       "2    Mary  bread  wine\n",
       "3  Joseph    NaN  beer"
      ]
     },
     "execution_count": 18,
     "metadata": {},
     "output_type": "execute_result"
    }
   ],
   "source": [
    "pd.merge(df6, df7, how='outer')"
   ]
  },
  {
   "cell_type": "markdown",
   "metadata": {
    "id": "896fuyh8iAcV"
   },
   "source": [
    "Notice how the values that aren't common in both are filled with NaNs"
   ]
  },
  {
   "cell_type": "markdown",
   "metadata": {
    "id": "t2uv4dhBiJDG"
   },
   "source": [
    "### Left and Right Joins"
   ]
  },
  {
   "cell_type": "markdown",
   "metadata": {
    "id": "hesdAb0PiL8F"
   },
   "source": [
    "\n",
    "The left join and right join return joins over the left entries and right entries, respectively. For example:"
   ]
  },
  {
   "cell_type": "code",
   "execution_count": 19,
   "metadata": {
    "colab": {
     "base_uri": "https://localhost:8080/",
     "height": 143
    },
    "id": "R8e-0dDLiMOl",
    "outputId": "2fb6741d-e3f6-4e3b-c381-d8a44e101fc4"
   },
   "outputs": [
    {
     "data": {
      "text/html": [
       "<div>\n",
       "<style scoped>\n",
       "    .dataframe tbody tr th:only-of-type {\n",
       "        vertical-align: middle;\n",
       "    }\n",
       "\n",
       "    .dataframe tbody tr th {\n",
       "        vertical-align: top;\n",
       "    }\n",
       "\n",
       "    .dataframe thead th {\n",
       "        text-align: right;\n",
       "    }\n",
       "</style>\n",
       "<table border=\"1\" class=\"dataframe\">\n",
       "  <thead>\n",
       "    <tr style=\"text-align: right;\">\n",
       "      <th></th>\n",
       "      <th>name</th>\n",
       "      <th>food</th>\n",
       "      <th>drink</th>\n",
       "    </tr>\n",
       "  </thead>\n",
       "  <tbody>\n",
       "    <tr>\n",
       "      <th>0</th>\n",
       "      <td>Peter</td>\n",
       "      <td>fish</td>\n",
       "      <td>NaN</td>\n",
       "    </tr>\n",
       "    <tr>\n",
       "      <th>1</th>\n",
       "      <td>Paul</td>\n",
       "      <td>beans</td>\n",
       "      <td>NaN</td>\n",
       "    </tr>\n",
       "    <tr>\n",
       "      <th>2</th>\n",
       "      <td>Mary</td>\n",
       "      <td>bread</td>\n",
       "      <td>wine</td>\n",
       "    </tr>\n",
       "  </tbody>\n",
       "</table>\n",
       "</div>"
      ],
      "text/plain": [
       "    name   food drink\n",
       "0  Peter   fish   NaN\n",
       "1   Paul  beans   NaN\n",
       "2   Mary  bread  wine"
      ]
     },
     "execution_count": 19,
     "metadata": {},
     "output_type": "execute_result"
    }
   ],
   "source": [
    "pd.merge(df6, df7, how='left') # left -> food"
   ]
  },
  {
   "cell_type": "code",
   "execution_count": 20,
   "metadata": {
    "colab": {
     "base_uri": "https://localhost:8080/",
     "height": 110
    },
    "id": "zQLTZS8tiVHY",
    "outputId": "e3ac4485-86dc-4062-d999-037a6268e270"
   },
   "outputs": [
    {
     "data": {
      "text/html": [
       "<div>\n",
       "<style scoped>\n",
       "    .dataframe tbody tr th:only-of-type {\n",
       "        vertical-align: middle;\n",
       "    }\n",
       "\n",
       "    .dataframe tbody tr th {\n",
       "        vertical-align: top;\n",
       "    }\n",
       "\n",
       "    .dataframe thead th {\n",
       "        text-align: right;\n",
       "    }\n",
       "</style>\n",
       "<table border=\"1\" class=\"dataframe\">\n",
       "  <thead>\n",
       "    <tr style=\"text-align: right;\">\n",
       "      <th></th>\n",
       "      <th>name</th>\n",
       "      <th>food</th>\n",
       "      <th>drink</th>\n",
       "    </tr>\n",
       "  </thead>\n",
       "  <tbody>\n",
       "    <tr>\n",
       "      <th>0</th>\n",
       "      <td>Mary</td>\n",
       "      <td>bread</td>\n",
       "      <td>wine</td>\n",
       "    </tr>\n",
       "    <tr>\n",
       "      <th>1</th>\n",
       "      <td>Joseph</td>\n",
       "      <td>NaN</td>\n",
       "      <td>beer</td>\n",
       "    </tr>\n",
       "  </tbody>\n",
       "</table>\n",
       "</div>"
      ],
      "text/plain": [
       "     name   food drink\n",
       "0    Mary  bread  wine\n",
       "1  Joseph    NaN  beer"
      ]
     },
     "execution_count": 20,
     "metadata": {},
     "output_type": "execute_result"
    }
   ],
   "source": [
    "pd.merge(df6, df7, how='right') # right -> drink"
   ]
  },
  {
   "cell_type": "markdown",
   "metadata": {
    "id": "Le3Ea_sdmteU"
   },
   "source": [
    "## Removing Record Redundancies - Levenshtein\n",
    "\n",
    "Sometimes, two records are too similar, that we need to keep only one of them. For instance let's assume there is a column of Egyptian cities. If the city is once written as Sharm ElSheikh and another time as Sharm AlSheikh, it's probably the same city but spelled in 2 different ways and added as a new city in a new record. \n",
    "\n",
    "In this case we need to remove one and keep the other. To do that we can use the Levenshtein distance, which is used to calculate how similar two words are. If both words are very similar, then we need to remove similar duplicates."
   ]
  },
  {
   "cell_type": "markdown",
   "metadata": {
    "id": "XZbMzJPum3SK"
   },
   "source": [
    "Let's start by installing textdistance which will be used to import Levenshtein"
   ]
  },
  {
   "cell_type": "code",
   "execution_count": 1,
   "metadata": {
    "colab": {
     "base_uri": "https://localhost:8080/"
    },
    "id": "vvP3asLKLljE",
    "outputId": "01dd36b8-0400-4407-bb40-20e19e96a211"
   },
   "outputs": [
    {
     "name": "stdout",
     "output_type": "stream",
     "text": [
      "Requirement already satisfied: textdistance in c:\\users\\moham\\anaconda3\\lib\\site-packages (4.2.1)\n"
     ]
    }
   ],
   "source": [
    "! pip install textdistance"
   ]
  },
  {
   "cell_type": "code",
   "execution_count": 2,
   "metadata": {
    "id": "1sTohT-OLU07"
   },
   "outputs": [],
   "source": [
    "import pandas as pd\n",
    "from textdistance import levenshtein"
   ]
  },
  {
   "cell_type": "markdown",
   "metadata": {
    "id": "Zg-hhqyVlDSI"
   },
   "source": [
    "Now, we will create a dataframe, which will hold the names of the Egyptian cities. Next, we will create a matrix which will hold the name of every Egyptian replicated, so that in a later stage we create a list that contains every city with every other city in a matrix"
   ]
  },
  {
   "cell_type": "code",
   "execution_count": 23,
   "metadata": {
    "colab": {
     "base_uri": "https://localhost:8080/"
    },
    "id": "XnIBBvyxlXYQ",
    "outputId": "3d5c7641-72a6-40e4-d5f6-8eaac2c6a191"
   },
   "outputs": [
    {
     "name": "stdout",
     "output_type": "stream",
     "text": [
      "  Egyptian_Cities\n",
      "0      Alexandria\n",
      "1           Cairo\n",
      "2          Assuit\n",
      "3  Sharm ElSheikh\n",
      "4  Sharm AlSheikh\n",
      "              0        1         2                 3                 4\n",
      "0  [Alexandria]  [Cairo]  [Assuit]  [Sharm ElSheikh]  [Sharm AlSheikh]\n",
      "1  [Alexandria]  [Cairo]  [Assuit]  [Sharm ElSheikh]  [Sharm AlSheikh]\n",
      "2  [Alexandria]  [Cairo]  [Assuit]  [Sharm ElSheikh]  [Sharm AlSheikh]\n",
      "3  [Alexandria]  [Cairo]  [Assuit]  [Sharm ElSheikh]  [Sharm AlSheikh]\n",
      "4  [Alexandria]  [Cairo]  [Assuit]  [Sharm ElSheikh]  [Sharm AlSheikh]\n"
     ]
    }
   ],
   "source": [
    "Egyptian_Cities = ['Alexandria','Cairo','Assuit','Sharm ElSheikh','Sharm AlSheikh']\n",
    "\n",
    "df=pd.DataFrame(Egyptian_Cities, columns=['Egyptian_Cities'])\n",
    "print(df)\n",
    "# create a 2D matrix \n",
    "dfs = pd.DataFrame([df.Egyptian_Cities.tolist()] * df.shape[0], index=df.index, columns=df.index)\n",
    "dfs = dfs.applymap(lambda x: list([x]))\n",
    "print (dfs)"
   ]
  },
  {
   "cell_type": "code",
   "execution_count": 24,
   "metadata": {
    "colab": {
     "base_uri": "https://localhost:8080/",
     "height": 206
    },
    "id": "onBoF8p9T0s4",
    "outputId": "f73cfd10-87cf-4923-9f5f-0b0c60a52faa"
   },
   "outputs": [
    {
     "data": {
      "text/html": [
       "<div>\n",
       "<style scoped>\n",
       "    .dataframe tbody tr th:only-of-type {\n",
       "        vertical-align: middle;\n",
       "    }\n",
       "\n",
       "    .dataframe tbody tr th {\n",
       "        vertical-align: top;\n",
       "    }\n",
       "\n",
       "    .dataframe thead th {\n",
       "        text-align: right;\n",
       "    }\n",
       "</style>\n",
       "<table border=\"1\" class=\"dataframe\">\n",
       "  <thead>\n",
       "    <tr style=\"text-align: right;\">\n",
       "      <th></th>\n",
       "      <th>0</th>\n",
       "      <th>1</th>\n",
       "      <th>2</th>\n",
       "      <th>3</th>\n",
       "      <th>4</th>\n",
       "    </tr>\n",
       "  </thead>\n",
       "  <tbody>\n",
       "    <tr>\n",
       "      <th>0</th>\n",
       "      <td>[Alexandria, Alexandria]</td>\n",
       "      <td>[Cairo, Alexandria]</td>\n",
       "      <td>[Assuit, Alexandria]</td>\n",
       "      <td>[Sharm ElSheikh, Alexandria]</td>\n",
       "      <td>[Sharm AlSheikh, Alexandria]</td>\n",
       "    </tr>\n",
       "    <tr>\n",
       "      <th>1</th>\n",
       "      <td>[Alexandria, Cairo]</td>\n",
       "      <td>[Cairo, Cairo]</td>\n",
       "      <td>[Assuit, Cairo]</td>\n",
       "      <td>[Sharm ElSheikh, Cairo]</td>\n",
       "      <td>[Sharm AlSheikh, Cairo]</td>\n",
       "    </tr>\n",
       "    <tr>\n",
       "      <th>2</th>\n",
       "      <td>[Alexandria, Assuit]</td>\n",
       "      <td>[Cairo, Assuit]</td>\n",
       "      <td>[Assuit, Assuit]</td>\n",
       "      <td>[Sharm ElSheikh, Assuit]</td>\n",
       "      <td>[Sharm AlSheikh, Assuit]</td>\n",
       "    </tr>\n",
       "    <tr>\n",
       "      <th>3</th>\n",
       "      <td>[Alexandria, Sharm ElSheikh]</td>\n",
       "      <td>[Cairo, Sharm ElSheikh]</td>\n",
       "      <td>[Assuit, Sharm ElSheikh]</td>\n",
       "      <td>[Sharm ElSheikh, Sharm ElSheikh]</td>\n",
       "      <td>[Sharm AlSheikh, Sharm ElSheikh]</td>\n",
       "    </tr>\n",
       "    <tr>\n",
       "      <th>4</th>\n",
       "      <td>[Alexandria, Sharm AlSheikh]</td>\n",
       "      <td>[Cairo, Sharm AlSheikh]</td>\n",
       "      <td>[Assuit, Sharm AlSheikh]</td>\n",
       "      <td>[Sharm ElSheikh, Sharm AlSheikh]</td>\n",
       "      <td>[Sharm AlSheikh, Sharm AlSheikh]</td>\n",
       "    </tr>\n",
       "  </tbody>\n",
       "</table>\n",
       "</div>"
      ],
      "text/plain": [
       "                              0                        1  \\\n",
       "0      [Alexandria, Alexandria]      [Cairo, Alexandria]   \n",
       "1           [Alexandria, Cairo]           [Cairo, Cairo]   \n",
       "2          [Alexandria, Assuit]          [Cairo, Assuit]   \n",
       "3  [Alexandria, Sharm ElSheikh]  [Cairo, Sharm ElSheikh]   \n",
       "4  [Alexandria, Sharm AlSheikh]  [Cairo, Sharm AlSheikh]   \n",
       "\n",
       "                          2                                 3  \\\n",
       "0      [Assuit, Alexandria]      [Sharm ElSheikh, Alexandria]   \n",
       "1           [Assuit, Cairo]           [Sharm ElSheikh, Cairo]   \n",
       "2          [Assuit, Assuit]          [Sharm ElSheikh, Assuit]   \n",
       "3  [Assuit, Sharm ElSheikh]  [Sharm ElSheikh, Sharm ElSheikh]   \n",
       "4  [Assuit, Sharm AlSheikh]  [Sharm ElSheikh, Sharm AlSheikh]   \n",
       "\n",
       "                                  4  \n",
       "0      [Sharm AlSheikh, Alexandria]  \n",
       "1           [Sharm AlSheikh, Cairo]  \n",
       "2          [Sharm AlSheikh, Assuit]  \n",
       "3  [Sharm AlSheikh, Sharm ElSheikh]  \n",
       "4  [Sharm AlSheikh, Sharm AlSheikh]  "
      ]
     },
     "execution_count": 24,
     "metadata": {},
     "output_type": "execute_result"
    }
   ],
   "source": [
    "#create a matrix which will hold list pairs of every city and every other city\n",
    "dfd = dfs + dfs.T # Transpose of frame\n",
    "dfd.head()\n"
   ]
  },
  {
   "cell_type": "markdown",
   "metadata": {
    "id": "HAfZU9Dsm4Uq"
   },
   "source": [
    "Now that we have a pair of each city and every other city, we need to measure the Levenshtein distance between the pairs."
   ]
  },
  {
   "cell_type": "code",
   "execution_count": 25,
   "metadata": {
    "colab": {
     "base_uri": "https://localhost:8080/",
     "height": 206
    },
    "id": "Eei--d7lm1Zk",
    "outputId": "26c7f2b9-7fbd-423d-b3d2-53433b87e4e3"
   },
   "outputs": [
    {
     "data": {
      "text/html": [
       "<div>\n",
       "<style scoped>\n",
       "    .dataframe tbody tr th:only-of-type {\n",
       "        vertical-align: middle;\n",
       "    }\n",
       "\n",
       "    .dataframe tbody tr th {\n",
       "        vertical-align: top;\n",
       "    }\n",
       "\n",
       "    .dataframe thead th {\n",
       "        text-align: right;\n",
       "    }\n",
       "</style>\n",
       "<table border=\"1\" class=\"dataframe\">\n",
       "  <thead>\n",
       "    <tr style=\"text-align: right;\">\n",
       "      <th></th>\n",
       "      <th>0</th>\n",
       "      <th>1</th>\n",
       "      <th>2</th>\n",
       "      <th>3</th>\n",
       "      <th>4</th>\n",
       "    </tr>\n",
       "  </thead>\n",
       "  <tbody>\n",
       "    <tr>\n",
       "      <th>0</th>\n",
       "      <td>0</td>\n",
       "      <td>8</td>\n",
       "      <td>8</td>\n",
       "      <td>13</td>\n",
       "      <td>13</td>\n",
       "    </tr>\n",
       "    <tr>\n",
       "      <th>1</th>\n",
       "      <td>8</td>\n",
       "      <td>0</td>\n",
       "      <td>6</td>\n",
       "      <td>12</td>\n",
       "      <td>12</td>\n",
       "    </tr>\n",
       "    <tr>\n",
       "      <th>2</th>\n",
       "      <td>8</td>\n",
       "      <td>6</td>\n",
       "      <td>0</td>\n",
       "      <td>13</td>\n",
       "      <td>12</td>\n",
       "    </tr>\n",
       "    <tr>\n",
       "      <th>3</th>\n",
       "      <td>13</td>\n",
       "      <td>12</td>\n",
       "      <td>13</td>\n",
       "      <td>0</td>\n",
       "      <td>1</td>\n",
       "    </tr>\n",
       "    <tr>\n",
       "      <th>4</th>\n",
       "      <td>13</td>\n",
       "      <td>12</td>\n",
       "      <td>12</td>\n",
       "      <td>1</td>\n",
       "      <td>0</td>\n",
       "    </tr>\n",
       "  </tbody>\n",
       "</table>\n",
       "</div>"
      ],
      "text/plain": [
       "    0   1   2   3   4\n",
       "0   0   8   8  13  13\n",
       "1   8   0   6  12  12\n",
       "2   8   6   0  13  12\n",
       "3  13  12  13   0   1\n",
       "4  13  12  12   1   0"
      ]
     },
     "execution_count": 25,
     "metadata": {},
     "output_type": "execute_result"
    }
   ],
   "source": [
    "dfd = dfd.applymap(lambda x: levenshtein.distance(x[0], x[1])) #measure levenshtein distance\n",
    "dfd.head()"
   ]
  },
  {
   "cell_type": "markdown",
   "metadata": {
    "id": "M8CA8nMFnME9"
   },
   "source": [
    "As you might have observed from above, the 3rd and 4th cities have a levenshtein distance of 1 indicating that they are very close to each other. Let's now try and remove them."
   ]
  },
  {
   "cell_type": "markdown",
   "metadata": {
    "id": "-74e4d2lnYCr"
   },
   "source": [
    "To do that, we will first create a method that gets the position, column and row, of pairs that have a certain levenshtein distance between them."
   ]
  },
  {
   "cell_type": "code",
   "execution_count": 26,
   "metadata": {
    "id": "OGwNPqe3fcgQ"
   },
   "outputs": [],
   "source": [
    "import numpy as np\n",
    "def Get_indcies(df,b):\n",
    "    t=np.where(df.values == b)\n",
    "    print(\"t\", t)\n",
    "    return np.column_stack((t[0],t[1]))"
   ]
  },
  {
   "cell_type": "markdown",
   "metadata": {
    "id": "cl9urlFxn1hR"
   },
   "source": [
    "Next, we need to apply this function to our dataframe where the distance between the pair is 1. \n",
    "\n",
    "We then fetch either the row or the column, where the value at it is 1, and we drop that index."
   ]
  },
  {
   "cell_type": "code",
   "execution_count": 27,
   "metadata": {
    "colab": {
     "base_uri": "https://localhost:8080/"
    },
    "id": "8AbkcyFnYWgW",
    "outputId": "34d0adcc-d779-41ec-e827-3ec7432e2457"
   },
   "outputs": [
    {
     "name": "stdout",
     "output_type": "stream",
     "text": [
      "t (array([3, 4], dtype=int64), array([4, 3], dtype=int64))\n",
      "x [[3 4]\n",
      " [4 3]]\n"
     ]
    },
    {
     "data": {
      "text/plain": [
       "[3]"
      ]
     },
     "execution_count": 27,
     "metadata": {},
     "output_type": "execute_result"
    }
   ],
   "source": [
    "x = Get_indcies(dfd,1)#get the row and col index where the distance ==1\n",
    "print(\"x\", x)\n",
    "drop_similar_replicas = [i[0] for i in x if i[0]<i[1]] #store the index to be removed in a list\n",
    "drop_similar_replicas "
   ]
  },
  {
   "cell_type": "code",
   "execution_count": 28,
   "metadata": {
    "id": "kyAffGGViEl6"
   },
   "outputs": [],
   "source": [
    "df.drop(df.index[drop_similar_replicas], inplace=True) #drop the similar replicas"
   ]
  },
  {
   "cell_type": "code",
   "execution_count": 29,
   "metadata": {
    "colab": {
     "base_uri": "https://localhost:8080/",
     "height": 174
    },
    "id": "EDRF2nzTLe9I",
    "outputId": "03042274-5bb7-442d-c6f3-233b4deff234"
   },
   "outputs": [
    {
     "data": {
      "text/html": [
       "<div>\n",
       "<style scoped>\n",
       "    .dataframe tbody tr th:only-of-type {\n",
       "        vertical-align: middle;\n",
       "    }\n",
       "\n",
       "    .dataframe tbody tr th {\n",
       "        vertical-align: top;\n",
       "    }\n",
       "\n",
       "    .dataframe thead th {\n",
       "        text-align: right;\n",
       "    }\n",
       "</style>\n",
       "<table border=\"1\" class=\"dataframe\">\n",
       "  <thead>\n",
       "    <tr style=\"text-align: right;\">\n",
       "      <th></th>\n",
       "      <th>Egyptian_Cities</th>\n",
       "    </tr>\n",
       "  </thead>\n",
       "  <tbody>\n",
       "    <tr>\n",
       "      <th>0</th>\n",
       "      <td>Alexandria</td>\n",
       "    </tr>\n",
       "    <tr>\n",
       "      <th>1</th>\n",
       "      <td>Cairo</td>\n",
       "    </tr>\n",
       "    <tr>\n",
       "      <th>2</th>\n",
       "      <td>Assuit</td>\n",
       "    </tr>\n",
       "    <tr>\n",
       "      <th>4</th>\n",
       "      <td>Sharm AlSheikh</td>\n",
       "    </tr>\n",
       "  </tbody>\n",
       "</table>\n",
       "</div>"
      ],
      "text/plain": [
       "  Egyptian_Cities\n",
       "0      Alexandria\n",
       "1           Cairo\n",
       "2          Assuit\n",
       "4  Sharm AlSheikh"
      ]
     },
     "execution_count": 29,
     "metadata": {},
     "output_type": "execute_result"
    }
   ],
   "source": [
    "df"
   ]
  },
  {
   "cell_type": "markdown",
   "metadata": {
    "id": "amijqlrumzC4"
   },
   "source": [
    "## Removing Attribute Redundancies\n",
    "\n",
    "Feature selection is also known as attribute selection is a process of extracting the most relevant features from the dataset and then applying machine learning algorithms for the better performance of the model. A large number of irrelevant features increases the training time exponentially and increase the risk of overfitting.\n",
    "\n",
    "There are two ways to remove unnecessary features that won't contribute to the model.\n",
    "\n",
    "1.   Chi Square - For categorical features\n",
    "2.   Covariance - For numeric features\n",
    "\n",
    "\n"
   ]
  },
  {
   "cell_type": "markdown",
   "metadata": {
    "id": "kJfvKRx2m5F8"
   },
   "source": [
    "### Removing Attribute Redundancies -  Chi-square Test for Feature Extraction:\n",
    "Chi-square test is used for categorical features in a dataset. We calculate Chi-square between each feature and the target and select the desired number of features with best Chi-square scores. It determines if the association between two categorical variables of the sample would reflect their real association in the population. \n",
    "\n",
    "\n"
   ]
  },
  {
   "cell_type": "markdown",
   "metadata": {
    "id": "iF4Z1NPqIZll"
   },
   "source": [
    "Let's state the Chi-square hypotheses:\n",
    "\n",
    "<b>Null hypothesis:</b> There is no statistically significant relationship between feature A and feature B.\n",
    "\n",
    "<b>Alternative hypothesis:</b> There is a statistically significant relationship between the feature A and feature B.\n",
    "\n",
    "Now there is something that we call the significance value or alpha. If the p-value of the features we are checking their chi-square score is less than the significance value, we can safely reject the null hypothesis (reject that the 2 features are independent).\n",
    "\n",
    "The significance value (alpha) is the probability of rejecting the null hypothesis. Let's assume for the rest of this notebook that the alpha = 0.05. "
   ]
  },
  {
   "cell_type": "markdown",
   "metadata": {
    "id": "XMsresUYJeMc"
   },
   "source": [
    "In python there is a function called `chi2_contengency()` that is avaliable in Scipy. The `chi2_contengency()` method is applied to a two dimensional array representing the actual attribute values, and it automatically computes the contingency matrix. Which returns:\n",
    "\n",
    "1. chi2: The test statistic\n",
    "2. p: The p-value of the test\n",
    "3. dof: Degrees of freedom\n",
    "4. expected: The expected frequencies, based on the marginal sums of the table"
   ]
  },
  {
   "cell_type": "markdown",
   "metadata": {
    "id": "FrAJo7f9Kl5L"
   },
   "source": [
    "Let's start by taking a look at the data we have and then building the contengency matrix."
   ]
  },
  {
   "cell_type": "code",
   "execution_count": 3,
   "metadata": {
    "colab": {
     "base_uri": "https://localhost:8080/",
     "height": 206
    },
    "id": "RmMdOHqiKpzQ",
    "outputId": "59781669-51c0-44c1-97b4-1de9e6a55054"
   },
   "outputs": [
    {
     "data": {
      "text/html": [
       "<div>\n",
       "<style scoped>\n",
       "    .dataframe tbody tr th:only-of-type {\n",
       "        vertical-align: middle;\n",
       "    }\n",
       "\n",
       "    .dataframe tbody tr th {\n",
       "        vertical-align: top;\n",
       "    }\n",
       "\n",
       "    .dataframe thead th {\n",
       "        text-align: right;\n",
       "    }\n",
       "</style>\n",
       "<table border=\"1\" class=\"dataframe\">\n",
       "  <thead>\n",
       "    <tr style=\"text-align: right;\">\n",
       "      <th></th>\n",
       "      <th>Gender</th>\n",
       "      <th>isSmoker</th>\n",
       "    </tr>\n",
       "  </thead>\n",
       "  <tbody>\n",
       "    <tr>\n",
       "      <th>0</th>\n",
       "      <td>M</td>\n",
       "      <td>Smoker</td>\n",
       "    </tr>\n",
       "    <tr>\n",
       "      <th>1</th>\n",
       "      <td>M</td>\n",
       "      <td>Smoker</td>\n",
       "    </tr>\n",
       "    <tr>\n",
       "      <th>2</th>\n",
       "      <td>M</td>\n",
       "      <td>Non-Smpoker</td>\n",
       "    </tr>\n",
       "    <tr>\n",
       "      <th>3</th>\n",
       "      <td>F</td>\n",
       "      <td>Non-Smpoker</td>\n",
       "    </tr>\n",
       "    <tr>\n",
       "      <th>4</th>\n",
       "      <td>F</td>\n",
       "      <td>Smoker</td>\n",
       "    </tr>\n",
       "  </tbody>\n",
       "</table>\n",
       "</div>"
      ],
      "text/plain": [
       "  Gender     isSmoker\n",
       "0      M       Smoker\n",
       "1      M       Smoker\n",
       "2      M  Non-Smpoker\n",
       "3      F  Non-Smpoker\n",
       "4      F       Smoker"
      ]
     },
     "execution_count": 3,
     "metadata": {},
     "output_type": "execute_result"
    }
   ],
   "source": [
    "import pandas as pd\n",
    "import numpy as np\n",
    "from scipy.stats import chi2_contingency\n",
    "import seaborn as sns\n",
    "import matplotlib.pyplot as plt\n",
    "%matplotlib inline\n",
    "df = pd.DataFrame({'Gender' : ['M', 'M', 'M', 'F', 'F'] * 10,\n",
    "                   'isSmoker' : ['Smoker', 'Smoker', 'Non-Smpoker', 'Non-Smpoker', 'Smoker'] * 10\n",
    "                  })\n",
    "df.head()"
   ]
  },
  {
   "cell_type": "markdown",
   "metadata": {
    "id": "buOTIl4VK10x"
   },
   "source": [
    "**To run the Chi-Square Test, the easiest way is to convert the data into a contingency table with frequencies. We will use the crosstab command from pandas.**"
   ]
  },
  {
   "cell_type": "code",
   "execution_count": 4,
   "metadata": {
    "colab": {
     "base_uri": "https://localhost:8080/",
     "height": 141
    },
    "id": "cGcEnRj9KzL1",
    "outputId": "ac244984-9d71-4fcb-a762-4fe7a87aaffe"
   },
   "outputs": [
    {
     "data": {
      "text/html": [
       "<div>\n",
       "<style scoped>\n",
       "    .dataframe tbody tr th:only-of-type {\n",
       "        vertical-align: middle;\n",
       "    }\n",
       "\n",
       "    .dataframe tbody tr th {\n",
       "        vertical-align: top;\n",
       "    }\n",
       "\n",
       "    .dataframe thead th {\n",
       "        text-align: right;\n",
       "    }\n",
       "</style>\n",
       "<table border=\"1\" class=\"dataframe\">\n",
       "  <thead>\n",
       "    <tr style=\"text-align: right;\">\n",
       "      <th>isSmoker</th>\n",
       "      <th>Non-Smpoker</th>\n",
       "      <th>Smoker</th>\n",
       "    </tr>\n",
       "    <tr>\n",
       "      <th>Gender</th>\n",
       "      <th></th>\n",
       "      <th></th>\n",
       "    </tr>\n",
       "  </thead>\n",
       "  <tbody>\n",
       "    <tr>\n",
       "      <th>F</th>\n",
       "      <td>10</td>\n",
       "      <td>10</td>\n",
       "    </tr>\n",
       "    <tr>\n",
       "      <th>M</th>\n",
       "      <td>10</td>\n",
       "      <td>20</td>\n",
       "    </tr>\n",
       "  </tbody>\n",
       "</table>\n",
       "</div>"
      ],
      "text/plain": [
       "isSmoker  Non-Smpoker  Smoker\n",
       "Gender                       \n",
       "F                  10      10\n",
       "M                  10      20"
      ]
     },
     "execution_count": 4,
     "metadata": {},
     "output_type": "execute_result"
    }
   ],
   "source": [
    "contigency= pd.crosstab(df['Gender'], df['isSmoker']) \n",
    "contigency"
   ]
  },
  {
   "cell_type": "markdown",
   "metadata": {
    "id": "uUdfvYXUK6_x"
   },
   "source": [
    "Now that we have built the contingency table we can pass it to `chi2_contingency` function"
   ]
  },
  {
   "cell_type": "code",
   "execution_count": 5,
   "metadata": {
    "colab": {
     "base_uri": "https://localhost:8080/"
    },
    "id": "ZQ7bnDj7LZt4",
    "outputId": "90baee9a-6f64-432b-ef20-16cace71db5e"
   },
   "outputs": [
    {
     "name": "stdout",
     "output_type": "stream",
     "text": [
      "0.3767591178115821\n"
     ]
    }
   ],
   "source": [
    "# Chi-square test of independence. \n",
    "_, p, _, _ = chi2_contingency(contigency) \n",
    "# Print the p-value\n",
    "print(p)"
   ]
  },
  {
   "cell_type": "markdown",
   "metadata": {
    "id": "TNQ3RmKeK7D-"
   },
   "source": [
    "**Since the p value is not smaller than 0.05, we cannot reject the null hypothesis. Hence, both features, isSmoker and Gender, are independent.**"
   ]
  },
  {
   "cell_type": "markdown",
   "metadata": {
    "id": "-W8Ox1PTO_lb"
   },
   "source": [
    "### Removing Attribute Redundancies - Pearson Test\n",
    "\n"
   ]
  },
  {
   "cell_type": "markdown",
   "metadata": {
    "id": "j7REHFtpQ5TY"
   },
   "source": [
    "The strength of the association between two **numeric** variables is known as correlation test.\n",
    "For instance, if we are interested to know whether there is a relationship between the mpg of a car and its weight, a correlation coefficient can be calculated to answer this question."
   ]
  },
  {
   "cell_type": "code",
   "execution_count": 6,
   "metadata": {
    "colab": {
     "base_uri": "https://localhost:8080/",
     "height": 206
    },
    "id": "RhpdNzplQ5gJ",
    "outputId": "330ef734-1d55-430d-a172-c172bb27f4b5"
   },
   "outputs": [
    {
     "data": {
      "text/html": [
       "<div>\n",
       "<style scoped>\n",
       "    .dataframe tbody tr th:only-of-type {\n",
       "        vertical-align: middle;\n",
       "    }\n",
       "\n",
       "    .dataframe tbody tr th {\n",
       "        vertical-align: top;\n",
       "    }\n",
       "\n",
       "    .dataframe thead th {\n",
       "        text-align: right;\n",
       "    }\n",
       "</style>\n",
       "<table border=\"1\" class=\"dataframe\">\n",
       "  <thead>\n",
       "    <tr style=\"text-align: right;\">\n",
       "      <th></th>\n",
       "      <th>mpg</th>\n",
       "      <th>weight</th>\n",
       "    </tr>\n",
       "  </thead>\n",
       "  <tbody>\n",
       "    <tr>\n",
       "      <th>0</th>\n",
       "      <td>18.0</td>\n",
       "      <td>3504.0</td>\n",
       "    </tr>\n",
       "    <tr>\n",
       "      <th>1</th>\n",
       "      <td>15.0</td>\n",
       "      <td>3693.0</td>\n",
       "    </tr>\n",
       "    <tr>\n",
       "      <th>2</th>\n",
       "      <td>18.0</td>\n",
       "      <td>3436.0</td>\n",
       "    </tr>\n",
       "    <tr>\n",
       "      <th>3</th>\n",
       "      <td>16.0</td>\n",
       "      <td>3433.0</td>\n",
       "    </tr>\n",
       "    <tr>\n",
       "      <th>4</th>\n",
       "      <td>17.0</td>\n",
       "      <td>3449.0</td>\n",
       "    </tr>\n",
       "  </tbody>\n",
       "</table>\n",
       "</div>"
      ],
      "text/plain": [
       "    mpg  weight\n",
       "0  18.0  3504.0\n",
       "1  15.0  3693.0\n",
       "2  18.0  3436.0\n",
       "3  16.0  3433.0\n",
       "4  17.0  3449.0"
      ]
     },
     "execution_count": 6,
     "metadata": {},
     "output_type": "execute_result"
    }
   ],
   "source": [
    "df_cars = pd.read_csv('auto.csv')\n",
    "df_cars = df_cars[[\"mpg\", \"weight\"]]\n",
    "df_cars.head()"
   ]
  },
  {
   "cell_type": "markdown",
   "metadata": {
    "id": "yshVVU8bSino"
   },
   "source": [
    "Next, we need to convert each column to a series and pass them to the `pearsonr` function provided by SciPy"
   ]
  },
  {
   "cell_type": "code",
   "execution_count": 7,
   "metadata": {
    "colab": {
     "base_uri": "https://localhost:8080/"
    },
    "id": "5MO1nbqWSmS_",
    "outputId": "19bb6719-4479-4bbc-adc0-8515c9bcd60d"
   },
   "outputs": [
    {
     "name": "stdout",
     "output_type": "stream",
     "text": [
      "Pearsons correlation: -0.832\n"
     ]
    }
   ],
   "source": [
    "\n",
    "from scipy.stats import pearsonr \n",
    "  \n",
    "# Convert dataframe into series \n",
    "list_weight = df_cars['weight'] \n",
    "list_mpg = df_cars['mpg'] \n",
    "  \n",
    "# Apply the pearsonr() \n",
    "corr, _ = pearsonr(list_weight, list_mpg) \n",
    "print('Pearsons correlation: %.3f' % corr) "
   ]
  },
  {
   "cell_type": "markdown",
   "metadata": {
    "id": "7DeGoHRlS7iJ"
   },
   "source": [
    "**The negative sign indicates that there is a negative correlation between the 2 features, the closer to 1 the number is, the more correlated the columns are. This can be visualized using a scattered plot.**"
   ]
  },
  {
   "cell_type": "code",
   "execution_count": 8,
   "metadata": {
    "colab": {
     "base_uri": "https://localhost:8080/",
     "height": 297
    },
    "id": "Wua3vQuPTWR-",
    "outputId": "f89ad9e5-a10e-4fe3-ee3e-3ea1d0b056d4"
   },
   "outputs": [
    {
     "data": {
      "text/plain": [
       "<Axes: xlabel='mpg', ylabel='weight'>"
      ]
     },
     "execution_count": 8,
     "metadata": {},
     "output_type": "execute_result"
    },
    {
     "data": {
      "image/png": "[encoded data removed]",
      "text/plain": [
       "<Figure size 640x480 with 1 Axes>"
      ]
     },
     "metadata": {},
     "output_type": "display_data"
    }
   ],
   "source": [
    "import seaborn as sns\n",
    "sns.scatterplot( x = df_cars['mpg'],y=df_cars['weight'])"
   ]
  },
  {
   "cell_type": "markdown",
   "metadata": {
    "id": "AZA_9yPZM9uX"
   },
   "source": [
    "## **Data Integration - Challenge 1**\n",
    "\n",
    "In the Lab6 subdirectory in the course repo, there are 9 spreadsheets of microbiome data that was acquired from RNA sequencing procedures from 9 different patients. Containing the biological name of the microbiome found and their count.\n",
    "\n",
    "\n",
    "Write code that imports each of the data spreadsheets and combines them into a single DataFrame."
   ]
  },
  {
   "cell_type": "code",
   "execution_count": 85,
   "metadata": {},
   "outputs": [],
   "source": [
    "import pandas as pd"
   ]
  },
  {
   "cell_type": "code",
   "execution_count": 36,
   "metadata": {
    "id": "UECtDUKDNciz"
   },
   "outputs": [],
   "source": [
    "meta_df = pd.read_excel(r\"C:\\Users\\moham\\Downloads\\Lab 6\\microbiome\\metadata.xls\")"
   ]
  },
  {
   "cell_type": "code",
   "execution_count": 37,
   "metadata": {
    "id": "n5tHC8rke46L"
   },
   "outputs": [
    {
     "data": {
      "text/html": [
       "<div>\n",
       "<style scoped>\n",
       "    .dataframe tbody tr th:only-of-type {\n",
       "        vertical-align: middle;\n",
       "    }\n",
       "\n",
       "    .dataframe tbody tr th {\n",
       "        vertical-align: top;\n",
       "    }\n",
       "\n",
       "    .dataframe thead th {\n",
       "        text-align: right;\n",
       "    }\n",
       "</style>\n",
       "<table border=\"1\" class=\"dataframe\">\n",
       "  <thead>\n",
       "    <tr style=\"text-align: right;\">\n",
       "      <th></th>\n",
       "      <th>BARCODE</th>\n",
       "      <th>GROUP</th>\n",
       "      <th>SAMPLE</th>\n",
       "    </tr>\n",
       "  </thead>\n",
       "  <tbody>\n",
       "    <tr>\n",
       "      <th>0</th>\n",
       "      <td>MID1</td>\n",
       "      <td>EXTRACTION CONTROL</td>\n",
       "      <td>NaN</td>\n",
       "    </tr>\n",
       "    <tr>\n",
       "      <th>1</th>\n",
       "      <td>MID2</td>\n",
       "      <td>NEC 1</td>\n",
       "      <td>tissue</td>\n",
       "    </tr>\n",
       "    <tr>\n",
       "      <th>2</th>\n",
       "      <td>MID3</td>\n",
       "      <td>Control 1</td>\n",
       "      <td>tissue</td>\n",
       "    </tr>\n",
       "    <tr>\n",
       "      <th>3</th>\n",
       "      <td>MID4</td>\n",
       "      <td>NEC 2</td>\n",
       "      <td>tissue</td>\n",
       "    </tr>\n",
       "    <tr>\n",
       "      <th>4</th>\n",
       "      <td>MID5</td>\n",
       "      <td>Control 2</td>\n",
       "      <td>tissue</td>\n",
       "    </tr>\n",
       "    <tr>\n",
       "      <th>5</th>\n",
       "      <td>MID6</td>\n",
       "      <td>NEC 1</td>\n",
       "      <td>stool</td>\n",
       "    </tr>\n",
       "    <tr>\n",
       "      <th>6</th>\n",
       "      <td>MID7</td>\n",
       "      <td>Control 1</td>\n",
       "      <td>stool</td>\n",
       "    </tr>\n",
       "    <tr>\n",
       "      <th>7</th>\n",
       "      <td>MID8</td>\n",
       "      <td>NEC 2</td>\n",
       "      <td>stool</td>\n",
       "    </tr>\n",
       "    <tr>\n",
       "      <th>8</th>\n",
       "      <td>MID9</td>\n",
       "      <td>Control 2</td>\n",
       "      <td>stool</td>\n",
       "    </tr>\n",
       "  </tbody>\n",
       "</table>\n",
       "</div>"
      ],
      "text/plain": [
       "  BARCODE               GROUP  SAMPLE\n",
       "0    MID1  EXTRACTION CONTROL     NaN\n",
       "1    MID2               NEC 1  tissue\n",
       "2    MID3           Control 1  tissue\n",
       "3    MID4               NEC 2  tissue\n",
       "4    MID5           Control 2  tissue\n",
       "5    MID6               NEC 1   stool\n",
       "6    MID7           Control 1   stool\n",
       "7    MID8               NEC 2   stool\n",
       "8    MID9           Control 2   stool"
      ]
     },
     "execution_count": 37,
     "metadata": {},
     "output_type": "execute_result"
    }
   ],
   "source": [
    "meta_df"
   ]
  },
  {
   "cell_type": "code",
   "execution_count": 38,
   "metadata": {
    "id": "qhnCSyh4ZSaZ"
   },
   "outputs": [
    {
     "data": {
      "text/html": [
       "<div>\n",
       "<style scoped>\n",
       "    .dataframe tbody tr th:only-of-type {\n",
       "        vertical-align: middle;\n",
       "    }\n",
       "\n",
       "    .dataframe tbody tr th {\n",
       "        vertical-align: top;\n",
       "    }\n",
       "\n",
       "    .dataframe thead th {\n",
       "        text-align: right;\n",
       "    }\n",
       "</style>\n",
       "<table border=\"1\" class=\"dataframe\">\n",
       "  <thead>\n",
       "    <tr style=\"text-align: right;\">\n",
       "      <th></th>\n",
       "      <th>Archaea \"Crenarchaeota\" Thermoprotei Desulfurococcales Desulfurococcaceae Ignisphaera</th>\n",
       "      <th>7</th>\n",
       "    </tr>\n",
       "  </thead>\n",
       "  <tbody>\n",
       "    <tr>\n",
       "      <th>0</th>\n",
       "      <td>Archaea \"Crenarchaeota\" Thermoprotei Desulfuro...</td>\n",
       "      <td>2</td>\n",
       "    </tr>\n",
       "    <tr>\n",
       "      <th>1</th>\n",
       "      <td>Archaea \"Crenarchaeota\" Thermoprotei Sulfoloba...</td>\n",
       "      <td>3</td>\n",
       "    </tr>\n",
       "    <tr>\n",
       "      <th>2</th>\n",
       "      <td>Archaea \"Crenarchaeota\" Thermoprotei Thermopro...</td>\n",
       "      <td>3</td>\n",
       "    </tr>\n",
       "    <tr>\n",
       "      <th>3</th>\n",
       "      <td>Archaea \"Euryarchaeota\" \"Methanomicrobia\" Meth...</td>\n",
       "      <td>7</td>\n",
       "    </tr>\n",
       "    <tr>\n",
       "      <th>4</th>\n",
       "      <td>Archaea \"Euryarchaeota\" \"Methanomicrobia\" Meth...</td>\n",
       "      <td>1</td>\n",
       "    </tr>\n",
       "    <tr>\n",
       "      <th>...</th>\n",
       "      <td>...</td>\n",
       "      <td>...</td>\n",
       "    </tr>\n",
       "    <tr>\n",
       "      <th>266</th>\n",
       "      <td>Bacteria \"Thermotogae\" Thermotogae Thermotogal...</td>\n",
       "      <td>9</td>\n",
       "    </tr>\n",
       "    <tr>\n",
       "      <th>267</th>\n",
       "      <td>Bacteria \"Verrucomicrobia\" Opitutae Opitutales...</td>\n",
       "      <td>1</td>\n",
       "    </tr>\n",
       "    <tr>\n",
       "      <th>268</th>\n",
       "      <td>Bacteria Cyanobacteria Cyanobacteria  Chloropl...</td>\n",
       "      <td>2</td>\n",
       "    </tr>\n",
       "    <tr>\n",
       "      <th>269</th>\n",
       "      <td>Bacteria Cyanobacteria Cyanobacteria  Chloropl...</td>\n",
       "      <td>85</td>\n",
       "    </tr>\n",
       "    <tr>\n",
       "      <th>270</th>\n",
       "      <td>Bacteria Cyanobacteria Cyanobacteria  Chloropl...</td>\n",
       "      <td>1388</td>\n",
       "    </tr>\n",
       "  </tbody>\n",
       "</table>\n",
       "<p>271 rows × 2 columns</p>\n",
       "</div>"
      ],
      "text/plain": [
       "    Archaea \"Crenarchaeota\" Thermoprotei Desulfurococcales Desulfurococcaceae Ignisphaera  \\\n",
       "0    Archaea \"Crenarchaeota\" Thermoprotei Desulfuro...                                      \n",
       "1    Archaea \"Crenarchaeota\" Thermoprotei Sulfoloba...                                      \n",
       "2    Archaea \"Crenarchaeota\" Thermoprotei Thermopro...                                      \n",
       "3    Archaea \"Euryarchaeota\" \"Methanomicrobia\" Meth...                                      \n",
       "4    Archaea \"Euryarchaeota\" \"Methanomicrobia\" Meth...                                      \n",
       "..                                                 ...                                      \n",
       "266  Bacteria \"Thermotogae\" Thermotogae Thermotogal...                                      \n",
       "267  Bacteria \"Verrucomicrobia\" Opitutae Opitutales...                                      \n",
       "268  Bacteria Cyanobacteria Cyanobacteria  Chloropl...                                      \n",
       "269  Bacteria Cyanobacteria Cyanobacteria  Chloropl...                                      \n",
       "270  Bacteria Cyanobacteria Cyanobacteria  Chloropl...                                      \n",
       "\n",
       "        7  \n",
       "0       2  \n",
       "1       3  \n",
       "2       3  \n",
       "3       7  \n",
       "4       1  \n",
       "..    ...  \n",
       "266     9  \n",
       "267     1  \n",
       "268     2  \n",
       "269    85  \n",
       "270  1388  \n",
       "\n",
       "[271 rows x 2 columns]"
      ]
     },
     "metadata": {},
     "output_type": "display_data"
    },
    {
     "data": {
      "text/html": [
       "<div>\n",
       "<style scoped>\n",
       "    .dataframe tbody tr th:only-of-type {\n",
       "        vertical-align: middle;\n",
       "    }\n",
       "\n",
       "    .dataframe tbody tr th {\n",
       "        vertical-align: top;\n",
       "    }\n",
       "\n",
       "    .dataframe thead th {\n",
       "        text-align: right;\n",
       "    }\n",
       "</style>\n",
       "<table border=\"1\" class=\"dataframe\">\n",
       "  <thead>\n",
       "    <tr style=\"text-align: right;\">\n",
       "      <th></th>\n",
       "      <th>Archaea \"Crenarchaeota\" Thermoprotei Acidilobales Acidilobaceae Acidilobus</th>\n",
       "      <th>2</th>\n",
       "    </tr>\n",
       "  </thead>\n",
       "  <tbody>\n",
       "    <tr>\n",
       "      <th>0</th>\n",
       "      <td>Archaea \"Crenarchaeota\" Thermoprotei Acidiloba...</td>\n",
       "      <td>14</td>\n",
       "    </tr>\n",
       "    <tr>\n",
       "      <th>1</th>\n",
       "      <td>Archaea \"Crenarchaeota\" Thermoprotei Desulfuro...</td>\n",
       "      <td>23</td>\n",
       "    </tr>\n",
       "    <tr>\n",
       "      <th>2</th>\n",
       "      <td>Archaea \"Crenarchaeota\" Thermoprotei Desulfuro...</td>\n",
       "      <td>1</td>\n",
       "    </tr>\n",
       "    <tr>\n",
       "      <th>3</th>\n",
       "      <td>Archaea \"Crenarchaeota\" Thermoprotei Desulfuro...</td>\n",
       "      <td>2</td>\n",
       "    </tr>\n",
       "    <tr>\n",
       "      <th>4</th>\n",
       "      <td>Archaea \"Crenarchaeota\" Thermoprotei Desulfuro...</td>\n",
       "      <td>1</td>\n",
       "    </tr>\n",
       "    <tr>\n",
       "      <th>...</th>\n",
       "      <td>...</td>\n",
       "      <td>...</td>\n",
       "    </tr>\n",
       "    <tr>\n",
       "      <th>282</th>\n",
       "      <td>Bacteria \"Thermotogae\" Thermotogae Thermotogal...</td>\n",
       "      <td>15</td>\n",
       "    </tr>\n",
       "    <tr>\n",
       "      <th>283</th>\n",
       "      <td>Bacteria \"Thermotogae\" Thermotogae Thermotogal...</td>\n",
       "      <td>22</td>\n",
       "    </tr>\n",
       "    <tr>\n",
       "      <th>284</th>\n",
       "      <td>Bacteria Cyanobacteria Cyanobacteria  Chloropl...</td>\n",
       "      <td>1</td>\n",
       "    </tr>\n",
       "    <tr>\n",
       "      <th>285</th>\n",
       "      <td>Bacteria Cyanobacteria Cyanobacteria  Chloropl...</td>\n",
       "      <td>2</td>\n",
       "    </tr>\n",
       "    <tr>\n",
       "      <th>286</th>\n",
       "      <td>Bacteria TM7    TM7_genera_incertae_sedis</td>\n",
       "      <td>2</td>\n",
       "    </tr>\n",
       "  </tbody>\n",
       "</table>\n",
       "<p>287 rows × 2 columns</p>\n",
       "</div>"
      ],
      "text/plain": [
       "    Archaea \"Crenarchaeota\" Thermoprotei Acidilobales Acidilobaceae Acidilobus  \\\n",
       "0    Archaea \"Crenarchaeota\" Thermoprotei Acidiloba...                           \n",
       "1    Archaea \"Crenarchaeota\" Thermoprotei Desulfuro...                           \n",
       "2    Archaea \"Crenarchaeota\" Thermoprotei Desulfuro...                           \n",
       "3    Archaea \"Crenarchaeota\" Thermoprotei Desulfuro...                           \n",
       "4    Archaea \"Crenarchaeota\" Thermoprotei Desulfuro...                           \n",
       "..                                                 ...                           \n",
       "282  Bacteria \"Thermotogae\" Thermotogae Thermotogal...                           \n",
       "283  Bacteria \"Thermotogae\" Thermotogae Thermotogal...                           \n",
       "284  Bacteria Cyanobacteria Cyanobacteria  Chloropl...                           \n",
       "285  Bacteria Cyanobacteria Cyanobacteria  Chloropl...                           \n",
       "286          Bacteria TM7    TM7_genera_incertae_sedis                           \n",
       "\n",
       "      2  \n",
       "0    14  \n",
       "1    23  \n",
       "2     1  \n",
       "3     2  \n",
       "4     1  \n",
       "..   ..  \n",
       "282  15  \n",
       "283  22  \n",
       "284   1  \n",
       "285   2  \n",
       "286   2  \n",
       "\n",
       "[287 rows x 2 columns]"
      ]
     },
     "metadata": {},
     "output_type": "display_data"
    },
    {
     "data": {
      "text/html": [
       "<div>\n",
       "<style scoped>\n",
       "    .dataframe tbody tr th:only-of-type {\n",
       "        vertical-align: middle;\n",
       "    }\n",
       "\n",
       "    .dataframe tbody tr th {\n",
       "        vertical-align: top;\n",
       "    }\n",
       "\n",
       "    .dataframe thead th {\n",
       "        text-align: right;\n",
       "    }\n",
       "</style>\n",
       "<table border=\"1\" class=\"dataframe\">\n",
       "  <thead>\n",
       "    <tr style=\"text-align: right;\">\n",
       "      <th></th>\n",
       "      <th>Archaea \"Crenarchaeota\" Thermoprotei Acidilobales Acidilobaceae Acidilobus</th>\n",
       "      <th>1</th>\n",
       "    </tr>\n",
       "  </thead>\n",
       "  <tbody>\n",
       "    <tr>\n",
       "      <th>0</th>\n",
       "      <td>Archaea \"Crenarchaeota\" Thermoprotei Acidiloba...</td>\n",
       "      <td>15</td>\n",
       "    </tr>\n",
       "    <tr>\n",
       "      <th>1</th>\n",
       "      <td>Archaea \"Crenarchaeota\" Thermoprotei Desulfuro...</td>\n",
       "      <td>14</td>\n",
       "    </tr>\n",
       "    <tr>\n",
       "      <th>2</th>\n",
       "      <td>Archaea \"Crenarchaeota\" Thermoprotei Desulfuro...</td>\n",
       "      <td>4</td>\n",
       "    </tr>\n",
       "    <tr>\n",
       "      <th>3</th>\n",
       "      <td>Archaea \"Crenarchaeota\" Thermoprotei Desulfuro...</td>\n",
       "      <td>1</td>\n",
       "    </tr>\n",
       "    <tr>\n",
       "      <th>4</th>\n",
       "      <td>Archaea \"Crenarchaeota\" Thermoprotei Desulfuro...</td>\n",
       "      <td>1</td>\n",
       "    </tr>\n",
       "    <tr>\n",
       "      <th>...</th>\n",
       "      <td>...</td>\n",
       "      <td>...</td>\n",
       "    </tr>\n",
       "    <tr>\n",
       "      <th>361</th>\n",
       "      <td>Bacteria Cyanobacteria Cyanobacteria  Chloropl...</td>\n",
       "      <td>1</td>\n",
       "    </tr>\n",
       "    <tr>\n",
       "      <th>362</th>\n",
       "      <td>Bacteria Cyanobacteria Cyanobacteria  Chloropl...</td>\n",
       "      <td>4</td>\n",
       "    </tr>\n",
       "    <tr>\n",
       "      <th>363</th>\n",
       "      <td>Bacteria Cyanobacteria Cyanobacteria  Chloropl...</td>\n",
       "      <td>54</td>\n",
       "    </tr>\n",
       "    <tr>\n",
       "      <th>364</th>\n",
       "      <td>Bacteria OD1    OD1_genera_incertae_sedis</td>\n",
       "      <td>1</td>\n",
       "    </tr>\n",
       "    <tr>\n",
       "      <th>365</th>\n",
       "      <td>Bacteria OP11    OP11_genera_incertae_sedis</td>\n",
       "      <td>26</td>\n",
       "    </tr>\n",
       "  </tbody>\n",
       "</table>\n",
       "<p>366 rows × 2 columns</p>\n",
       "</div>"
      ],
      "text/plain": [
       "    Archaea \"Crenarchaeota\" Thermoprotei Acidilobales Acidilobaceae Acidilobus  \\\n",
       "0    Archaea \"Crenarchaeota\" Thermoprotei Acidiloba...                           \n",
       "1    Archaea \"Crenarchaeota\" Thermoprotei Desulfuro...                           \n",
       "2    Archaea \"Crenarchaeota\" Thermoprotei Desulfuro...                           \n",
       "3    Archaea \"Crenarchaeota\" Thermoprotei Desulfuro...                           \n",
       "4    Archaea \"Crenarchaeota\" Thermoprotei Desulfuro...                           \n",
       "..                                                 ...                           \n",
       "361  Bacteria Cyanobacteria Cyanobacteria  Chloropl...                           \n",
       "362  Bacteria Cyanobacteria Cyanobacteria  Chloropl...                           \n",
       "363  Bacteria Cyanobacteria Cyanobacteria  Chloropl...                           \n",
       "364          Bacteria OD1    OD1_genera_incertae_sedis                           \n",
       "365        Bacteria OP11    OP11_genera_incertae_sedis                           \n",
       "\n",
       "      1  \n",
       "0    15  \n",
       "1    14  \n",
       "2     4  \n",
       "3     1  \n",
       "4     1  \n",
       "..   ..  \n",
       "361   1  \n",
       "362   4  \n",
       "363  54  \n",
       "364   1  \n",
       "365  26  \n",
       "\n",
       "[366 rows x 2 columns]"
      ]
     },
     "metadata": {},
     "output_type": "display_data"
    },
    {
     "data": {
      "text/html": [
       "<div>\n",
       "<style scoped>\n",
       "    .dataframe tbody tr th:only-of-type {\n",
       "        vertical-align: middle;\n",
       "    }\n",
       "\n",
       "    .dataframe tbody tr th {\n",
       "        vertical-align: top;\n",
       "    }\n",
       "\n",
       "    .dataframe thead th {\n",
       "        text-align: right;\n",
       "    }\n",
       "</style>\n",
       "<table border=\"1\" class=\"dataframe\">\n",
       "  <thead>\n",
       "    <tr style=\"text-align: right;\">\n",
       "      <th></th>\n",
       "      <th>Archaea \"Crenarchaeota\" Thermoprotei Desulfurococcales Desulfurococcaceae Ignisphaera</th>\n",
       "      <th>2</th>\n",
       "    </tr>\n",
       "  </thead>\n",
       "  <tbody>\n",
       "    <tr>\n",
       "      <th>0</th>\n",
       "      <td>Archaea \"Crenarchaeota\" Thermoprotei Sulfoloba...</td>\n",
       "      <td>1</td>\n",
       "    </tr>\n",
       "    <tr>\n",
       "      <th>1</th>\n",
       "      <td>Archaea \"Euryarchaeota\" \"Methanomicrobia\" Meth...</td>\n",
       "      <td>1</td>\n",
       "    </tr>\n",
       "    <tr>\n",
       "      <th>2</th>\n",
       "      <td>Archaea \"Euryarchaeota\" Archaeoglobi Archaeogl...</td>\n",
       "      <td>1</td>\n",
       "    </tr>\n",
       "    <tr>\n",
       "      <th>3</th>\n",
       "      <td>Archaea \"Euryarchaeota\" Methanopyri Methanopyr...</td>\n",
       "      <td>10</td>\n",
       "    </tr>\n",
       "    <tr>\n",
       "      <th>4</th>\n",
       "      <td>Archaea \"Euryarchaeota\" Thermoplasmata Thermop...</td>\n",
       "      <td>1</td>\n",
       "    </tr>\n",
       "    <tr>\n",
       "      <th>...</th>\n",
       "      <td>...</td>\n",
       "      <td>...</td>\n",
       "    </tr>\n",
       "    <tr>\n",
       "      <th>128</th>\n",
       "      <td>Bacteria \"Synergistetes\" Synergistia Synergist...</td>\n",
       "      <td>1</td>\n",
       "    </tr>\n",
       "    <tr>\n",
       "      <th>129</th>\n",
       "      <td>Bacteria \"Thermotogae\" Thermotogae Thermotogal...</td>\n",
       "      <td>13</td>\n",
       "    </tr>\n",
       "    <tr>\n",
       "      <th>130</th>\n",
       "      <td>Bacteria \"Thermotogae\" Thermotogae Thermotogal...</td>\n",
       "      <td>4</td>\n",
       "    </tr>\n",
       "    <tr>\n",
       "      <th>131</th>\n",
       "      <td>Bacteria Cyanobacteria Cyanobacteria  Chloropl...</td>\n",
       "      <td>6</td>\n",
       "    </tr>\n",
       "    <tr>\n",
       "      <th>132</th>\n",
       "      <td>Bacteria Cyanobacteria Cyanobacteria  Chloropl...</td>\n",
       "      <td>44</td>\n",
       "    </tr>\n",
       "  </tbody>\n",
       "</table>\n",
       "<p>133 rows × 2 columns</p>\n",
       "</div>"
      ],
      "text/plain": [
       "    Archaea \"Crenarchaeota\" Thermoprotei Desulfurococcales Desulfurococcaceae Ignisphaera  \\\n",
       "0    Archaea \"Crenarchaeota\" Thermoprotei Sulfoloba...                                      \n",
       "1    Archaea \"Euryarchaeota\" \"Methanomicrobia\" Meth...                                      \n",
       "2    Archaea \"Euryarchaeota\" Archaeoglobi Archaeogl...                                      \n",
       "3    Archaea \"Euryarchaeota\" Methanopyri Methanopyr...                                      \n",
       "4    Archaea \"Euryarchaeota\" Thermoplasmata Thermop...                                      \n",
       "..                                                 ...                                      \n",
       "128  Bacteria \"Synergistetes\" Synergistia Synergist...                                      \n",
       "129  Bacteria \"Thermotogae\" Thermotogae Thermotogal...                                      \n",
       "130  Bacteria \"Thermotogae\" Thermotogae Thermotogal...                                      \n",
       "131  Bacteria Cyanobacteria Cyanobacteria  Chloropl...                                      \n",
       "132  Bacteria Cyanobacteria Cyanobacteria  Chloropl...                                      \n",
       "\n",
       "      2  \n",
       "0     1  \n",
       "1     1  \n",
       "2     1  \n",
       "3    10  \n",
       "4     1  \n",
       "..   ..  \n",
       "128   1  \n",
       "129  13  \n",
       "130   4  \n",
       "131   6  \n",
       "132  44  \n",
       "\n",
       "[133 rows x 2 columns]"
      ]
     },
     "metadata": {},
     "output_type": "display_data"
    },
    {
     "data": {
      "text/html": [
       "<div>\n",
       "<style scoped>\n",
       "    .dataframe tbody tr th:only-of-type {\n",
       "        vertical-align: middle;\n",
       "    }\n",
       "\n",
       "    .dataframe tbody tr th {\n",
       "        vertical-align: top;\n",
       "    }\n",
       "\n",
       "    .dataframe thead th {\n",
       "        text-align: right;\n",
       "    }\n",
       "</style>\n",
       "<table border=\"1\" class=\"dataframe\">\n",
       "  <thead>\n",
       "    <tr style=\"text-align: right;\">\n",
       "      <th></th>\n",
       "      <th>Archaea \"Crenarchaeota\" Thermoprotei Acidilobales Acidilobaceae Acidilobus</th>\n",
       "      <th>5</th>\n",
       "    </tr>\n",
       "  </thead>\n",
       "  <tbody>\n",
       "    <tr>\n",
       "      <th>0</th>\n",
       "      <td>Archaea \"Crenarchaeota\" Thermoprotei Acidiloba...</td>\n",
       "      <td>26</td>\n",
       "    </tr>\n",
       "    <tr>\n",
       "      <th>1</th>\n",
       "      <td>Archaea \"Crenarchaeota\" Thermoprotei Desulfuro...</td>\n",
       "      <td>28</td>\n",
       "    </tr>\n",
       "    <tr>\n",
       "      <th>2</th>\n",
       "      <td>Archaea \"Crenarchaeota\" Thermoprotei Desulfuro...</td>\n",
       "      <td>1</td>\n",
       "    </tr>\n",
       "    <tr>\n",
       "      <th>3</th>\n",
       "      <td>Archaea \"Crenarchaeota\" Thermoprotei Desulfuro...</td>\n",
       "      <td>5</td>\n",
       "    </tr>\n",
       "    <tr>\n",
       "      <th>4</th>\n",
       "      <td>Archaea \"Crenarchaeota\" Thermoprotei Desulfuro...</td>\n",
       "      <td>2</td>\n",
       "    </tr>\n",
       "    <tr>\n",
       "      <th>...</th>\n",
       "      <td>...</td>\n",
       "      <td>...</td>\n",
       "    </tr>\n",
       "    <tr>\n",
       "      <th>373</th>\n",
       "      <td>Bacteria \"Verrucomicrobia\" Opitutae Puniceicoc...</td>\n",
       "      <td>4</td>\n",
       "    </tr>\n",
       "    <tr>\n",
       "      <th>374</th>\n",
       "      <td>Bacteria Cyanobacteria Cyanobacteria  Chloropl...</td>\n",
       "      <td>2</td>\n",
       "    </tr>\n",
       "    <tr>\n",
       "      <th>375</th>\n",
       "      <td>Bacteria Cyanobacteria Cyanobacteria  Chloropl...</td>\n",
       "      <td>5</td>\n",
       "    </tr>\n",
       "    <tr>\n",
       "      <th>376</th>\n",
       "      <td>Bacteria Cyanobacteria Cyanobacteria  Chloropl...</td>\n",
       "      <td>59</td>\n",
       "    </tr>\n",
       "    <tr>\n",
       "      <th>377</th>\n",
       "      <td>Bacteria OD1    OD1_genera_incertae_sedis</td>\n",
       "      <td>4</td>\n",
       "    </tr>\n",
       "  </tbody>\n",
       "</table>\n",
       "<p>378 rows × 2 columns</p>\n",
       "</div>"
      ],
      "text/plain": [
       "    Archaea \"Crenarchaeota\" Thermoprotei Acidilobales Acidilobaceae Acidilobus  \\\n",
       "0    Archaea \"Crenarchaeota\" Thermoprotei Acidiloba...                           \n",
       "1    Archaea \"Crenarchaeota\" Thermoprotei Desulfuro...                           \n",
       "2    Archaea \"Crenarchaeota\" Thermoprotei Desulfuro...                           \n",
       "3    Archaea \"Crenarchaeota\" Thermoprotei Desulfuro...                           \n",
       "4    Archaea \"Crenarchaeota\" Thermoprotei Desulfuro...                           \n",
       "..                                                 ...                           \n",
       "373  Bacteria \"Verrucomicrobia\" Opitutae Puniceicoc...                           \n",
       "374  Bacteria Cyanobacteria Cyanobacteria  Chloropl...                           \n",
       "375  Bacteria Cyanobacteria Cyanobacteria  Chloropl...                           \n",
       "376  Bacteria Cyanobacteria Cyanobacteria  Chloropl...                           \n",
       "377          Bacteria OD1    OD1_genera_incertae_sedis                           \n",
       "\n",
       "      5  \n",
       "0    26  \n",
       "1    28  \n",
       "2     1  \n",
       "3     5  \n",
       "4     2  \n",
       "..   ..  \n",
       "373   4  \n",
       "374   2  \n",
       "375   5  \n",
       "376  59  \n",
       "377   4  \n",
       "\n",
       "[378 rows x 2 columns]"
      ]
     },
     "metadata": {},
     "output_type": "display_data"
    },
    {
     "data": {
      "text/html": [
       "<div>\n",
       "<style scoped>\n",
       "    .dataframe tbody tr th:only-of-type {\n",
       "        vertical-align: middle;\n",
       "    }\n",
       "\n",
       "    .dataframe tbody tr th {\n",
       "        vertical-align: top;\n",
       "    }\n",
       "\n",
       "    .dataframe thead th {\n",
       "        text-align: right;\n",
       "    }\n",
       "</style>\n",
       "<table border=\"1\" class=\"dataframe\">\n",
       "  <thead>\n",
       "    <tr style=\"text-align: right;\">\n",
       "      <th></th>\n",
       "      <th>Archaea \"Crenarchaeota\" Thermoprotei Desulfurococcales Desulfurococcaceae Ignisphaera</th>\n",
       "      <th>7</th>\n",
       "    </tr>\n",
       "  </thead>\n",
       "  <tbody>\n",
       "    <tr>\n",
       "      <th>0</th>\n",
       "      <td>Archaea \"Crenarchaeota\" Thermoprotei Desulfuro...</td>\n",
       "      <td>1</td>\n",
       "    </tr>\n",
       "    <tr>\n",
       "      <th>1</th>\n",
       "      <td>Archaea \"Crenarchaeota\" Thermoprotei Desulfuro...</td>\n",
       "      <td>1</td>\n",
       "    </tr>\n",
       "    <tr>\n",
       "      <th>2</th>\n",
       "      <td>Archaea \"Crenarchaeota\" Thermoprotei Desulfuro...</td>\n",
       "      <td>2</td>\n",
       "    </tr>\n",
       "    <tr>\n",
       "      <th>3</th>\n",
       "      <td>Archaea \"Crenarchaeota\" Thermoprotei Sulfoloba...</td>\n",
       "      <td>5</td>\n",
       "    </tr>\n",
       "    <tr>\n",
       "      <th>4</th>\n",
       "      <td>Archaea \"Crenarchaeota\" Thermoprotei Sulfoloba...</td>\n",
       "      <td>4</td>\n",
       "    </tr>\n",
       "    <tr>\n",
       "      <th>...</th>\n",
       "      <td>...</td>\n",
       "      <td>...</td>\n",
       "    </tr>\n",
       "    <tr>\n",
       "      <th>175</th>\n",
       "      <td>Bacteria \"Thermodesulfobacteria\" Thermodesulfo...</td>\n",
       "      <td>2</td>\n",
       "    </tr>\n",
       "    <tr>\n",
       "      <th>176</th>\n",
       "      <td>Bacteria \"Thermotogae\" Thermotogae Thermotogal...</td>\n",
       "      <td>12</td>\n",
       "    </tr>\n",
       "    <tr>\n",
       "      <th>177</th>\n",
       "      <td>Bacteria \"Thermotogae\" Thermotogae Thermotogal...</td>\n",
       "      <td>11</td>\n",
       "    </tr>\n",
       "    <tr>\n",
       "      <th>178</th>\n",
       "      <td>Bacteria \"Verrucomicrobia\" Verrucomicrobiae Ve...</td>\n",
       "      <td>1</td>\n",
       "    </tr>\n",
       "    <tr>\n",
       "      <th>179</th>\n",
       "      <td>Bacteria \"Verrucomicrobia\" Verrucomicrobiae Ve...</td>\n",
       "      <td>1</td>\n",
       "    </tr>\n",
       "  </tbody>\n",
       "</table>\n",
       "<p>180 rows × 2 columns</p>\n",
       "</div>"
      ],
      "text/plain": [
       "    Archaea \"Crenarchaeota\" Thermoprotei Desulfurococcales Desulfurococcaceae Ignisphaera  \\\n",
       "0    Archaea \"Crenarchaeota\" Thermoprotei Desulfuro...                                      \n",
       "1    Archaea \"Crenarchaeota\" Thermoprotei Desulfuro...                                      \n",
       "2    Archaea \"Crenarchaeota\" Thermoprotei Desulfuro...                                      \n",
       "3    Archaea \"Crenarchaeota\" Thermoprotei Sulfoloba...                                      \n",
       "4    Archaea \"Crenarchaeota\" Thermoprotei Sulfoloba...                                      \n",
       "..                                                 ...                                      \n",
       "175  Bacteria \"Thermodesulfobacteria\" Thermodesulfo...                                      \n",
       "176  Bacteria \"Thermotogae\" Thermotogae Thermotogal...                                      \n",
       "177  Bacteria \"Thermotogae\" Thermotogae Thermotogal...                                      \n",
       "178  Bacteria \"Verrucomicrobia\" Verrucomicrobiae Ve...                                      \n",
       "179  Bacteria \"Verrucomicrobia\" Verrucomicrobiae Ve...                                      \n",
       "\n",
       "      7  \n",
       "0     1  \n",
       "1     1  \n",
       "2     2  \n",
       "3     5  \n",
       "4     4  \n",
       "..   ..  \n",
       "175   2  \n",
       "176  12  \n",
       "177  11  \n",
       "178   1  \n",
       "179   1  \n",
       "\n",
       "[180 rows x 2 columns]"
      ]
     },
     "metadata": {},
     "output_type": "display_data"
    },
    {
     "data": {
      "text/html": [
       "<div>\n",
       "<style scoped>\n",
       "    .dataframe tbody tr th:only-of-type {\n",
       "        vertical-align: middle;\n",
       "    }\n",
       "\n",
       "    .dataframe tbody tr th {\n",
       "        vertical-align: top;\n",
       "    }\n",
       "\n",
       "    .dataframe thead th {\n",
       "        text-align: right;\n",
       "    }\n",
       "</style>\n",
       "<table border=\"1\" class=\"dataframe\">\n",
       "  <thead>\n",
       "    <tr style=\"text-align: right;\">\n",
       "      <th></th>\n",
       "      <th>Archaea \"Crenarchaeota\" Thermoprotei Acidilobales Caldisphaeraceae Caldisphaera</th>\n",
       "      <th>1</th>\n",
       "    </tr>\n",
       "  </thead>\n",
       "  <tbody>\n",
       "    <tr>\n",
       "      <th>0</th>\n",
       "      <td>Archaea \"Crenarchaeota\" Thermoprotei Desulfuro...</td>\n",
       "      <td>8</td>\n",
       "    </tr>\n",
       "    <tr>\n",
       "      <th>1</th>\n",
       "      <td>Archaea \"Crenarchaeota\" Thermoprotei Desulfuro...</td>\n",
       "      <td>2</td>\n",
       "    </tr>\n",
       "    <tr>\n",
       "      <th>2</th>\n",
       "      <td>Archaea \"Crenarchaeota\" Thermoprotei Desulfuro...</td>\n",
       "      <td>1</td>\n",
       "    </tr>\n",
       "    <tr>\n",
       "      <th>3</th>\n",
       "      <td>Archaea \"Crenarchaeota\" Thermoprotei Desulfuro...</td>\n",
       "      <td>1</td>\n",
       "    </tr>\n",
       "    <tr>\n",
       "      <th>4</th>\n",
       "      <td>Archaea \"Crenarchaeota\" Thermoprotei Desulfuro...</td>\n",
       "      <td>1</td>\n",
       "    </tr>\n",
       "    <tr>\n",
       "      <th>...</th>\n",
       "      <td>...</td>\n",
       "      <td>...</td>\n",
       "    </tr>\n",
       "    <tr>\n",
       "      <th>389</th>\n",
       "      <td>Bacteria \"Verrucomicrobia\" Subdivision3   Subd...</td>\n",
       "      <td>4</td>\n",
       "    </tr>\n",
       "    <tr>\n",
       "      <th>390</th>\n",
       "      <td>Bacteria \"Verrucomicrobia\" Verrucomicrobiae Ve...</td>\n",
       "      <td>9</td>\n",
       "    </tr>\n",
       "    <tr>\n",
       "      <th>391</th>\n",
       "      <td>Bacteria \"Verrucomicrobia\" Verrucomicrobiae Ve...</td>\n",
       "      <td>39</td>\n",
       "    </tr>\n",
       "    <tr>\n",
       "      <th>392</th>\n",
       "      <td>Bacteria Cyanobacteria Cyanobacteria  Chloropl...</td>\n",
       "      <td>1</td>\n",
       "    </tr>\n",
       "    <tr>\n",
       "      <th>393</th>\n",
       "      <td>Bacteria Cyanobacteria Cyanobacteria  Chloropl...</td>\n",
       "      <td>2</td>\n",
       "    </tr>\n",
       "  </tbody>\n",
       "</table>\n",
       "<p>394 rows × 2 columns</p>\n",
       "</div>"
      ],
      "text/plain": [
       "    Archaea \"Crenarchaeota\" Thermoprotei Acidilobales Caldisphaeraceae Caldisphaera  \\\n",
       "0    Archaea \"Crenarchaeota\" Thermoprotei Desulfuro...                                \n",
       "1    Archaea \"Crenarchaeota\" Thermoprotei Desulfuro...                                \n",
       "2    Archaea \"Crenarchaeota\" Thermoprotei Desulfuro...                                \n",
       "3    Archaea \"Crenarchaeota\" Thermoprotei Desulfuro...                                \n",
       "4    Archaea \"Crenarchaeota\" Thermoprotei Desulfuro...                                \n",
       "..                                                 ...                                \n",
       "389  Bacteria \"Verrucomicrobia\" Subdivision3   Subd...                                \n",
       "390  Bacteria \"Verrucomicrobia\" Verrucomicrobiae Ve...                                \n",
       "391  Bacteria \"Verrucomicrobia\" Verrucomicrobiae Ve...                                \n",
       "392  Bacteria Cyanobacteria Cyanobacteria  Chloropl...                                \n",
       "393  Bacteria Cyanobacteria Cyanobacteria  Chloropl...                                \n",
       "\n",
       "      1  \n",
       "0     8  \n",
       "1     2  \n",
       "2     1  \n",
       "3     1  \n",
       "4     1  \n",
       "..   ..  \n",
       "389   4  \n",
       "390   9  \n",
       "391  39  \n",
       "392   1  \n",
       "393   2  \n",
       "\n",
       "[394 rows x 2 columns]"
      ]
     },
     "metadata": {},
     "output_type": "display_data"
    },
    {
     "data": {
      "text/html": [
       "<div>\n",
       "<style scoped>\n",
       "    .dataframe tbody tr th:only-of-type {\n",
       "        vertical-align: middle;\n",
       "    }\n",
       "\n",
       "    .dataframe tbody tr th {\n",
       "        vertical-align: top;\n",
       "    }\n",
       "\n",
       "    .dataframe thead th {\n",
       "        text-align: right;\n",
       "    }\n",
       "</style>\n",
       "<table border=\"1\" class=\"dataframe\">\n",
       "  <thead>\n",
       "    <tr style=\"text-align: right;\">\n",
       "      <th></th>\n",
       "      <th>Archaea \"Crenarchaeota\" Thermoprotei Sulfolobales Sulfolobaceae Stygiolobus</th>\n",
       "      <th>1</th>\n",
       "    </tr>\n",
       "  </thead>\n",
       "  <tbody>\n",
       "    <tr>\n",
       "      <th>0</th>\n",
       "      <td>Archaea \"Euryarchaeota\" Methanopyri Methanopyr...</td>\n",
       "      <td>9</td>\n",
       "    </tr>\n",
       "    <tr>\n",
       "      <th>1</th>\n",
       "      <td>Bacteria \"Actinobacteria\" Actinobacteria Nitri...</td>\n",
       "      <td>1</td>\n",
       "    </tr>\n",
       "    <tr>\n",
       "      <th>2</th>\n",
       "      <td>Bacteria \"Aquificae\" Aquificae Aquificales Aqu...</td>\n",
       "      <td>1</td>\n",
       "    </tr>\n",
       "    <tr>\n",
       "      <th>3</th>\n",
       "      <td>Bacteria \"Bacteroidetes\"   Bacteroidetes_incer...</td>\n",
       "      <td>2</td>\n",
       "    </tr>\n",
       "    <tr>\n",
       "      <th>4</th>\n",
       "      <td>Bacteria \"Bacteroidetes\" \"Bacteroidia\" \"Bacter...</td>\n",
       "      <td>20</td>\n",
       "    </tr>\n",
       "    <tr>\n",
       "      <th>...</th>\n",
       "      <td>...</td>\n",
       "      <td>...</td>\n",
       "    </tr>\n",
       "    <tr>\n",
       "      <th>93</th>\n",
       "      <td>Bacteria \"Thermodesulfobacteria\" Thermodesulfo...</td>\n",
       "      <td>1</td>\n",
       "    </tr>\n",
       "    <tr>\n",
       "      <th>94</th>\n",
       "      <td>Bacteria \"Thermotogae\" Thermotogae Thermotogal...</td>\n",
       "      <td>4</td>\n",
       "    </tr>\n",
       "    <tr>\n",
       "      <th>95</th>\n",
       "      <td>Bacteria \"Thermotogae\" Thermotogae Thermotogal...</td>\n",
       "      <td>2</td>\n",
       "    </tr>\n",
       "    <tr>\n",
       "      <th>96</th>\n",
       "      <td>Bacteria Cyanobacteria Cyanobacteria  Chloropl...</td>\n",
       "      <td>1</td>\n",
       "    </tr>\n",
       "    <tr>\n",
       "      <th>97</th>\n",
       "      <td>Bacteria Cyanobacteria Cyanobacteria  Chloropl...</td>\n",
       "      <td>4</td>\n",
       "    </tr>\n",
       "  </tbody>\n",
       "</table>\n",
       "<p>98 rows × 2 columns</p>\n",
       "</div>"
      ],
      "text/plain": [
       "   Archaea \"Crenarchaeota\" Thermoprotei Sulfolobales Sulfolobaceae Stygiolobus  \\\n",
       "0   Archaea \"Euryarchaeota\" Methanopyri Methanopyr...                            \n",
       "1   Bacteria \"Actinobacteria\" Actinobacteria Nitri...                            \n",
       "2   Bacteria \"Aquificae\" Aquificae Aquificales Aqu...                            \n",
       "3   Bacteria \"Bacteroidetes\"   Bacteroidetes_incer...                            \n",
       "4   Bacteria \"Bacteroidetes\" \"Bacteroidia\" \"Bacter...                            \n",
       "..                                                ...                            \n",
       "93  Bacteria \"Thermodesulfobacteria\" Thermodesulfo...                            \n",
       "94  Bacteria \"Thermotogae\" Thermotogae Thermotogal...                            \n",
       "95  Bacteria \"Thermotogae\" Thermotogae Thermotogal...                            \n",
       "96  Bacteria Cyanobacteria Cyanobacteria  Chloropl...                            \n",
       "97  Bacteria Cyanobacteria Cyanobacteria  Chloropl...                            \n",
       "\n",
       "     1  \n",
       "0    9  \n",
       "1    1  \n",
       "2    1  \n",
       "3    2  \n",
       "4   20  \n",
       "..  ..  \n",
       "93   1  \n",
       "94   4  \n",
       "95   2  \n",
       "96   1  \n",
       "97   4  \n",
       "\n",
       "[98 rows x 2 columns]"
      ]
     },
     "metadata": {},
     "output_type": "display_data"
    },
    {
     "data": {
      "text/html": [
       "<div>\n",
       "<style scoped>\n",
       "    .dataframe tbody tr th:only-of-type {\n",
       "        vertical-align: middle;\n",
       "    }\n",
       "\n",
       "    .dataframe tbody tr th {\n",
       "        vertical-align: top;\n",
       "    }\n",
       "\n",
       "    .dataframe thead th {\n",
       "        text-align: right;\n",
       "    }\n",
       "</style>\n",
       "<table border=\"1\" class=\"dataframe\">\n",
       "  <thead>\n",
       "    <tr style=\"text-align: right;\">\n",
       "      <th></th>\n",
       "      <th>Archaea \"Crenarchaeota\" Thermoprotei Acidilobales Caldisphaeraceae Caldisphaera</th>\n",
       "      <th>1</th>\n",
       "    </tr>\n",
       "  </thead>\n",
       "  <tbody>\n",
       "    <tr>\n",
       "      <th>0</th>\n",
       "      <td>Archaea \"Crenarchaeota\" Thermoprotei Desulfuro...</td>\n",
       "      <td>16</td>\n",
       "    </tr>\n",
       "    <tr>\n",
       "      <th>1</th>\n",
       "      <td>Archaea \"Crenarchaeota\" Thermoprotei Desulfuro...</td>\n",
       "      <td>2</td>\n",
       "    </tr>\n",
       "    <tr>\n",
       "      <th>2</th>\n",
       "      <td>Archaea \"Crenarchaeota\" Thermoprotei Desulfuro...</td>\n",
       "      <td>5</td>\n",
       "    </tr>\n",
       "    <tr>\n",
       "      <th>3</th>\n",
       "      <td>Archaea \"Crenarchaeota\" Thermoprotei Sulfoloba...</td>\n",
       "      <td>6</td>\n",
       "    </tr>\n",
       "    <tr>\n",
       "      <th>4</th>\n",
       "      <td>Archaea \"Crenarchaeota\" Thermoprotei Sulfoloba...</td>\n",
       "      <td>2</td>\n",
       "    </tr>\n",
       "    <tr>\n",
       "      <th>...</th>\n",
       "      <td>...</td>\n",
       "      <td>...</td>\n",
       "    </tr>\n",
       "    <tr>\n",
       "      <th>275</th>\n",
       "      <td>Bacteria \"Thermotogae\" Thermotogae Thermotogal...</td>\n",
       "      <td>43</td>\n",
       "    </tr>\n",
       "    <tr>\n",
       "      <th>276</th>\n",
       "      <td>Bacteria \"Thermotogae\" Thermotogae Thermotogal...</td>\n",
       "      <td>16</td>\n",
       "    </tr>\n",
       "    <tr>\n",
       "      <th>277</th>\n",
       "      <td>Bacteria \"Verrucomicrobia\" Opitutae Opitutales...</td>\n",
       "      <td>1</td>\n",
       "    </tr>\n",
       "    <tr>\n",
       "      <th>278</th>\n",
       "      <td>Bacteria Cyanobacteria Cyanobacteria  Chloropl...</td>\n",
       "      <td>1</td>\n",
       "    </tr>\n",
       "    <tr>\n",
       "      <th>279</th>\n",
       "      <td>Bacteria Cyanobacteria Cyanobacteria  Chloropl...</td>\n",
       "      <td>10</td>\n",
       "    </tr>\n",
       "  </tbody>\n",
       "</table>\n",
       "<p>280 rows × 2 columns</p>\n",
       "</div>"
      ],
      "text/plain": [
       "    Archaea \"Crenarchaeota\" Thermoprotei Acidilobales Caldisphaeraceae Caldisphaera  \\\n",
       "0    Archaea \"Crenarchaeota\" Thermoprotei Desulfuro...                                \n",
       "1    Archaea \"Crenarchaeota\" Thermoprotei Desulfuro...                                \n",
       "2    Archaea \"Crenarchaeota\" Thermoprotei Desulfuro...                                \n",
       "3    Archaea \"Crenarchaeota\" Thermoprotei Sulfoloba...                                \n",
       "4    Archaea \"Crenarchaeota\" Thermoprotei Sulfoloba...                                \n",
       "..                                                 ...                                \n",
       "275  Bacteria \"Thermotogae\" Thermotogae Thermotogal...                                \n",
       "276  Bacteria \"Thermotogae\" Thermotogae Thermotogal...                                \n",
       "277  Bacteria \"Verrucomicrobia\" Opitutae Opitutales...                                \n",
       "278  Bacteria Cyanobacteria Cyanobacteria  Chloropl...                                \n",
       "279  Bacteria Cyanobacteria Cyanobacteria  Chloropl...                                \n",
       "\n",
       "      1  \n",
       "0    16  \n",
       "1     2  \n",
       "2     5  \n",
       "3     6  \n",
       "4     2  \n",
       "..   ..  \n",
       "275  43  \n",
       "276  16  \n",
       "277   1  \n",
       "278   1  \n",
       "279  10  \n",
       "\n",
       "[280 rows x 2 columns]"
      ]
     },
     "metadata": {},
     "output_type": "display_data"
    }
   ],
   "source": [
    "MID1_df = pd.read_excel(r\"C:\\Users\\moham\\Downloads\\Lab 6\\microbiome\\MID1.xls\")\n",
    "MID2_df = pd.read_excel(r\"C:\\Users\\moham\\Downloads\\Lab 6\\microbiome\\MID2.xls\")\n",
    "MID3_df = pd.read_excel(r\"C:\\Users\\moham\\Downloads\\Lab 6\\microbiome\\MID3.xls\")\n",
    "MID4_df = pd.read_excel(r\"C:\\Users\\moham\\Downloads\\Lab 6\\microbiome\\MID4.xls\")\n",
    "MID5_df = pd.read_excel(r\"C:\\Users\\moham\\Downloads\\Lab 6\\microbiome\\MID5.xls\")\n",
    "MID6_df = pd.read_excel(r\"C:\\Users\\moham\\Downloads\\Lab 6\\microbiome\\MID6.xls\")\n",
    "MID7_df = pd.read_excel(r\"C:\\Users\\moham\\Downloads\\Lab 6\\microbiome\\MID7.xls\")\n",
    "MID8_df = pd.read_excel(r\"C:\\Users\\moham\\Downloads\\Lab 6\\microbiome\\MID8.xls\")\n",
    "MID9_df = pd.read_excel(r\"C:\\Users\\moham\\Downloads\\Lab 6\\microbiome\\MID9.xls\")\n",
    "\n",
    "display(MID1_df,MID2_df,MID3_df,MID4_df,MID5_df,MID6_df,MID7_df,MID8_df,MID9_df)"
   ]
  },
  {
   "cell_type": "code",
   "execution_count": 76,
   "metadata": {},
   "outputs": [],
   "source": [
    "MID9_df['patient Name'] = 'MID9'"
   ]
  },
  {
   "cell_type": "code",
   "execution_count": 67,
   "metadata": {},
   "outputs": [
    {
     "data": {
      "text/html": [
       "<div>\n",
       "<style scoped>\n",
       "    .dataframe tbody tr th:only-of-type {\n",
       "        vertical-align: middle;\n",
       "    }\n",
       "\n",
       "    .dataframe tbody tr th {\n",
       "        vertical-align: top;\n",
       "    }\n",
       "\n",
       "    .dataframe thead th {\n",
       "        text-align: right;\n",
       "    }\n",
       "</style>\n",
       "<table border=\"1\" class=\"dataframe\">\n",
       "  <thead>\n",
       "    <tr style=\"text-align: right;\">\n",
       "      <th></th>\n",
       "      <th>biological name</th>\n",
       "      <th>count</th>\n",
       "      <th>patient Name</th>\n",
       "    </tr>\n",
       "  </thead>\n",
       "  <tbody>\n",
       "    <tr>\n",
       "      <th>0</th>\n",
       "      <td>Archaea \"Crenarchaeota\" Thermoprotei Desulfuro...</td>\n",
       "      <td>16</td>\n",
       "      <td>MID1</td>\n",
       "    </tr>\n",
       "    <tr>\n",
       "      <th>1</th>\n",
       "      <td>Archaea \"Crenarchaeota\" Thermoprotei Desulfuro...</td>\n",
       "      <td>2</td>\n",
       "      <td>MID1</td>\n",
       "    </tr>\n",
       "    <tr>\n",
       "      <th>2</th>\n",
       "      <td>Archaea \"Crenarchaeota\" Thermoprotei Desulfuro...</td>\n",
       "      <td>5</td>\n",
       "      <td>MID1</td>\n",
       "    </tr>\n",
       "    <tr>\n",
       "      <th>3</th>\n",
       "      <td>Archaea \"Crenarchaeota\" Thermoprotei Sulfoloba...</td>\n",
       "      <td>6</td>\n",
       "      <td>MID1</td>\n",
       "    </tr>\n",
       "    <tr>\n",
       "      <th>4</th>\n",
       "      <td>Archaea \"Crenarchaeota\" Thermoprotei Sulfoloba...</td>\n",
       "      <td>2</td>\n",
       "      <td>MID1</td>\n",
       "    </tr>\n",
       "    <tr>\n",
       "      <th>...</th>\n",
       "      <td>...</td>\n",
       "      <td>...</td>\n",
       "      <td>...</td>\n",
       "    </tr>\n",
       "    <tr>\n",
       "      <th>275</th>\n",
       "      <td>Bacteria \"Thermotogae\" Thermotogae Thermotogal...</td>\n",
       "      <td>43</td>\n",
       "      <td>MID1</td>\n",
       "    </tr>\n",
       "    <tr>\n",
       "      <th>276</th>\n",
       "      <td>Bacteria \"Thermotogae\" Thermotogae Thermotogal...</td>\n",
       "      <td>16</td>\n",
       "      <td>MID1</td>\n",
       "    </tr>\n",
       "    <tr>\n",
       "      <th>277</th>\n",
       "      <td>Bacteria \"Verrucomicrobia\" Opitutae Opitutales...</td>\n",
       "      <td>1</td>\n",
       "      <td>MID1</td>\n",
       "    </tr>\n",
       "    <tr>\n",
       "      <th>278</th>\n",
       "      <td>Bacteria Cyanobacteria Cyanobacteria  Chloropl...</td>\n",
       "      <td>1</td>\n",
       "      <td>MID1</td>\n",
       "    </tr>\n",
       "    <tr>\n",
       "      <th>279</th>\n",
       "      <td>Bacteria Cyanobacteria Cyanobacteria  Chloropl...</td>\n",
       "      <td>10</td>\n",
       "      <td>MID1</td>\n",
       "    </tr>\n",
       "  </tbody>\n",
       "</table>\n",
       "<p>280 rows × 3 columns</p>\n",
       "</div>"
      ],
      "text/plain": [
       "                                       biological name  count patient Name\n",
       "0    Archaea \"Crenarchaeota\" Thermoprotei Desulfuro...     16         MID1\n",
       "1    Archaea \"Crenarchaeota\" Thermoprotei Desulfuro...      2         MID1\n",
       "2    Archaea \"Crenarchaeota\" Thermoprotei Desulfuro...      5         MID1\n",
       "3    Archaea \"Crenarchaeota\" Thermoprotei Sulfoloba...      6         MID1\n",
       "4    Archaea \"Crenarchaeota\" Thermoprotei Sulfoloba...      2         MID1\n",
       "..                                                 ...    ...          ...\n",
       "275  Bacteria \"Thermotogae\" Thermotogae Thermotogal...     43         MID1\n",
       "276  Bacteria \"Thermotogae\" Thermotogae Thermotogal...     16         MID1\n",
       "277  Bacteria \"Verrucomicrobia\" Opitutae Opitutales...      1         MID1\n",
       "278  Bacteria Cyanobacteria Cyanobacteria  Chloropl...      1         MID1\n",
       "279  Bacteria Cyanobacteria Cyanobacteria  Chloropl...     10         MID1\n",
       "\n",
       "[280 rows x 3 columns]"
      ]
     },
     "execution_count": 67,
     "metadata": {},
     "output_type": "execute_result"
    }
   ],
   "source": [
    "MID9_df"
   ]
  },
  {
   "cell_type": "code",
   "execution_count": 77,
   "metadata": {},
   "outputs": [
    {
     "data": {
      "text/html": [
       "<div>\n",
       "<style scoped>\n",
       "    .dataframe tbody tr th:only-of-type {\n",
       "        vertical-align: middle;\n",
       "    }\n",
       "\n",
       "    .dataframe tbody tr th {\n",
       "        vertical-align: top;\n",
       "    }\n",
       "\n",
       "    .dataframe thead th {\n",
       "        text-align: right;\n",
       "    }\n",
       "</style>\n",
       "<table border=\"1\" class=\"dataframe\">\n",
       "  <thead>\n",
       "    <tr style=\"text-align: right;\">\n",
       "      <th></th>\n",
       "      <th>biological name</th>\n",
       "      <th>count</th>\n",
       "      <th>patient Name</th>\n",
       "    </tr>\n",
       "  </thead>\n",
       "  <tbody>\n",
       "    <tr>\n",
       "      <th>0</th>\n",
       "      <td>Archaea \"Crenarchaeota\" Thermoprotei Desulfuro...</td>\n",
       "      <td>16</td>\n",
       "      <td>MID9</td>\n",
       "    </tr>\n",
       "    <tr>\n",
       "      <th>1</th>\n",
       "      <td>Archaea \"Crenarchaeota\" Thermoprotei Desulfuro...</td>\n",
       "      <td>2</td>\n",
       "      <td>MID9</td>\n",
       "    </tr>\n",
       "    <tr>\n",
       "      <th>2</th>\n",
       "      <td>Archaea \"Crenarchaeota\" Thermoprotei Desulfuro...</td>\n",
       "      <td>5</td>\n",
       "      <td>MID9</td>\n",
       "    </tr>\n",
       "    <tr>\n",
       "      <th>3</th>\n",
       "      <td>Archaea \"Crenarchaeota\" Thermoprotei Sulfoloba...</td>\n",
       "      <td>6</td>\n",
       "      <td>MID9</td>\n",
       "    </tr>\n",
       "    <tr>\n",
       "      <th>4</th>\n",
       "      <td>Archaea \"Crenarchaeota\" Thermoprotei Sulfoloba...</td>\n",
       "      <td>2</td>\n",
       "      <td>MID9</td>\n",
       "    </tr>\n",
       "    <tr>\n",
       "      <th>...</th>\n",
       "      <td>...</td>\n",
       "      <td>...</td>\n",
       "      <td>...</td>\n",
       "    </tr>\n",
       "    <tr>\n",
       "      <th>275</th>\n",
       "      <td>Bacteria \"Thermotogae\" Thermotogae Thermotogal...</td>\n",
       "      <td>43</td>\n",
       "      <td>MID9</td>\n",
       "    </tr>\n",
       "    <tr>\n",
       "      <th>276</th>\n",
       "      <td>Bacteria \"Thermotogae\" Thermotogae Thermotogal...</td>\n",
       "      <td>16</td>\n",
       "      <td>MID9</td>\n",
       "    </tr>\n",
       "    <tr>\n",
       "      <th>277</th>\n",
       "      <td>Bacteria \"Verrucomicrobia\" Opitutae Opitutales...</td>\n",
       "      <td>1</td>\n",
       "      <td>MID9</td>\n",
       "    </tr>\n",
       "    <tr>\n",
       "      <th>278</th>\n",
       "      <td>Bacteria Cyanobacteria Cyanobacteria  Chloropl...</td>\n",
       "      <td>1</td>\n",
       "      <td>MID9</td>\n",
       "    </tr>\n",
       "    <tr>\n",
       "      <th>279</th>\n",
       "      <td>Bacteria Cyanobacteria Cyanobacteria  Chloropl...</td>\n",
       "      <td>10</td>\n",
       "      <td>MID9</td>\n",
       "    </tr>\n",
       "  </tbody>\n",
       "</table>\n",
       "<p>280 rows × 3 columns</p>\n",
       "</div>"
      ],
      "text/plain": [
       "                                       biological name  count patient Name\n",
       "0    Archaea \"Crenarchaeota\" Thermoprotei Desulfuro...     16         MID9\n",
       "1    Archaea \"Crenarchaeota\" Thermoprotei Desulfuro...      2         MID9\n",
       "2    Archaea \"Crenarchaeota\" Thermoprotei Desulfuro...      5         MID9\n",
       "3    Archaea \"Crenarchaeota\" Thermoprotei Sulfoloba...      6         MID9\n",
       "4    Archaea \"Crenarchaeota\" Thermoprotei Sulfoloba...      2         MID9\n",
       "..                                                 ...    ...          ...\n",
       "275  Bacteria \"Thermotogae\" Thermotogae Thermotogal...     43         MID9\n",
       "276  Bacteria \"Thermotogae\" Thermotogae Thermotogal...     16         MID9\n",
       "277  Bacteria \"Verrucomicrobia\" Opitutae Opitutales...      1         MID9\n",
       "278  Bacteria Cyanobacteria Cyanobacteria  Chloropl...      1         MID9\n",
       "279  Bacteria Cyanobacteria Cyanobacteria  Chloropl...     10         MID9\n",
       "\n",
       "[280 rows x 3 columns]"
      ]
     },
     "execution_count": 77,
     "metadata": {},
     "output_type": "execute_result"
    }
   ],
   "source": [
    "new_column_names = ['biological name', 'count','patient Name']\n",
    "MID9_df.rename(columns=dict(zip(MID9_df.columns, new_column_names)), inplace=True)\n",
    "MID9_df\n"
   ]
  },
  {
   "cell_type": "code",
   "execution_count": 78,
   "metadata": {},
   "outputs": [
    {
     "data": {
      "text/html": [
       "<div>\n",
       "<style scoped>\n",
       "    .dataframe tbody tr th:only-of-type {\n",
       "        vertical-align: middle;\n",
       "    }\n",
       "\n",
       "    .dataframe tbody tr th {\n",
       "        vertical-align: top;\n",
       "    }\n",
       "\n",
       "    .dataframe thead th {\n",
       "        text-align: right;\n",
       "    }\n",
       "</style>\n",
       "<table border=\"1\" class=\"dataframe\">\n",
       "  <thead>\n",
       "    <tr style=\"text-align: right;\">\n",
       "      <th></th>\n",
       "      <th>biological name</th>\n",
       "      <th>count</th>\n",
       "      <th>patient Name</th>\n",
       "    </tr>\n",
       "  </thead>\n",
       "  <tbody>\n",
       "    <tr>\n",
       "      <th>0</th>\n",
       "      <td>Archaea \"Crenarchaeota\" Thermoprotei Desulfuro...</td>\n",
       "      <td>2</td>\n",
       "      <td>MID1</td>\n",
       "    </tr>\n",
       "    <tr>\n",
       "      <th>1</th>\n",
       "      <td>Archaea \"Crenarchaeota\" Thermoprotei Sulfoloba...</td>\n",
       "      <td>3</td>\n",
       "      <td>MID1</td>\n",
       "    </tr>\n",
       "    <tr>\n",
       "      <th>2</th>\n",
       "      <td>Archaea \"Crenarchaeota\" Thermoprotei Thermopro...</td>\n",
       "      <td>3</td>\n",
       "      <td>MID1</td>\n",
       "    </tr>\n",
       "    <tr>\n",
       "      <th>3</th>\n",
       "      <td>Archaea \"Euryarchaeota\" \"Methanomicrobia\" Meth...</td>\n",
       "      <td>7</td>\n",
       "      <td>MID1</td>\n",
       "    </tr>\n",
       "    <tr>\n",
       "      <th>4</th>\n",
       "      <td>Archaea \"Euryarchaeota\" \"Methanomicrobia\" Meth...</td>\n",
       "      <td>1</td>\n",
       "      <td>MID1</td>\n",
       "    </tr>\n",
       "    <tr>\n",
       "      <th>...</th>\n",
       "      <td>...</td>\n",
       "      <td>...</td>\n",
       "      <td>...</td>\n",
       "    </tr>\n",
       "    <tr>\n",
       "      <th>2382</th>\n",
       "      <td>Bacteria \"Thermotogae\" Thermotogae Thermotogal...</td>\n",
       "      <td>43</td>\n",
       "      <td>MID9</td>\n",
       "    </tr>\n",
       "    <tr>\n",
       "      <th>2383</th>\n",
       "      <td>Bacteria \"Thermotogae\" Thermotogae Thermotogal...</td>\n",
       "      <td>16</td>\n",
       "      <td>MID9</td>\n",
       "    </tr>\n",
       "    <tr>\n",
       "      <th>2384</th>\n",
       "      <td>Bacteria \"Verrucomicrobia\" Opitutae Opitutales...</td>\n",
       "      <td>1</td>\n",
       "      <td>MID9</td>\n",
       "    </tr>\n",
       "    <tr>\n",
       "      <th>2385</th>\n",
       "      <td>Bacteria Cyanobacteria Cyanobacteria  Chloropl...</td>\n",
       "      <td>1</td>\n",
       "      <td>MID9</td>\n",
       "    </tr>\n",
       "    <tr>\n",
       "      <th>2386</th>\n",
       "      <td>Bacteria Cyanobacteria Cyanobacteria  Chloropl...</td>\n",
       "      <td>10</td>\n",
       "      <td>MID9</td>\n",
       "    </tr>\n",
       "  </tbody>\n",
       "</table>\n",
       "<p>2387 rows × 3 columns</p>\n",
       "</div>"
      ],
      "text/plain": [
       "                                        biological name  count patient Name\n",
       "0     Archaea \"Crenarchaeota\" Thermoprotei Desulfuro...      2         MID1\n",
       "1     Archaea \"Crenarchaeota\" Thermoprotei Sulfoloba...      3         MID1\n",
       "2     Archaea \"Crenarchaeota\" Thermoprotei Thermopro...      3         MID1\n",
       "3     Archaea \"Euryarchaeota\" \"Methanomicrobia\" Meth...      7         MID1\n",
       "4     Archaea \"Euryarchaeota\" \"Methanomicrobia\" Meth...      1         MID1\n",
       "...                                                 ...    ...          ...\n",
       "2382  Bacteria \"Thermotogae\" Thermotogae Thermotogal...     43         MID9\n",
       "2383  Bacteria \"Thermotogae\" Thermotogae Thermotogal...     16         MID9\n",
       "2384  Bacteria \"Verrucomicrobia\" Opitutae Opitutales...      1         MID9\n",
       "2385  Bacteria Cyanobacteria Cyanobacteria  Chloropl...      1         MID9\n",
       "2386  Bacteria Cyanobacteria Cyanobacteria  Chloropl...     10         MID9\n",
       "\n",
       "[2387 rows x 3 columns]"
      ]
     },
     "execution_count": 78,
     "metadata": {},
     "output_type": "execute_result"
    }
   ],
   "source": [
    "all_df = pd.concat([MID1_df, MID2_df,MID3_df,MID4_df,MID5_df,MID6_df,MID7_df,MID8_df,MID9_df],axis=0, ignore_index=True)\n",
    "all_df"
   ]
  },
  {
   "cell_type": "code",
   "execution_count": 81,
   "metadata": {},
   "outputs": [],
   "source": [
    "df_final = pd.merge(all_df, meta_df, how='outer' , left_on='patient Name', right_on='BARCODE' )"
   ]
  },
  {
   "cell_type": "code",
   "execution_count": 83,
   "metadata": {},
   "outputs": [],
   "source": [
    "df_final.drop(columns='patient Name' , inplace= True)"
   ]
  },
  {
   "cell_type": "code",
   "execution_count": 84,
   "metadata": {},
   "outputs": [
    {
     "data": {
      "text/html": [
       "<div>\n",
       "<style scoped>\n",
       "    .dataframe tbody tr th:only-of-type {\n",
       "        vertical-align: middle;\n",
       "    }\n",
       "\n",
       "    .dataframe tbody tr th {\n",
       "        vertical-align: top;\n",
       "    }\n",
       "\n",
       "    .dataframe thead th {\n",
       "        text-align: right;\n",
       "    }\n",
       "</style>\n",
       "<table border=\"1\" class=\"dataframe\">\n",
       "  <thead>\n",
       "    <tr style=\"text-align: right;\">\n",
       "      <th></th>\n",
       "      <th>biological name</th>\n",
       "      <th>count</th>\n",
       "      <th>BARCODE</th>\n",
       "      <th>GROUP</th>\n",
       "      <th>SAMPLE</th>\n",
       "    </tr>\n",
       "  </thead>\n",
       "  <tbody>\n",
       "    <tr>\n",
       "      <th>0</th>\n",
       "      <td>Archaea \"Crenarchaeota\" Thermoprotei Desulfuro...</td>\n",
       "      <td>2</td>\n",
       "      <td>MID1</td>\n",
       "      <td>EXTRACTION CONTROL</td>\n",
       "      <td>NaN</td>\n",
       "    </tr>\n",
       "    <tr>\n",
       "      <th>1</th>\n",
       "      <td>Archaea \"Crenarchaeota\" Thermoprotei Sulfoloba...</td>\n",
       "      <td>3</td>\n",
       "      <td>MID1</td>\n",
       "      <td>EXTRACTION CONTROL</td>\n",
       "      <td>NaN</td>\n",
       "    </tr>\n",
       "    <tr>\n",
       "      <th>2</th>\n",
       "      <td>Archaea \"Crenarchaeota\" Thermoprotei Thermopro...</td>\n",
       "      <td>3</td>\n",
       "      <td>MID1</td>\n",
       "      <td>EXTRACTION CONTROL</td>\n",
       "      <td>NaN</td>\n",
       "    </tr>\n",
       "    <tr>\n",
       "      <th>3</th>\n",
       "      <td>Archaea \"Euryarchaeota\" \"Methanomicrobia\" Meth...</td>\n",
       "      <td>7</td>\n",
       "      <td>MID1</td>\n",
       "      <td>EXTRACTION CONTROL</td>\n",
       "      <td>NaN</td>\n",
       "    </tr>\n",
       "    <tr>\n",
       "      <th>4</th>\n",
       "      <td>Archaea \"Euryarchaeota\" \"Methanomicrobia\" Meth...</td>\n",
       "      <td>1</td>\n",
       "      <td>MID1</td>\n",
       "      <td>EXTRACTION CONTROL</td>\n",
       "      <td>NaN</td>\n",
       "    </tr>\n",
       "    <tr>\n",
       "      <th>...</th>\n",
       "      <td>...</td>\n",
       "      <td>...</td>\n",
       "      <td>...</td>\n",
       "      <td>...</td>\n",
       "      <td>...</td>\n",
       "    </tr>\n",
       "    <tr>\n",
       "      <th>2382</th>\n",
       "      <td>Bacteria \"Thermotogae\" Thermotogae Thermotogal...</td>\n",
       "      <td>43</td>\n",
       "      <td>MID9</td>\n",
       "      <td>Control 2</td>\n",
       "      <td>stool</td>\n",
       "    </tr>\n",
       "    <tr>\n",
       "      <th>2383</th>\n",
       "      <td>Bacteria \"Thermotogae\" Thermotogae Thermotogal...</td>\n",
       "      <td>16</td>\n",
       "      <td>MID9</td>\n",
       "      <td>Control 2</td>\n",
       "      <td>stool</td>\n",
       "    </tr>\n",
       "    <tr>\n",
       "      <th>2384</th>\n",
       "      <td>Bacteria \"Verrucomicrobia\" Opitutae Opitutales...</td>\n",
       "      <td>1</td>\n",
       "      <td>MID9</td>\n",
       "      <td>Control 2</td>\n",
       "      <td>stool</td>\n",
       "    </tr>\n",
       "    <tr>\n",
       "      <th>2385</th>\n",
       "      <td>Bacteria Cyanobacteria Cyanobacteria  Chloropl...</td>\n",
       "      <td>1</td>\n",
       "      <td>MID9</td>\n",
       "      <td>Control 2</td>\n",
       "      <td>stool</td>\n",
       "    </tr>\n",
       "    <tr>\n",
       "      <th>2386</th>\n",
       "      <td>Bacteria Cyanobacteria Cyanobacteria  Chloropl...</td>\n",
       "      <td>10</td>\n",
       "      <td>MID9</td>\n",
       "      <td>Control 2</td>\n",
       "      <td>stool</td>\n",
       "    </tr>\n",
       "  </tbody>\n",
       "</table>\n",
       "<p>2387 rows × 5 columns</p>\n",
       "</div>"
      ],
      "text/plain": [
       "                                        biological name  count BARCODE  \\\n",
       "0     Archaea \"Crenarchaeota\" Thermoprotei Desulfuro...      2    MID1   \n",
       "1     Archaea \"Crenarchaeota\" Thermoprotei Sulfoloba...      3    MID1   \n",
       "2     Archaea \"Crenarchaeota\" Thermoprotei Thermopro...      3    MID1   \n",
       "3     Archaea \"Euryarchaeota\" \"Methanomicrobia\" Meth...      7    MID1   \n",
       "4     Archaea \"Euryarchaeota\" \"Methanomicrobia\" Meth...      1    MID1   \n",
       "...                                                 ...    ...     ...   \n",
       "2382  Bacteria \"Thermotogae\" Thermotogae Thermotogal...     43    MID9   \n",
       "2383  Bacteria \"Thermotogae\" Thermotogae Thermotogal...     16    MID9   \n",
       "2384  Bacteria \"Verrucomicrobia\" Opitutae Opitutales...      1    MID9   \n",
       "2385  Bacteria Cyanobacteria Cyanobacteria  Chloropl...      1    MID9   \n",
       "2386  Bacteria Cyanobacteria Cyanobacteria  Chloropl...     10    MID9   \n",
       "\n",
       "                   GROUP SAMPLE  \n",
       "0     EXTRACTION CONTROL    NaN  \n",
       "1     EXTRACTION CONTROL    NaN  \n",
       "2     EXTRACTION CONTROL    NaN  \n",
       "3     EXTRACTION CONTROL    NaN  \n",
       "4     EXTRACTION CONTROL    NaN  \n",
       "...                  ...    ...  \n",
       "2382           Control 2  stool  \n",
       "2383           Control 2  stool  \n",
       "2384           Control 2  stool  \n",
       "2385           Control 2  stool  \n",
       "2386           Control 2  stool  \n",
       "\n",
       "[2387 rows x 5 columns]"
      ]
     },
     "execution_count": 84,
     "metadata": {},
     "output_type": "execute_result"
    }
   ],
   "source": [
    "df_final"
   ]
  },
  {
   "cell_type": "markdown",
   "metadata": {
    "id": "j_0-O7dweSkX"
   },
   "source": [
    "## **Categorical Dependence - Challenge 2**\n",
    "\n",
    "### The Adult Income Dataset\n",
    "\n",
    "The [Adult Income Dataset](https://raw.githubusercontent.com/mervatkheir/CSEN1095-Data-Engineering/master/data/income_data.csv) includes data about an individual’s annual income. Intuitively, income is influenced by the individual’s education level, age, gender, occupation, and etc. The dataset contains 14 columns detailing attributes related to the demographics and other features that describe a person. The target attribute, Income, is divide into two classes: <=50K and >50K. A description of the attributes follows:\n",
    "\n",
    "<b>age</b>: continuous.\n",
    "<br><b>workclass</b>: Private, Self-emp-not-inc, Self-emp-inc, Federal-gov, Local-gov, State-gov, Without-pay, Never-worked.\n",
    "<br><b>fnlwgt</b>: continuous.\n",
    "<br><b>education</b>: Bachelors, Some-college, 11th, HS-grad, Prof-school, Assoc-acdm, Assoc-voc, 9th, 7th-8th, 12th, Masters, 1st-4th, 10th, Doctorate, 5th-6th, Preschool.\n",
    "<br><b>education-num</b>: continuous.\n",
    "<br><b>marital-status</b>: Married-civ-spouse, Divorced, Never-married, Separated, Widowed, Married-spouse-absent, Married-AF-spouse.\n",
    "<br><b>occupation</b>: Tech-support, Craft-repair, Other-service, Sales, Exec-managerial, Prof-specialty, Handlers-cleaners, Machine-op-inspct, Adm-clerical, Farming-fishing, Transport-moving, Priv-house-serv, Protective-serv, Armed-Forces.\n",
    "<br><b>relationship</b>: Wife, Own-child, Husband, Not-in-family, Other-relative, Unmarried.\n",
    "<br><b>race</b>: White, Asian-Pac-Islander, Amer-Indian-Eskimo, Other, Black.\n",
    "<br><b>gender</b>: Female, Male.\n",
    "<br><b>capital-gain</b>: continuous.\n",
    "<br><b>capital-loss</b>: continuous.\n",
    "<br><b>hours-per-week</b>: continuous.\n",
    "<br><b>native-country</b>: United-States, Cambodia, England, Puerto-Rico, Canada, Germany, Outlying-US(Guam-USVI-etc), India, Japan, Greece, South, China, Cuba, Iran, Honduras, Philippines, Italy, Poland, Jamaica, Vietnam, Mexico, Portugal, Ireland, France, Dominican-Republic, Laos, Ecuador, Taiwan, Haiti, Columbia, Hungary, Guatemala, Nicaragua, Scotland, Thailand, Yugoslavia, El-Salvador, Trinadad&Tobago, Peru, Hong, Holand-Netherlands.\n",
    "<br><b>income</b>: >50K, <=50K"
   ]
  },
  {
   "cell_type": "markdown",
   "metadata": {
    "id": "4e8iTHICcKCo"
   },
   "source": [
    "Write code that will compute the correlation between the `race` and `education` attributes. Is there a correlation or are the attributes independent?"
   ]
  },
  {
   "cell_type": "markdown",
   "metadata": {},
   "source": [
    "#### Answer"
   ]
  },
  {
   "cell_type": "markdown",
   "metadata": {},
   "source": [
    "* The relationship is weak   \n",
    "Correlation between 'race' and 'education': 0.02923904281012609"
   ]
  },
  {
   "cell_type": "code",
   "execution_count": null,
   "metadata": {},
   "outputs": [],
   "source": [
    "url = \"https://raw.githubusercontent.com/mervatkheir/CSEN1095-Data-Engineering/master/data/income_data.csv\"\n",
    "df = pd.read_csv(url)"
   ]
  },
  {
   "cell_type": "code",
   "execution_count": null,
   "metadata": {},
   "outputs": [
    {
     "data": {
      "text/html": [
       "<div>\n",
       "<style scoped>\n",
       "    .dataframe tbody tr th:only-of-type {\n",
       "        vertical-align: middle;\n",
       "    }\n",
       "\n",
       "    .dataframe tbody tr th {\n",
       "        vertical-align: top;\n",
       "    }\n",
       "\n",
       "    .dataframe thead th {\n",
       "        text-align: right;\n",
       "    }\n",
       "</style>\n",
       "<table border=\"1\" class=\"dataframe\">\n",
       "  <thead>\n",
       "    <tr style=\"text-align: right;\">\n",
       "      <th></th>\n",
       "      <th>age</th>\n",
       "      <th>workclass</th>\n",
       "      <th>fnlwgt</th>\n",
       "      <th>education</th>\n",
       "      <th>educational-num</th>\n",
       "      <th>marital-status</th>\n",
       "      <th>occupation</th>\n",
       "      <th>relationship</th>\n",
       "      <th>race</th>\n",
       "      <th>gender</th>\n",
       "      <th>capital-gain</th>\n",
       "      <th>capital-loss</th>\n",
       "      <th>hours-per-week</th>\n",
       "      <th>native-country</th>\n",
       "      <th>income</th>\n",
       "      <th>race_encoded</th>\n",
       "      <th>education_encoded</th>\n",
       "    </tr>\n",
       "  </thead>\n",
       "  <tbody>\n",
       "    <tr>\n",
       "      <th>0</th>\n",
       "      <td>25</td>\n",
       "      <td>Private</td>\n",
       "      <td>226802</td>\n",
       "      <td>11th</td>\n",
       "      <td>7</td>\n",
       "      <td>Never-married</td>\n",
       "      <td>Machine-op-inspct</td>\n",
       "      <td>Own-child</td>\n",
       "      <td>Black</td>\n",
       "      <td>Male</td>\n",
       "      <td>0</td>\n",
       "      <td>0</td>\n",
       "      <td>40</td>\n",
       "      <td>United-States</td>\n",
       "      <td>&lt;=50K</td>\n",
       "      <td>2</td>\n",
       "      <td>1</td>\n",
       "    </tr>\n",
       "    <tr>\n",
       "      <th>1</th>\n",
       "      <td>38</td>\n",
       "      <td>Private</td>\n",
       "      <td>89814</td>\n",
       "      <td>HS-grad</td>\n",
       "      <td>9</td>\n",
       "      <td>Married-civ-spouse</td>\n",
       "      <td>Farming-fishing</td>\n",
       "      <td>Husband</td>\n",
       "      <td>White</td>\n",
       "      <td>Male</td>\n",
       "      <td>0</td>\n",
       "      <td>0</td>\n",
       "      <td>50</td>\n",
       "      <td>United-States</td>\n",
       "      <td>&lt;=50K</td>\n",
       "      <td>4</td>\n",
       "      <td>11</td>\n",
       "    </tr>\n",
       "    <tr>\n",
       "      <th>2</th>\n",
       "      <td>28</td>\n",
       "      <td>Local-gov</td>\n",
       "      <td>336951</td>\n",
       "      <td>Assoc-acdm</td>\n",
       "      <td>12</td>\n",
       "      <td>Married-civ-spouse</td>\n",
       "      <td>Protective-serv</td>\n",
       "      <td>Husband</td>\n",
       "      <td>White</td>\n",
       "      <td>Male</td>\n",
       "      <td>0</td>\n",
       "      <td>0</td>\n",
       "      <td>40</td>\n",
       "      <td>United-States</td>\n",
       "      <td>&gt;50K</td>\n",
       "      <td>4</td>\n",
       "      <td>7</td>\n",
       "    </tr>\n",
       "    <tr>\n",
       "      <th>3</th>\n",
       "      <td>44</td>\n",
       "      <td>Private</td>\n",
       "      <td>160323</td>\n",
       "      <td>Some-college</td>\n",
       "      <td>10</td>\n",
       "      <td>Married-civ-spouse</td>\n",
       "      <td>Machine-op-inspct</td>\n",
       "      <td>Husband</td>\n",
       "      <td>Black</td>\n",
       "      <td>Male</td>\n",
       "      <td>7688</td>\n",
       "      <td>0</td>\n",
       "      <td>40</td>\n",
       "      <td>United-States</td>\n",
       "      <td>&gt;50K</td>\n",
       "      <td>2</td>\n",
       "      <td>15</td>\n",
       "    </tr>\n",
       "    <tr>\n",
       "      <th>4</th>\n",
       "      <td>18</td>\n",
       "      <td>?</td>\n",
       "      <td>103497</td>\n",
       "      <td>Some-college</td>\n",
       "      <td>10</td>\n",
       "      <td>Never-married</td>\n",
       "      <td>?</td>\n",
       "      <td>Own-child</td>\n",
       "      <td>White</td>\n",
       "      <td>Female</td>\n",
       "      <td>0</td>\n",
       "      <td>0</td>\n",
       "      <td>30</td>\n",
       "      <td>United-States</td>\n",
       "      <td>&lt;=50K</td>\n",
       "      <td>4</td>\n",
       "      <td>15</td>\n",
       "    </tr>\n",
       "  </tbody>\n",
       "</table>\n",
       "</div>"
      ],
      "text/plain": [
       "   age  workclass  fnlwgt     education  educational-num      marital-status  \\\n",
       "0   25    Private  226802          11th                7       Never-married   \n",
       "1   38    Private   89814       HS-grad                9  Married-civ-spouse   \n",
       "2   28  Local-gov  336951    Assoc-acdm               12  Married-civ-spouse   \n",
       "3   44    Private  160323  Some-college               10  Married-civ-spouse   \n",
       "4   18          ?  103497  Some-college               10       Never-married   \n",
       "\n",
       "          occupation relationship   race  gender  capital-gain  capital-loss  \\\n",
       "0  Machine-op-inspct    Own-child  Black    Male             0             0   \n",
       "1    Farming-fishing      Husband  White    Male             0             0   \n",
       "2    Protective-serv      Husband  White    Male             0             0   \n",
       "3  Machine-op-inspct      Husband  Black    Male          7688             0   \n",
       "4                  ?    Own-child  White  Female             0             0   \n",
       "\n",
       "   hours-per-week native-country income  race_encoded  education_encoded  \n",
       "0              40  United-States  <=50K             2                  1  \n",
       "1              50  United-States  <=50K             4                 11  \n",
       "2              40  United-States   >50K             4                  7  \n",
       "3              40  United-States   >50K             2                 15  \n",
       "4              30  United-States  <=50K             4                 15  "
      ]
     },
     "execution_count": 68,
     "metadata": {},
     "output_type": "execute_result"
    }
   ],
   "source": [
    "df.head()"
   ]
  },
  {
   "cell_type": "code",
   "execution_count": null,
   "metadata": {},
   "outputs": [
    {
     "name": "stdout",
     "output_type": "stream",
     "text": [
      "<class 'pandas.core.frame.DataFrame'>\n",
      "RangeIndex: 48842 entries, 0 to 48841\n",
      "Data columns (total 15 columns):\n",
      " #   Column           Non-Null Count  Dtype \n",
      "---  ------           --------------  ----- \n",
      " 0   age              48842 non-null  int64 \n",
      " 1   workclass        48842 non-null  object\n",
      " 2   fnlwgt           48842 non-null  int64 \n",
      " 3   education        48842 non-null  object\n",
      " 4   educational-num  48842 non-null  int64 \n",
      " 5   marital-status   48842 non-null  object\n",
      " 6   occupation       48842 non-null  object\n",
      " 7   relationship     48842 non-null  object\n",
      " 8   race             48842 non-null  object\n",
      " 9   gender           48842 non-null  object\n",
      " 10  capital-gain     48842 non-null  int64 \n",
      " 11  capital-loss     48842 non-null  int64 \n",
      " 12  hours-per-week   48842 non-null  int64 \n",
      " 13  native-country   48842 non-null  object\n",
      " 14  income           48842 non-null  object\n",
      "dtypes: int64(6), object(9)\n",
      "memory usage: 5.6+ MB\n"
     ]
    }
   ],
   "source": [
    "df.info()"
   ]
  },
  {
   "cell_type": "code",
   "execution_count": null,
   "metadata": {},
   "outputs": [
    {
     "data": {
      "text/plain": [
       "array(['11th', 'HS-grad', 'Assoc-acdm', 'Some-college', '10th',\n",
       "       'Prof-school', '7th-8th', 'Bachelors', 'Masters', 'Doctorate',\n",
       "       '5th-6th', 'Assoc-voc', '9th', '12th', '1st-4th', 'Preschool'],\n",
       "      dtype=object)"
      ]
     },
     "execution_count": 27,
     "metadata": {},
     "output_type": "execute_result"
    }
   ],
   "source": [
    "df['education'].unique()"
   ]
  },
  {
   "cell_type": "code",
   "execution_count": null,
   "metadata": {},
   "outputs": [
    {
     "name": "stdout",
     "output_type": "stream",
     "text": [
      "P-value for chi-square test: 7.472985630265706e-179\n",
      "There is a significant relationship between 'race' and 'education'.\n"
     ]
    }
   ],
   "source": [
    "import pandas as pd\n",
    "from scipy.stats import chi2_contingency\n",
    "import seaborn as sns\n",
    "\n",
    "\n",
    "# Create a contingency table for 'race' and 'education'\n",
    "contingency_table = pd.crosstab(df['race'], df['educational-num'])\n",
    "\n",
    "# Perform chi-square test for independence\n",
    "chi2, p, _, _ = chi2_contingency(contingency_table)\n",
    "\n",
    "# Print the p-value\n",
    "print(f\"P-value for chi-square test: {p}\")\n",
    "\n",
    "# Check if the result is statistically significant (you can choose a significance level, e.g., 0.05)\n",
    "if p < 0.05:\n",
    "    print(\"There is a significant relationship between 'race' and 'education'.\")\n",
    "else:\n",
    "    print(\"There is no significant relationship between 'race' and 'education'.\")\n"
   ]
  },
  {
   "cell_type": "code",
   "execution_count": null,
   "metadata": {},
   "outputs": [
    {
     "data": {
      "image/png": "[encoded data removed]",
      "text/plain": [
       "<Figure size 1000x600 with 1 Axes>"
      ]
     },
     "metadata": {},
     "output_type": "display_data"
    }
   ],
   "source": [
    "\n",
    "\n",
    "# Create a contingency table for 'race' and 'education'\n",
    "contingency_table = pd.crosstab(df['race'], df['educational-num'])\n",
    "\n",
    "# Plot a heatmap\n",
    "plt.figure(figsize=(10, 6))\n",
    "sns.heatmap(contingency_table, annot=True, fmt='d', cmap='Blues', cbar=False)\n",
    "plt.title('Contingency Table Heatmap: Race vs. Education')\n",
    "plt.xlabel('Education')\n",
    "plt.ylabel('Race')\n",
    "plt.show()\n"
   ]
  },
  {
   "cell_type": "code",
   "execution_count": null,
   "metadata": {},
   "outputs": [
    {
     "data": {
      "image/png": "[encoded data removed]",
      "text/plain": [
       "<Figure size 1200x800 with 1 Axes>"
      ]
     },
     "metadata": {},
     "output_type": "display_data"
    }
   ],
   "source": [
    "# Create a grouped bar chart\n",
    "plt.figure(figsize=(12, 8))\n",
    "sns.countplot(x='race', hue='educational-num', data=df)\n",
    "plt.title('Distribution of Race and Education')\n",
    "plt.xlabel('Race')\n",
    "plt.ylabel('Count')\n",
    "plt.xticks(rotation=45, ha='right')\n",
    "plt.legend(title='Education', bbox_to_anchor=(1.05, 1), loc='upper left')\n",
    "plt.show()"
   ]
  },
  {
   "cell_type": "markdown",
   "metadata": {},
   "source": [
    "#### Using Label Encoding"
   ]
  },
  {
   "cell_type": "code",
   "execution_count": null,
   "metadata": {},
   "outputs": [],
   "source": [
    "\n",
    "from sklearn.preprocessing import LabelEncoder\n",
    "\n",
    "# Use label encoding for 'race' and 'education'\n",
    "label_encoder = LabelEncoder()\n",
    "df['race_encoded'] = label_encoder.fit_transform(df['race'])\n",
    "df['education_encoded'] = label_encoder.fit_transform(df['educational-num'])\n",
    "df_subset = df[['race_encoded', 'education_encoded']]\n"
   ]
  },
  {
   "cell_type": "code",
   "execution_count": null,
   "metadata": {},
   "outputs": [
    {
     "data": {
      "text/plain": [
       "array([ 6,  8, 11,  9,  5, 14,  3, 12, 13, 15,  2, 10,  4,  7,  1,  0],\n",
       "      dtype=int64)"
      ]
     },
     "execution_count": 73,
     "metadata": {},
     "output_type": "execute_result"
    }
   ],
   "source": [
    "df['education_encoded'] .unique()"
   ]
  },
  {
   "cell_type": "code",
   "execution_count": null,
   "metadata": {},
   "outputs": [
    {
     "data": {
      "text/plain": [
       "array([2, 4, 1, 3, 0])"
      ]
     },
     "execution_count": 74,
     "metadata": {},
     "output_type": "execute_result"
    }
   ],
   "source": [
    "df['race_encoded'].unique()"
   ]
  },
  {
   "cell_type": "code",
   "execution_count": null,
   "metadata": {},
   "outputs": [
    {
     "name": "stdout",
     "output_type": "stream",
     "text": [
      "Correlation between 'race' and 'education': 0.02923904281012609\n"
     ]
    }
   ],
   "source": [
    "correlation = df['race_encoded'].corr(df['education_encoded'])\n",
    "\n",
    "# Print the correlation coefficient\n",
    "print(f\"Correlation between 'race' and 'education': {correlation}\")"
   ]
  },
  {
   "cell_type": "code",
   "execution_count": null,
   "metadata": {},
   "outputs": [
    {
     "data": {
      "image/png": "[encoded data removed]",
      "text/plain": [
       "<Figure size 800x600 with 2 Axes>"
      ]
     },
     "metadata": {},
     "output_type": "display_data"
    }
   ],
   "source": [
    "\n",
    "from sklearn.preprocessing import LabelEncoder, MinMaxScaler\n",
    "\n",
    "\n",
    "# Use label encoding for 'race' and 'education'\n",
    "label_encoder = LabelEncoder()\n",
    "df['race_encoded'] = label_encoder.fit_transform(df['race'])\n",
    "df['education_encoded'] = label_encoder.fit_transform(df['education'])\n",
    "df_subset = df[['race_encoded', 'education_encoded']]\n",
    "\n",
    "# Scale the data using MinMaxScaler\n",
    "scaler = MinMaxScaler()\n",
    "df_scaled = pd.DataFrame(scaler.fit_transform(df_subset), columns=df_subset.columns)\n",
    "\n",
    "# Calculate the Pearson correlation coefficient\n",
    "correlation_matrix = df_scaled.corr()\n",
    "\n",
    "# Create a heatmap to visualize the correlation matrix\n",
    "plt.figure(figsize=(8, 6))\n",
    "sns.heatmap(correlation_matrix, annot=True, cmap='coolwarm', fmt=\".2f\", linewidths=.5)\n",
    "plt.title('Correlation Heatmap')\n",
    "plt.show()\n"
   ]
  },
  {
   "cell_type": "code",
   "execution_count": null,
   "metadata": {},
   "outputs": [
    {
     "name": "stdout",
     "output_type": "stream",
     "text": [
      "<class 'pandas.core.frame.DataFrame'>\n",
      "RangeIndex: 48842 entries, 0 to 48841\n",
      "Data columns (total 2 columns):\n",
      " #   Column             Non-Null Count  Dtype  \n",
      "---  ------             --------------  -----  \n",
      " 0   race_encoded       48842 non-null  float64\n",
      " 1   education_encoded  48842 non-null  float64\n",
      "dtypes: float64(2)\n",
      "memory usage: 763.3 KB\n"
     ]
    }
   ],
   "source": [
    "df_scaled.info()"
   ]
  },
  {
   "cell_type": "code",
   "execution_count": null,
   "metadata": {},
   "outputs": [
    {
     "data": {
      "text/html": [
       "<div>\n",
       "<style scoped>\n",
       "    .dataframe tbody tr th:only-of-type {\n",
       "        vertical-align: middle;\n",
       "    }\n",
       "\n",
       "    .dataframe tbody tr th {\n",
       "        vertical-align: top;\n",
       "    }\n",
       "\n",
       "    .dataframe thead th {\n",
       "        text-align: right;\n",
       "    }\n",
       "</style>\n",
       "<table border=\"1\" class=\"dataframe\">\n",
       "  <thead>\n",
       "    <tr style=\"text-align: right;\">\n",
       "      <th></th>\n",
       "      <th>race_encoded</th>\n",
       "      <th>education_encoded</th>\n",
       "    </tr>\n",
       "  </thead>\n",
       "  <tbody>\n",
       "    <tr>\n",
       "      <th>0</th>\n",
       "      <td>0.5</td>\n",
       "      <td>0.066667</td>\n",
       "    </tr>\n",
       "    <tr>\n",
       "      <th>1</th>\n",
       "      <td>1.0</td>\n",
       "      <td>0.733333</td>\n",
       "    </tr>\n",
       "    <tr>\n",
       "      <th>2</th>\n",
       "      <td>1.0</td>\n",
       "      <td>0.466667</td>\n",
       "    </tr>\n",
       "    <tr>\n",
       "      <th>3</th>\n",
       "      <td>0.5</td>\n",
       "      <td>1.000000</td>\n",
       "    </tr>\n",
       "    <tr>\n",
       "      <th>4</th>\n",
       "      <td>1.0</td>\n",
       "      <td>1.000000</td>\n",
       "    </tr>\n",
       "  </tbody>\n",
       "</table>\n",
       "</div>"
      ],
      "text/plain": [
       "   race_encoded  education_encoded\n",
       "0           0.5           0.066667\n",
       "1           1.0           0.733333\n",
       "2           1.0           0.466667\n",
       "3           0.5           1.000000\n",
       "4           1.0           1.000000"
      ]
     },
     "execution_count": 77,
     "metadata": {},
     "output_type": "execute_result"
    }
   ],
   "source": [
    "df_scaled.head()"
   ]
  },
  {
   "cell_type": "code",
   "execution_count": null,
   "metadata": {},
   "outputs": [
    {
     "name": "stdout",
     "output_type": "stream",
     "text": [
      "Index(['race_encoded', 'education_encoded'], dtype='object')\n"
     ]
    }
   ],
   "source": [
    "print(df_subset.columns)"
   ]
  },
  {
   "cell_type": "code",
   "execution_count": null,
   "metadata": {},
   "outputs": [],
   "source": []
  }
 ],
 "metadata": {
  "colab": {
   "provenance": []
  },
  "kernelspec": {
   "display_name": "Python 3 (ipykernel)",
   "language": "python",
   "name": "python3"
  },
  "language_info": {
   "codemirror_mode": {
    "name": "ipython",
    "version": 3
   },
   "file_extension": ".py",
   "mimetype": "text/x-python",
   "name": "python",
   "nbconvert_exporter": "python",
   "pygments_lexer": "ipython3",
   "version": "3.11.5"
  }
 },
 "nbformat": 4,
 "nbformat_minor": 1
}
