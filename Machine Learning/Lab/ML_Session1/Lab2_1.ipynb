{
  "cells": [
    {
      "cell_type": "markdown",
      "metadata": {
        "id": "pBHXfhzrw8eT"
      },
      "source": [
        "# Series"
      ]
    },
    {
      "cell_type": "markdown",
      "metadata": {
        "id": "y68bEAnYw8eU"
      },
      "source": [
        "The first main data type we will learn about for pandas is the Series data type. Let's import Pandas and explore the Series object.\n",
        "\n",
        "A Series is very similar to a NumPy array (in fact it is built on top of the NumPy array object). What differentiates the NumPy array from a Series, is that a Series can have axis labels, meaning it can be indexed by a label, instead of just a number location. It also doesn't need to hold numeric data, it can hold any arbitrary Python Object.\n",
        "\n",
        "Let's explore this concept through some examples:"
      ]
    },
    {
      "cell_type": "markdown",
      "metadata": {
        "id": "neeOW8Cyw8eU"
      },
      "source": [
        "## Imports"
      ]
    },
    {
      "cell_type": "code",
      "execution_count": null,
      "metadata": {
        "collapsed": true,
        "id": "mlTr5aRvw8eV"
      },
      "outputs": [],
      "source": [
        "import numpy as np\n",
        "import pandas as pd"
      ]
    },
    {
      "cell_type": "markdown",
      "metadata": {
        "id": "ClwVInm9w8eW"
      },
      "source": [
        "## Creating a Series from Python Objects"
      ]
    },
    {
      "cell_type": "markdown",
      "metadata": {
        "id": "mxpX_wqVw8eX"
      },
      "source": [
        "### Index and Data Lists\n",
        "\n",
        "We can create a Series from Python lists (also from NumPy arrays)"
      ]
    },
    {
      "cell_type": "code",
      "execution_count": null,
      "metadata": {
        "collapsed": true,
        "id": "MsXa9TKLw8eX"
      },
      "outputs": [],
      "source": [
        "myindex = ['USA','Canada','Mexico']"
      ]
    },
    {
      "cell_type": "code",
      "execution_count": null,
      "metadata": {
        "collapsed": true,
        "id": "gc6vSTTTw8eY"
      },
      "outputs": [],
      "source": [
        "mydata = [1776,1867,1821]"
      ]
    },
    {
      "cell_type": "code",
      "execution_count": null,
      "metadata": {
        "id": "mZ8fIDBAw8eY"
      },
      "outputs": [],
      "source": [
        "myser = pd.Series(data=mydata)"
      ]
    },
    {
      "cell_type": "code",
      "execution_count": null,
      "metadata": {
        "id": "myuTwEW-w8eY",
        "outputId": "1afd9d3f-6926-435e-de3f-6a242a0c3a8e"
      },
      "outputs": [
        {
          "data": {
            "text/plain": [
              "0    1776\n",
              "1    1867\n",
              "2    1821\n",
              "dtype: int64"
            ]
          },
          "execution_count": 17,
          "metadata": {},
          "output_type": "execute_result"
        }
      ],
      "source": [
        "myser"
      ]
    },
    {
      "cell_type": "code",
      "execution_count": null,
      "metadata": {
        "id": "7cl6eUefw8eY",
        "outputId": "dda73d0d-ced5-47f6-94a5-8f7d971ebaab"
      },
      "outputs": [
        {
          "data": {
            "text/plain": [
              "USA       1776\n",
              "Canada    1867\n",
              "Mexico    1821\n",
              "dtype: int64"
            ]
          },
          "execution_count": 18,
          "metadata": {},
          "output_type": "execute_result"
        }
      ],
      "source": [
        "pd.Series(data=mydata,index=myindex)"
      ]
    },
    {
      "cell_type": "code",
      "execution_count": null,
      "metadata": {
        "collapsed": true,
        "id": "hvldu24yw8eZ"
      },
      "outputs": [],
      "source": [
        "ran_data = np.random.randint(0,100,4)"
      ]
    },
    {
      "cell_type": "code",
      "execution_count": null,
      "metadata": {
        "id": "9UiPVmcgw8eZ",
        "outputId": "fab8a9ac-f6b6-4281-9f42-806021f783fc"
      },
      "outputs": [
        {
          "data": {
            "text/plain": [
              "array([39, 35, 37, 23])"
            ]
          },
          "execution_count": 24,
          "metadata": {},
          "output_type": "execute_result"
        }
      ],
      "source": [
        "ran_data"
      ]
    },
    {
      "cell_type": "code",
      "execution_count": null,
      "metadata": {
        "collapsed": true,
        "id": "HV5eBx7Aw8ea"
      },
      "outputs": [],
      "source": [
        "names = ['Andrew','Bobo','Claire','David']"
      ]
    },
    {
      "cell_type": "code",
      "execution_count": null,
      "metadata": {
        "id": "d0p4a9FVw8ea"
      },
      "outputs": [],
      "source": [
        "ages = pd.Series(ran_data,names)"
      ]
    },
    {
      "cell_type": "code",
      "execution_count": null,
      "metadata": {
        "id": "KVGh8XX1w8ea",
        "outputId": "f0c1e533-9a27-4531-b809-d733ea7264a0"
      },
      "outputs": [
        {
          "data": {
            "text/plain": [
              "Andrew    39\n",
              "Bobo      35\n",
              "Claire    37\n",
              "David     23\n",
              "dtype: int32"
            ]
          },
          "execution_count": 28,
          "metadata": {},
          "output_type": "execute_result"
        }
      ],
      "source": [
        "ages"
      ]
    },
    {
      "cell_type": "markdown",
      "metadata": {
        "id": "i5zfbOukw8ea"
      },
      "source": [
        "### From a  Dictionary"
      ]
    },
    {
      "cell_type": "code",
      "execution_count": null,
      "metadata": {
        "collapsed": true,
        "id": "D0p-t6R4w8eb"
      },
      "outputs": [],
      "source": [
        "ages = {'Sammy':5,'Frank':10,'Spike':7}"
      ]
    },
    {
      "cell_type": "code",
      "execution_count": null,
      "metadata": {
        "id": "d1w06SkJw8ec",
        "outputId": "d116e0be-f63b-40ac-f236-98fd895b70e7"
      },
      "outputs": [
        {
          "data": {
            "text/plain": [
              "{'Frank': 10, 'Sammy': 5, 'Spike': 7}"
            ]
          },
          "execution_count": 30,
          "metadata": {},
          "output_type": "execute_result"
        }
      ],
      "source": [
        "ages"
      ]
    },
    {
      "cell_type": "code",
      "execution_count": null,
      "metadata": {
        "id": "apv5NSdJw8ec",
        "outputId": "dced319e-a4aa-4b08-8d63-3140a02b260d"
      },
      "outputs": [
        {
          "data": {
            "text/plain": [
              "Sammy     5\n",
              "Frank    10\n",
              "Spike     7\n",
              "dtype: int64"
            ]
          },
          "execution_count": 31,
          "metadata": {},
          "output_type": "execute_result"
        }
      ],
      "source": [
        "pd.Series(ages)"
      ]
    },
    {
      "cell_type": "markdown",
      "metadata": {
        "id": "S59ECCOBw8ec"
      },
      "source": [
        "# Key Ideas of a Series"
      ]
    },
    {
      "cell_type": "markdown",
      "metadata": {
        "id": "am81mEYlw8ed"
      },
      "source": [
        "## Named Index"
      ]
    },
    {
      "cell_type": "code",
      "execution_count": null,
      "metadata": {
        "collapsed": true,
        "id": "NTj6t2Ijw8ed"
      },
      "outputs": [],
      "source": [
        "# Imaginary Sales Data for 1st and 2nd Quarters for Global Company\n",
        "q1 = {'Japan': 80, 'China': 450, 'India': 200, 'USA': 250}\n",
        "q2 = {'Brazil': 100,'China': 500, 'India': 210,'USA': 260}"
      ]
    },
    {
      "cell_type": "code",
      "execution_count": null,
      "metadata": {
        "collapsed": true,
        "id": "7dvyqy3Ew8ed"
      },
      "outputs": [],
      "source": [
        "# Convert into Pandas Series\n",
        "sales_Q1 = pd.Series(q1)\n",
        "sales_Q2 = pd.Series(q2)"
      ]
    },
    {
      "cell_type": "code",
      "execution_count": null,
      "metadata": {
        "id": "guO-jft-w8ee",
        "outputId": "54f6af9b-de8c-4176-b6c8-06660299faa7"
      },
      "outputs": [
        {
          "data": {
            "text/plain": [
              "Japan     80\n",
              "China    450\n",
              "India    200\n",
              "USA      250\n",
              "dtype: int64"
            ]
          },
          "execution_count": 34,
          "metadata": {},
          "output_type": "execute_result"
        }
      ],
      "source": [
        "sales_Q1"
      ]
    },
    {
      "cell_type": "code",
      "execution_count": null,
      "metadata": {
        "id": "BkLd8q7ww8ee",
        "outputId": "dbee61c6-734c-468b-caea-b9049e2914a0"
      },
      "outputs": [
        {
          "data": {
            "text/plain": [
              "80"
            ]
          },
          "execution_count": 35,
          "metadata": {},
          "output_type": "execute_result"
        }
      ],
      "source": [
        "# Call values based on Named Index\n",
        "sales_Q1['Japan']"
      ]
    },
    {
      "cell_type": "code",
      "execution_count": null,
      "metadata": {
        "id": "b4n02xd-w8ee",
        "outputId": "69d6af50-ed16-4d33-a8fd-a6ca22128745"
      },
      "outputs": [
        {
          "data": {
            "text/plain": [
              "80"
            ]
          },
          "execution_count": 36,
          "metadata": {},
          "output_type": "execute_result"
        }
      ],
      "source": [
        "# Integer Based Location information also retained!\n",
        "sales_Q1[0]"
      ]
    },
    {
      "cell_type": "markdown",
      "metadata": {
        "id": "NlUNPOYyw8ef"
      },
      "source": [
        "**Be careful with potential errors!**"
      ]
    },
    {
      "cell_type": "code",
      "execution_count": null,
      "metadata": {
        "collapsed": true,
        "id": "DBmifIJ7w8ef"
      },
      "outputs": [],
      "source": [
        "# Wrong Name\n",
        "# sales_Q1['France']"
      ]
    },
    {
      "cell_type": "code",
      "execution_count": null,
      "metadata": {
        "collapsed": true,
        "id": "KSl_k7v2w8ef"
      },
      "outputs": [],
      "source": [
        "# Accidental Extra Space\n",
        "# sales_Q1['USA ']"
      ]
    },
    {
      "cell_type": "code",
      "execution_count": null,
      "metadata": {
        "collapsed": true,
        "id": "uE4CEnS7w8eg"
      },
      "outputs": [],
      "source": [
        "# Capitalization Mistake\n",
        "# sales_Q1['usa']"
      ]
    },
    {
      "cell_type": "markdown",
      "metadata": {
        "id": "hekGZpDew8eg"
      },
      "source": [
        "## Operations"
      ]
    },
    {
      "cell_type": "code",
      "execution_count": null,
      "metadata": {
        "id": "y-3_J7XDw8eg",
        "outputId": "351311c8-2193-49e7-908a-824821477657"
      },
      "outputs": [
        {
          "data": {
            "text/plain": [
              "Index(['Japan', 'China', 'India', 'USA'], dtype='object')"
            ]
          },
          "execution_count": 40,
          "metadata": {},
          "output_type": "execute_result"
        }
      ],
      "source": [
        "# Grab just the index keys\n",
        "sales_Q1.keys()"
      ]
    },
    {
      "cell_type": "code",
      "execution_count": null,
      "metadata": {
        "id": "CIacKMh5w8eg",
        "outputId": "9cd1ab7b-de24-4547-e551-0fa8f2b8ea6e"
      },
      "outputs": [
        {
          "data": {
            "text/plain": [
              "Japan    160\n",
              "China    900\n",
              "India    400\n",
              "USA      500\n",
              "dtype: int64"
            ]
          },
          "execution_count": 41,
          "metadata": {},
          "output_type": "execute_result"
        }
      ],
      "source": [
        "# Can Perform Operations Broadcasted across entire Series\n",
        "sales_Q1 * 2"
      ]
    },
    {
      "cell_type": "code",
      "execution_count": null,
      "metadata": {
        "id": "sUjf_IaDw8eh",
        "outputId": "1f1fb568-e222-4ad5-b6a8-fd2b9f32b9a2"
      },
      "outputs": [
        {
          "data": {
            "text/plain": [
              "Brazil    1.0\n",
              "China     5.0\n",
              "India     2.1\n",
              "USA       2.6\n",
              "dtype: float64"
            ]
          },
          "execution_count": 42,
          "metadata": {},
          "output_type": "execute_result"
        }
      ],
      "source": [
        "sales_Q2 / 100"
      ]
    },
    {
      "cell_type": "markdown",
      "metadata": {
        "id": "G73rWVbEw8eh"
      },
      "source": [
        "## Between Series"
      ]
    },
    {
      "cell_type": "code",
      "execution_count": null,
      "metadata": {
        "id": "EcF9AmrRw8eh",
        "outputId": "d8b17c4b-9f35-4af8-ab2d-bcbc9aa4bc69"
      },
      "outputs": [
        {
          "data": {
            "text/plain": [
              "Brazil      NaN\n",
              "China     950.0\n",
              "India     410.0\n",
              "Japan       NaN\n",
              "USA       510.0\n",
              "dtype: float64"
            ]
          },
          "execution_count": 43,
          "metadata": {},
          "output_type": "execute_result"
        }
      ],
      "source": [
        "# Notice how Pandas informs you of mismatch with NaN\n",
        "sales_Q1 + sales_Q2"
      ]
    },
    {
      "cell_type": "code",
      "execution_count": null,
      "metadata": {
        "id": "-_522Aamw8eh",
        "outputId": "97a87e3c-de77-42fb-dec2-bae4af892367"
      },
      "outputs": [
        {
          "data": {
            "text/plain": [
              "Brazil    100.0\n",
              "China     950.0\n",
              "India     410.0\n",
              "Japan      80.0\n",
              "USA       510.0\n",
              "dtype: float64"
            ]
          },
          "execution_count": 44,
          "metadata": {},
          "output_type": "execute_result"
        }
      ],
      "source": [
        "# You can fill these with any value you want\n",
        "sales_Q1.add(sales_Q2,fill_value=0)"
      ]
    }
  ],
  "metadata": {
    "anaconda-cloud": {},
    "kernelspec": {
      "display_name": "Python 3",
      "language": "python",
      "name": "python3"
    },
    "language_info": {
      "codemirror_mode": {
        "name": "ipython",
        "version": 3
      },
      "file_extension": ".py",
      "mimetype": "text/x-python",
      "name": "python",
      "nbconvert_exporter": "python",
      "pygments_lexer": "ipython3",
      "version": "3.8.5"
    },
    "colab": {
      "provenance": []
    }
  },
  "nbformat": 4,
  "nbformat_minor": 0
}