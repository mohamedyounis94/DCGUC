{
  "cells": [
    {
      "cell_type": "markdown",
      "metadata": {
        "id": "cnPAU066lLkq"
      },
      "source": [
        "# Polynomial Regression with SciKit-Learn\n"
      ]
    },
    {
      "cell_type": "markdown",
      "metadata": {
        "id": "-b0WDdkxlLkr"
      },
      "source": [
        "## Imports"
      ]
    },
    {
      "cell_type": "code",
      "execution_count": null,
      "metadata": {
        "id": "On4YGfYulLkr"
      },
      "outputs": [],
      "source": [
        "import numpy as np\n",
        "import pandas as pd\n",
        "import matplotlib.pyplot as plt\n",
        "import seaborn as sns"
      ]
    },
    {
      "cell_type": "markdown",
      "metadata": {
        "id": "AFqqfJMqlLkt"
      },
      "source": [
        "## Sample Data\n",
        "\n",
        "This sample data is from ISLR. It displays sales (in thousands of units) for a particular product as a function of advertising budgets (in thousands of dollars) for TV, radio, and newspaper media."
      ]
    },
    {
      "cell_type": "code",
      "execution_count": null,
      "metadata": {
        "id": "pCD-5GrrlLku"
      },
      "outputs": [],
      "source": [
        "df = pd.read_csv(\"Advertising.csv\")"
      ]
    },
    {
      "cell_type": "code",
      "execution_count": null,
      "metadata": {
        "id": "HUJMhDnvlLku",
        "outputId": "6185652d-68ce-4686-c284-030011845208"
      },
      "outputs": [
        {
          "data": {
            "text/html": [
              "<div>\n",
              "<style scoped>\n",
              "    .dataframe tbody tr th:only-of-type {\n",
              "        vertical-align: middle;\n",
              "    }\n",
              "\n",
              "    .dataframe tbody tr th {\n",
              "        vertical-align: top;\n",
              "    }\n",
              "\n",
              "    .dataframe thead th {\n",
              "        text-align: right;\n",
              "    }\n",
              "</style>\n",
              "<table border=\"1\" class=\"dataframe\">\n",
              "  <thead>\n",
              "    <tr style=\"text-align: right;\">\n",
              "      <th></th>\n",
              "      <th>TV</th>\n",
              "      <th>radio</th>\n",
              "      <th>newspaper</th>\n",
              "      <th>sales</th>\n",
              "    </tr>\n",
              "  </thead>\n",
              "  <tbody>\n",
              "    <tr>\n",
              "      <th>0</th>\n",
              "      <td>230.1</td>\n",
              "      <td>37.8</td>\n",
              "      <td>69.2</td>\n",
              "      <td>22.1</td>\n",
              "    </tr>\n",
              "    <tr>\n",
              "      <th>1</th>\n",
              "      <td>44.5</td>\n",
              "      <td>39.3</td>\n",
              "      <td>45.1</td>\n",
              "      <td>10.4</td>\n",
              "    </tr>\n",
              "    <tr>\n",
              "      <th>2</th>\n",
              "      <td>17.2</td>\n",
              "      <td>45.9</td>\n",
              "      <td>69.3</td>\n",
              "      <td>9.3</td>\n",
              "    </tr>\n",
              "    <tr>\n",
              "      <th>3</th>\n",
              "      <td>151.5</td>\n",
              "      <td>41.3</td>\n",
              "      <td>58.5</td>\n",
              "      <td>18.5</td>\n",
              "    </tr>\n",
              "    <tr>\n",
              "      <th>4</th>\n",
              "      <td>180.8</td>\n",
              "      <td>10.8</td>\n",
              "      <td>58.4</td>\n",
              "      <td>12.9</td>\n",
              "    </tr>\n",
              "  </tbody>\n",
              "</table>\n",
              "</div>"
            ],
            "text/plain": [
              "      TV  radio  newspaper  sales\n",
              "0  230.1   37.8       69.2   22.1\n",
              "1   44.5   39.3       45.1   10.4\n",
              "2   17.2   45.9       69.3    9.3\n",
              "3  151.5   41.3       58.5   18.5\n",
              "4  180.8   10.8       58.4   12.9"
            ]
          },
          "execution_count": 4,
          "metadata": {},
          "output_type": "execute_result"
        }
      ],
      "source": [
        "df.head()"
      ]
    },
    {
      "cell_type": "code",
      "execution_count": null,
      "metadata": {
        "id": "WHY9r5Z-lLkv"
      },
      "outputs": [],
      "source": [
        "\n",
        "X = df.drop('sales',axis=1)"
      ]
    },
    {
      "cell_type": "code",
      "execution_count": null,
      "metadata": {
        "id": "IiEw8R1LlLkw"
      },
      "outputs": [],
      "source": [
        "y = df['sales']"
      ]
    },
    {
      "cell_type": "markdown",
      "metadata": {
        "id": "Nlkr92-flLkw"
      },
      "source": [
        "## SciKit Learn \n",
        "\n",
        "---"
      ]
    },
    {
      "cell_type": "markdown",
      "metadata": {
        "id": "umsDgNwUlLkx"
      },
      "source": [
        "## Polynomial Regression"
      ]
    },
    {
      "cell_type": "markdown",
      "metadata": {
        "id": "CZne71jTlLky"
      },
      "source": [
        "**From Preprocessing, import PolynomialFeatures, which will help us transform our original data set by adding polynomial features**\n",
        "\n",
        "We will go from the equation in the form (shown here as if we only had one x feature):\n",
        "\n",
        "$$\\hat{y} = \\beta_0 + \\beta_1x_1 + \\epsilon $$\n",
        "\n",
        "and create more features from the original x feature for some *d* degree of polynomial.\n",
        "\n",
        "$$\\hat{y} = \\beta_0 + \\beta_1x_1 + \\beta_1x^2_1 +  ... + \\beta_dx^d_1 + \\epsilon$$\n",
        "\n",
        "Then we can call the linear regression model on it, since in reality, we're just treating these new polynomial features x^2, x^3, ... x^d as new features. Obviously we need to be careful about choosing the correct value of *d* , the degree of the model. Our metric results on the test set will help us with this!\n",
        "\n",
        "**The other thing to note here is we have multiple X features, not just a single one as in the formula above, so in reality, the PolynomialFeatures will also take *interaction* terms into account for example, if an input sample is two dimensional and of the form [a, b], the degree-2 polynomial features are [1, a, b, a^2, ab, b^2].**"
      ]
    },
    {
      "cell_type": "code",
      "execution_count": null,
      "metadata": {
        "id": "kEU9flimlLkz"
      },
      "outputs": [],
      "source": [
        "from sklearn.preprocessing import PolynomialFeatures"
      ]
    },
    {
      "cell_type": "code",
      "execution_count": null,
      "metadata": {
        "id": "t59aHJFOlLkz"
      },
      "outputs": [],
      "source": [
        "polynomial_converter = PolynomialFeatures(degree=2)"
      ]
    },
    {
      "cell_type": "code",
      "execution_count": null,
      "metadata": {
        "id": "Zek_OQgflLk0"
      },
      "outputs": [],
      "source": [
        "# Converter \"fits\" to data, in this case, reads in every X column\n",
        "# Then it \"transforms\" and ouputs the new polynomial data\n",
        "poly_features = polynomial_converter.fit_transform(X)"
      ]
    },
    {
      "cell_type": "markdown",
      "metadata": {
        "id": "kfzJwzpjlLk5"
      },
      "source": [
        "## Train | Test Split\n"
      ]
    },
    {
      "cell_type": "code",
      "execution_count": null,
      "metadata": {
        "id": "YmLDosjSlLk5"
      },
      "outputs": [],
      "source": [
        "from sklearn.model_selection import train_test_split"
      ]
    },
    {
      "cell_type": "code",
      "execution_count": null,
      "metadata": {
        "id": "hUyaGsGflLk5"
      },
      "outputs": [],
      "source": [
        "\n",
        "X_train, X_test, y_train, y_test = train_test_split(poly_features, y, test_size=0.3, random_state=101)"
      ]
    },
    {
      "cell_type": "markdown",
      "metadata": {
        "id": "UAN4n2b7lLk6"
      },
      "source": [
        "### Model for fitting on Polynomial Data\n",
        "\n",
        "#### Create an instance of the model with parameters"
      ]
    },
    {
      "cell_type": "code",
      "execution_count": null,
      "metadata": {
        "id": "PA7_QebVlLk6"
      },
      "outputs": [],
      "source": [
        "from sklearn.linear_model import LinearRegression"
      ]
    },
    {
      "cell_type": "code",
      "execution_count": null,
      "metadata": {
        "id": "Lm-r38PDlLk6"
      },
      "outputs": [],
      "source": [
        "model = LinearRegression()"
      ]
    },
    {
      "cell_type": "markdown",
      "metadata": {
        "id": "QwOsgnW5lLk6"
      },
      "source": [
        "### Fit/Train the Model on the training data\n",
        "\n",
        "**Make sure you only fit to the training data, in order to fairly evaluate your model's performance on future data**"
      ]
    },
    {
      "cell_type": "code",
      "execution_count": null,
      "metadata": {
        "id": "J3IjYTjolLk7",
        "outputId": "9f80e61a-9ef2-49f7-b8ba-44546564494c"
      },
      "outputs": [
        {
          "data": {
            "text/plain": [
              "LinearRegression(copy_X=True, fit_intercept=True, n_jobs=None, normalize=False)"
            ]
          },
          "execution_count": 24,
          "metadata": {},
          "output_type": "execute_result"
        }
      ],
      "source": [
        "model.fit(X_train,y_train)"
      ]
    },
    {
      "cell_type": "markdown",
      "metadata": {
        "id": "I5zDp41ZlLk7"
      },
      "source": [
        "\n",
        "-----\n",
        "\n",
        "## Evaluation on the Test Set"
      ]
    },
    {
      "cell_type": "markdown",
      "metadata": {
        "id": "fNQVpnoPlLk7"
      },
      "source": [
        "### Calculate Performance on Test Set\n",
        "\n",
        "We want to fairly evaluate our model, so we get performance metrics on the test set (data the model has never seen before)."
      ]
    },
    {
      "cell_type": "code",
      "execution_count": null,
      "metadata": {
        "id": "PE40PJLylLk8"
      },
      "outputs": [],
      "source": [
        "test_predictions = model.predict(X_test)"
      ]
    },
    {
      "cell_type": "code",
      "execution_count": null,
      "metadata": {
        "id": "8aRMwZyUlLk8"
      },
      "outputs": [],
      "source": [
        "from sklearn.metrics import mean_absolute_error,mean_squared_error"
      ]
    },
    {
      "cell_type": "code",
      "execution_count": null,
      "metadata": {
        "id": "yOEGwjYxlLk8"
      },
      "outputs": [],
      "source": [
        "MAE = mean_absolute_error(y_test,test_predictions)\n",
        "MSE = mean_squared_error(y_test,test_predictions)\n",
        "RMSE = np.sqrt(MSE)"
      ]
    },
    {
      "cell_type": "markdown",
      "metadata": {
        "id": "jT93r80ulLk-"
      },
      "source": [
        "### Comparison with Simple Linear Regression\n",
        "\n",
        "**Results on the Test Set (Note: Use the same Random Split to fairly compare!)**\n",
        "\n",
        "* Simple Linear Regression:\n",
        "    * MAE: 1.213\n",
        "    * RMSE: 1.516\n",
        "\n",
        "* Polynomial 2-degree:\n",
        "    * MAE: 0.4896\n",
        "    * RMSE: 0.664"
      ]
    },
    {
      "cell_type": "markdown",
      "metadata": {
        "id": "sR94JeqflLk-"
      },
      "source": [
        "---\n",
        "---\n",
        "## Choosing a Model\n",
        "\n",
        "### Adjusting Parameters\n",
        "\n",
        "Are we satisfied with this performance? Perhaps a higher order would improve performance even more! But how high is too high? It is now up to us to possibly go back and adjust our model and parameters, let's explore higher order Polynomials in a loop and plot out their error. This will nicely lead us into a discussion on Overfitting.\n",
        "\n",
        "Let's use a for loop to do the following:\n",
        "\n",
        "1. Create different order polynomial X data\n",
        "2. Split that polynomial data for train/test\n",
        "3. Fit on the training data\n",
        "4. Report back the metrics on *both* the train and test results\n",
        "5. Plot these results and explore overfitting"
      ]
    },
    {
      "cell_type": "code",
      "execution_count": null,
      "metadata": {
        "id": "HlPZv7XllLk-"
      },
      "outputs": [],
      "source": [
        "# TRAINING ERROR PER DEGREE\n",
        "train_rmse_errors = []\n",
        "# TEST ERROR PER DEGREE\n",
        "test_rmse_errors = []\n",
        "\n",
        "for d in range(1,10):\n",
        "    \n",
        "    # CREATE POLY DATA SET FOR DEGREE \"d\"\n",
        "    polynomial_converter = PolynomialFeatures(degree=d)\n",
        "    poly_features = polynomial_converter.fit_transform(X)\n",
        "    \n",
        "    # SPLIT THIS NEW POLY DATA SET\n",
        "    X_train, X_test, y_train, y_test = train_test_split(poly_features, y, test_size=0.3, random_state=101)\n",
        "    \n",
        "    # TRAIN ON THIS NEW POLY SET\n",
        "    model = LinearRegression()\n",
        "    model.fit(X_train,y_train)\n",
        "    \n",
        "    # PREDICT ON BOTH TRAIN AND TEST\n",
        "    train_pred = model.predict(X_train)\n",
        "    test_pred = model.predict(X_test)\n",
        "    \n",
        "    # Calculate Errors\n",
        "    \n",
        "    # Errors on Train Set\n",
        "    train_RMSE = np.sqrt(mean_squared_error(y_train,train_pred))\n",
        "    \n",
        "    # Errors on Test Set\n",
        "    test_RMSE = np.sqrt(mean_squared_error(y_test,test_pred))\n",
        "\n",
        "    # Append errors to lists for plotting later\n",
        "    \n",
        "   \n",
        "    train_rmse_errors.append(train_RMSE)\n",
        "    test_rmse_errors.append(test_RMSE)"
      ]
    },
    {
      "cell_type": "code",
      "execution_count": null,
      "metadata": {
        "id": "ztS2P7nOlLk_",
        "outputId": "7fcb0cef-ec7e-4e25-fe36-c04bf4d11b21"
      },
      "outputs": [
        {
          "data": {
            "text/plain": [
              "<matplotlib.legend.Legend at 0x168c1d7df08>"
            ]
          },
          "execution_count": 34,
          "metadata": {},
          "output_type": "execute_result"
        },
        {
          "data": {
            "image/png": "[encoded data removed]",
            "text/plain": [
              "<Figure size 432x288 with 1 Axes>"
            ]
          },
          "metadata": {
            "needs_background": "light"
          },
          "output_type": "display_data"
        }
      ],
      "source": [
        "plt.plot(range(1,10),train_rmse_errors,label='TRAIN')\n",
        "plt.plot(range(1,10),test_rmse_errors,label='TEST')\n",
        "plt.xlabel(\"Polynomial Complexity\")\n",
        "plt.ylabel(\"RMSE\")\n",
        "plt.legend()"
      ]
    },
    {
      "cell_type": "code",
      "execution_count": null,
      "metadata": {
        "id": "B6sp0NZNlLk_"
      },
      "outputs": [],
      "source": [
        "plt.plot(range(1,6),train_rmse_errors[:5],label='TRAIN')\n",
        "plt.plot(range(1,6),test_rmse_errors[:5],label='TEST')\n",
        "plt.xlabel(\"Polynomial Complexity\")\n",
        "plt.ylabel(\"RMSE\")\n",
        "plt.legend()"
      ]
    },
    {
      "cell_type": "markdown",
      "metadata": {
        "id": "tpIiv8fPlLlA"
      },
      "source": [
        "## Finalizing Model Choice\n",
        "\n"
      ]
    },
    {
      "cell_type": "code",
      "execution_count": null,
      "metadata": {
        "id": "K2xgyWg3lLlA"
      },
      "outputs": [],
      "source": [
        "# Based on our chart, could have also been degree=4, but \n",
        "# it is better to be on the safe side of complexity\n",
        "final_poly_converter = PolynomialFeatures(degree=3,include_bias=False)"
      ]
    },
    {
      "cell_type": "code",
      "execution_count": null,
      "metadata": {
        "id": "NIc9BlvPlLlB"
      },
      "outputs": [],
      "source": [
        "final_model = LinearRegression()"
      ]
    },
    {
      "cell_type": "code",
      "execution_count": null,
      "metadata": {
        "id": "cHBMO53hlLlB",
        "outputId": "9451a9e9-e116-4ead-cc8c-0e125fdaff63"
      },
      "outputs": [
        {
          "data": {
            "text/plain": [
              "LinearRegression(copy_X=True, fit_intercept=True, n_jobs=None, normalize=False)"
            ]
          },
          "execution_count": 45,
          "metadata": {},
          "output_type": "execute_result"
        }
      ],
      "source": [
        "final_model.fit(final_poly_converter.fit_transform(X),y)"
      ]
    },
    {
      "cell_type": "markdown",
      "metadata": {
        "id": "LNpy2fV6lLlC"
      },
      "source": [
        "##Predictions"
      ]
    },
    {
      "cell_type": "code",
      "execution_count": null,
      "metadata": {
        "id": "ukmT9NxBlLlD"
      },
      "outputs": [],
      "source": [
        "campaign = [[149,22,12]]"
      ]
    },
    {
      "cell_type": "code",
      "execution_count": null,
      "metadata": {
        "id": "bIoSFFA-lLlE"
      },
      "outputs": [],
      "source": [
        "campaign_poly = final_poly_converter.fit_transform(campaign)"
      ]
    },
    {
      "cell_type": "code",
      "execution_count": null,
      "metadata": {
        "id": "myBem8qFlLlE",
        "outputId": "6ce7bf52-bcae-42d7-a40b-062793353af6"
      },
      "outputs": [
        {
          "data": {
            "text/plain": [
              "array([14.64501014])"
            ]
          },
          "execution_count": 67,
          "metadata": {},
          "output_type": "execute_result"
        }
      ],
      "source": [
        "final_model.predict(campaign_poly)"
      ]
    },
    {
      "cell_type": "markdown",
      "metadata": {
        "id": "OIUKvUzwlLlF"
      },
      "source": [
        "-----\n",
        "---"
      ]
    }
  ],
  "metadata": {
    "anaconda-cloud": {},
    "kernelspec": {
      "display_name": "Python 3",
      "language": "python",
      "name": "python3"
    },
    "language_info": {
      "codemirror_mode": {
        "name": "ipython",
        "version": 3
      },
      "file_extension": ".py",
      "mimetype": "text/x-python",
      "name": "python",
      "nbconvert_exporter": "python",
      "pygments_lexer": "ipython3",
      "version": "3.7.3"
    },
    "colab": {
      "provenance": []
    }
  },
  "nbformat": 4,
  "nbformat_minor": 0
}