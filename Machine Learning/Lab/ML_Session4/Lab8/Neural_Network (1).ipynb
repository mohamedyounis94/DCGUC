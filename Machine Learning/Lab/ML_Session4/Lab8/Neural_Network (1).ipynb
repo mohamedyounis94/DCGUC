{
  "nbformat": 4,
  "nbformat_minor": 0,
  "metadata": {
    "colab": {
      "provenance": []
    },
    "kernelspec": {
      "name": "python3",
      "display_name": "Python 3"
    },
    "language_info": {
      "name": "python"
    }
  },
  "cells": [
    {
      "cell_type": "code",
      "execution_count": 1,
      "metadata": {
        "id": "W38PJQe2KsCj"
      },
      "outputs": [],
      "source": [
        "\n",
        "# Import necessary libraries\n",
        "import numpy as np\n",
        "import matplotlib.pyplot as plt\n",
        "import tensorflow as tf\n",
        "from sklearn.datasets import fetch_california_housing\n",
        "from sklearn.model_selection import train_test_split\n",
        "from sklearn.preprocessing import StandardScaler"
      ]
    },
    {
      "cell_type": "code",
      "source": [
        "# Load the California housing dataset\n",
        "housing = fetch_california_housing()\n",
        "\n",
        "# Feature scaling\n",
        "scaler = StandardScaler()\n",
        "X_scaled = scaler.fit_transform(housing.data)\n",
        "y = housing.target.reshape(-1, 1)\n",
        "\n",
        "# Split the data into training and testing sets\n",
        "X_train, X_test, y_train, y_test = train_test_split(X_scaled, y, test_size=0.2, random_state=42)"
      ],
      "metadata": {
        "id": "cMfyvSLhLJNg"
      },
      "execution_count": 3,
      "outputs": []
    },
    {
      "cell_type": "code",
      "source": [
        "# Create a simple neural network model using Sequential API\n",
        "model = tf.keras.Sequential([\n",
        "    tf.keras.layers.Dense(units=1, input_dim=X_train.shape[1], activation='linear')\n",
        "])\n",
        "\n",
        "# Compile the model\n",
        "model.compile(optimizer='adam', loss='mean_squared_error')\n",
        "\n",
        "# Train the model\n",
        "history = model.fit(X_train, y_train, epochs=50, batch_size=8, verbose=1)"
      ],
      "metadata": {
        "colab": {
          "base_uri": "https://localhost:8080/"
        },
        "id": "sWVYZB-dLKD4",
        "outputId": "d1184549-1322-4abf-9846-a48bed2bd4c9"
      },
      "execution_count": 4,
      "outputs": [
        {
          "output_type": "stream",
          "name": "stdout",
          "text": [
            "Epoch 1/50\n",
            "2064/2064 [==============================] - 10s 4ms/step - loss: 3.2627\n",
            "Epoch 2/50\n",
            "2064/2064 [==============================] - 4s 2ms/step - loss: 0.7088\n",
            "Epoch 3/50\n",
            "2064/2064 [==============================] - 5s 3ms/step - loss: 0.5632\n",
            "Epoch 4/50\n",
            "2064/2064 [==============================] - 4s 2ms/step - loss: 0.5370\n",
            "Epoch 5/50\n",
            "2064/2064 [==============================] - 4s 2ms/step - loss: 0.5270\n",
            "Epoch 6/50\n",
            "2064/2064 [==============================] - 5s 2ms/step - loss: 0.5233\n",
            "Epoch 7/50\n",
            "2064/2064 [==============================] - 4s 2ms/step - loss: 0.5213\n",
            "Epoch 8/50\n",
            "2064/2064 [==============================] - 4s 2ms/step - loss: 0.5212\n",
            "Epoch 9/50\n",
            "2064/2064 [==============================] - 5s 2ms/step - loss: 0.5198\n",
            "Epoch 10/50\n",
            "2064/2064 [==============================] - 5s 2ms/step - loss: 0.5225\n",
            "Epoch 11/50\n",
            "2064/2064 [==============================] - 4s 2ms/step - loss: 0.5199\n",
            "Epoch 12/50\n",
            "2064/2064 [==============================] - 4s 2ms/step - loss: 0.5207\n",
            "Epoch 13/50\n",
            "2064/2064 [==============================] - 5s 3ms/step - loss: 0.5201\n",
            "Epoch 14/50\n",
            "2064/2064 [==============================] - 4s 2ms/step - loss: 0.5220\n",
            "Epoch 15/50\n",
            "2064/2064 [==============================] - 4s 2ms/step - loss: 0.5201\n",
            "Epoch 16/50\n",
            "2064/2064 [==============================] - 6s 3ms/step - loss: 0.5203\n",
            "Epoch 17/50\n",
            "2064/2064 [==============================] - 4s 2ms/step - loss: 0.5201\n",
            "Epoch 18/50\n",
            "2064/2064 [==============================] - 4s 2ms/step - loss: 0.5203\n",
            "Epoch 19/50\n",
            "2064/2064 [==============================] - 5s 3ms/step - loss: 0.5196\n",
            "Epoch 20/50\n",
            "2064/2064 [==============================] - 4s 2ms/step - loss: 0.5227\n",
            "Epoch 21/50\n",
            "2064/2064 [==============================] - 4s 2ms/step - loss: 0.5205\n",
            "Epoch 22/50\n",
            "2064/2064 [==============================] - 5s 2ms/step - loss: 0.5202\n",
            "Epoch 23/50\n",
            "2064/2064 [==============================] - 6s 3ms/step - loss: 0.5203\n",
            "Epoch 24/50\n",
            "2064/2064 [==============================] - 4s 2ms/step - loss: 0.5233\n",
            "Epoch 25/50\n",
            "2064/2064 [==============================] - 5s 2ms/step - loss: 0.5188\n",
            "Epoch 26/50\n",
            "2064/2064 [==============================] - 4s 2ms/step - loss: 0.5203\n",
            "Epoch 27/50\n",
            "2064/2064 [==============================] - 4s 2ms/step - loss: 0.5202\n",
            "Epoch 28/50\n",
            "2064/2064 [==============================] - 5s 2ms/step - loss: 0.5203\n",
            "Epoch 29/50\n",
            "2064/2064 [==============================] - 5s 2ms/step - loss: 0.5207\n",
            "Epoch 30/50\n",
            "2064/2064 [==============================] - 4s 2ms/step - loss: 0.5204\n",
            "Epoch 31/50\n",
            "2064/2064 [==============================] - 4s 2ms/step - loss: 0.5199\n",
            "Epoch 32/50\n",
            "2064/2064 [==============================] - 5s 2ms/step - loss: 0.5225\n",
            "Epoch 33/50\n",
            "2064/2064 [==============================] - 4s 2ms/step - loss: 0.5200\n",
            "Epoch 34/50\n",
            "2064/2064 [==============================] - 4s 2ms/step - loss: 0.5205\n",
            "Epoch 35/50\n",
            "2064/2064 [==============================] - 5s 3ms/step - loss: 0.5203\n",
            "Epoch 36/50\n",
            "2064/2064 [==============================] - 4s 2ms/step - loss: 0.5204\n",
            "Epoch 37/50\n",
            "2064/2064 [==============================] - 4s 2ms/step - loss: 0.5205\n",
            "Epoch 38/50\n",
            "2064/2064 [==============================] - 5s 3ms/step - loss: 0.5217\n",
            "Epoch 39/50\n",
            "2064/2064 [==============================] - 4s 2ms/step - loss: 0.5197\n",
            "Epoch 40/50\n",
            "2064/2064 [==============================] - 4s 2ms/step - loss: 0.5202\n",
            "Epoch 41/50\n",
            "2064/2064 [==============================] - 5s 2ms/step - loss: 0.5212\n",
            "Epoch 42/50\n",
            "2064/2064 [==============================] - 4s 2ms/step - loss: 0.5203\n",
            "Epoch 43/50\n",
            "2064/2064 [==============================] - 4s 2ms/step - loss: 0.5202\n",
            "Epoch 44/50\n",
            "2064/2064 [==============================] - 5s 2ms/step - loss: 0.5205\n",
            "Epoch 45/50\n",
            "2064/2064 [==============================] - 5s 2ms/step - loss: 0.5210\n",
            "Epoch 46/50\n",
            "2064/2064 [==============================] - 4s 2ms/step - loss: 0.5199\n",
            "Epoch 47/50\n",
            "2064/2064 [==============================] - 4s 2ms/step - loss: 0.5207\n",
            "Epoch 48/50\n",
            "2064/2064 [==============================] - 5s 3ms/step - loss: 0.5203\n",
            "Epoch 49/50\n",
            "2064/2064 [==============================] - 4s 2ms/step - loss: 0.5199\n",
            "Epoch 50/50\n",
            "2064/2064 [==============================] - 4s 2ms/step - loss: 0.5200\n"
          ]
        }
      ]
    },
    {
      "cell_type": "code",
      "source": [],
      "metadata": {
        "id": "Hm1JqZrCOYlu"
      },
      "execution_count": null,
      "outputs": []
    },
    {
      "cell_type": "code",
      "source": [
        "# Evaluate the model on the test set\n",
        "loss = model.evaluate(X_test, y_test, verbose=0)\n",
        "print(f'Mean Squared Error on Test Data: {loss}')\n",
        "\n",
        "# Make predictions using the trained model\n",
        "y_pred = model.predict(X_test)\n",
        "\n",
        "# Plot the results\n",
        "plt.scatter(y_test, y_pred)\n",
        "plt.xlabel('Actual Prices')\n",
        "plt.ylabel('Predicted Prices')\n",
        "plt.title('Neural Network Regression - California Housing Dataset (Larger Layers)')\n",
        "plt.show()\n"
      ],
      "metadata": {
        "colab": {
          "base_uri": "https://localhost:8080/",
          "height": 507
        },
        "id": "DGsq-bN7Ll9O",
        "outputId": "4df49cd3-c078-4855-bdb6-a18a3232bb83"
      },
      "execution_count": 7,
      "outputs": [
        {
          "output_type": "stream",
          "name": "stdout",
          "text": [
            "Mean Squared Error on Test Data: 0.5512658357620239\n",
            "129/129 [==============================] - 1s 4ms/step\n"
          ]
        },
        {
          "output_type": "display_data",
          "data": {
            "text/plain": [
              "<Figure size 640x480 with 1 Axes>"
            ],
            "image/png": "[encoded data removed]"
          },
          "metadata": {}
        }
      ]
    },
    {
      "cell_type": "code",
      "source": [
        "# Create a neural network model with larger layers\n",
        "model2 = tf.keras.Sequential([\n",
        "    tf.keras.layers.Dense(units=64, input_dim=X_train.shape[1], activation='relu'),\n",
        "    tf.keras.layers.Dense(units=32, activation='relu'),\n",
        "    tf.keras.layers.Dense(units=1, activation='linear')\n",
        "])"
      ],
      "metadata": {
        "id": "klObRA-rOBOf"
      },
      "execution_count": 9,
      "outputs": []
    },
    {
      "cell_type": "code",
      "source": [
        "# Compile the model\n",
        "model2.compile(optimizer='adam', loss='mean_squared_error')\n",
        "\n",
        "# Train the model\n",
        "history = model2.fit(X_train, y_train, epochs=50, batch_size=8, verbose=1)\n",
        "\n",
        "# Evaluate the model on the test set\n",
        "loss = model.evaluate(X_test, y_test, verbose=0)\n",
        "print(f'Mean Squared Error on Test Data: {loss}')\n",
        "\n",
        "# Make predictions using the trained model\n",
        "y_pred2 = model.predict(X_test)\n",
        "\n",
        "# Plot the results\n",
        "plt.scatter(y_test, y_pred2)\n",
        "plt.xlabel('Actual Prices')\n",
        "plt.ylabel('Predicted Prices')\n",
        "plt.title('Neural Network Regression - California Housing Dataset (Larger Layers)')\n",
        "plt.show()"
      ],
      "metadata": {
        "colab": {
          "base_uri": "https://localhost:8080/"
        },
        "id": "90Wd9_kiV8WL",
        "outputId": "5505236e-b122-4b98-ee4a-c410298a3913"
      },
      "execution_count": null,
      "outputs": [
        {
          "output_type": "stream",
          "name": "stdout",
          "text": [
            "Epoch 1/50\n",
            "2064/2064 [==============================] - 7s 3ms/step - loss: 0.5837\n",
            "Epoch 2/50\n",
            "2064/2064 [==============================] - 6s 3ms/step - loss: 0.4265\n",
            "Epoch 3/50\n",
            "2064/2064 [==============================] - 6s 3ms/step - loss: 0.3476\n",
            "Epoch 4/50\n",
            "2064/2064 [==============================] - 5s 3ms/step - loss: 0.3376\n",
            "Epoch 5/50\n",
            "2064/2064 [==============================] - 6s 3ms/step - loss: 0.3149\n",
            "Epoch 6/50\n",
            "2064/2064 [==============================] - 5s 3ms/step - loss: 0.3145\n",
            "Epoch 7/50\n",
            "2064/2064 [==============================] - 6s 3ms/step - loss: 0.3069\n",
            "Epoch 8/50\n",
            "2064/2064 [==============================] - 6s 3ms/step - loss: 0.3155\n",
            "Epoch 9/50\n",
            "2064/2064 [==============================] - 5s 2ms/step - loss: 0.2957\n",
            "Epoch 10/50\n",
            "2064/2064 [==============================] - 6s 3ms/step - loss: 0.3019\n",
            "Epoch 11/50\n",
            "2064/2064 [==============================] - 5s 2ms/step - loss: 0.2916\n",
            "Epoch 12/50\n",
            "2064/2064 [==============================] - 6s 3ms/step - loss: 0.2863\n",
            "Epoch 13/50\n",
            "2064/2064 [==============================] - 6s 3ms/step - loss: 0.2890\n",
            "Epoch 14/50\n",
            "2064/2064 [==============================] - 5s 2ms/step - loss: 0.2801\n",
            "Epoch 15/50\n",
            "2064/2064 [==============================] - 6s 3ms/step - loss: 0.2802\n",
            "Epoch 16/50\n",
            "2064/2064 [==============================] - 5s 2ms/step - loss: 0.2769\n",
            "Epoch 17/50\n",
            "2064/2064 [==============================] - 7s 4ms/step - loss: 0.2744\n",
            "Epoch 18/50\n",
            "2064/2064 [==============================] - 6s 3ms/step - loss: 0.2706\n",
            "Epoch 19/50\n",
            "2064/2064 [==============================] - 5s 2ms/step - loss: 0.2669\n",
            "Epoch 20/50\n",
            "2064/2064 [==============================] - 6s 3ms/step - loss: 0.2723\n",
            "Epoch 21/50\n",
            "2064/2064 [==============================] - 5s 2ms/step - loss: 0.2661\n",
            "Epoch 22/50\n",
            " 637/2064 [========>.....................] - ETA: 3s - loss: 0.2581"
          ]
        }
      ]
    },
    {
      "cell_type": "code",
      "source": [],
      "metadata": {
        "id": "S1on6t2lWDXz"
      },
      "execution_count": null,
      "outputs": []
    }
  ]
}